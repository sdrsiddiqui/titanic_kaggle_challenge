{
 "cells": [
  {
   "cell_type": "code",
   "execution_count": 1,
   "metadata": {
    "collapsed": true
   },
   "outputs": [],
   "source": [
    "# imports\n",
    "import os\n",
    "import pandas as pd\n",
    "import numpy as np"
   ]
  },
  {
   "cell_type": "markdown",
   "metadata": {},
   "source": [
    "#### import data"
   ]
  },
  {
   "cell_type": "code",
   "execution_count": 2,
   "metadata": {
    "collapsed": false
   },
   "outputs": [
    {
     "name": "stdout",
     "output_type": "stream",
     "text": [
      "../data/raw\n"
     ]
    }
   ],
   "source": [
    "raw_data_path = os.path.join(os.path.pardir,'data', 'raw')\n",
    "print raw_data_path"
   ]
  },
  {
   "cell_type": "code",
   "execution_count": 3,
   "metadata": {
    "collapsed": true
   },
   "outputs": [],
   "source": [
    "test_file_data = os.path.join(raw_data_path,'test.csv' )\n",
    "train_file_data = os.path.join(raw_data_path, 'train.csv')"
   ]
  },
  {
   "cell_type": "code",
   "execution_count": null,
   "metadata": {
    "collapsed": true
   },
   "outputs": [],
   "source": []
  },
  {
   "cell_type": "code",
   "execution_count": 4,
   "metadata": {
    "collapsed": false
   },
   "outputs": [],
   "source": [
    "#read the data with all default parameters\n",
    "train_df = pd.read_csv(train_file_data, index_col='PassengerId')\n",
    "test_df = pd.read_csv(test_file_data, index_col='PassengerId')"
   ]
  },
  {
   "cell_type": "code",
   "execution_count": 5,
   "metadata": {
    "collapsed": false
   },
   "outputs": [
    {
     "data": {
      "text/plain": [
       "pandas.core.frame.DataFrame"
      ]
     },
     "execution_count": 5,
     "metadata": {},
     "output_type": "execute_result"
    }
   ],
   "source": [
    "type(train_df)"
   ]
  },
  {
   "cell_type": "markdown",
   "metadata": {},
   "source": [
    "#### Getting basic structure"
   ]
  },
  {
   "cell_type": "code",
   "execution_count": 6,
   "metadata": {
    "collapsed": false
   },
   "outputs": [
    {
     "name": "stdout",
     "output_type": "stream",
     "text": [
      "<class 'pandas.core.frame.DataFrame'>\n",
      "Int64Index: 891 entries, 1 to 891\n",
      "Data columns (total 11 columns):\n",
      "Survived    891 non-null int64\n",
      "Pclass      891 non-null int64\n",
      "Name        891 non-null object\n",
      "Sex         891 non-null object\n",
      "Age         714 non-null float64\n",
      "SibSp       891 non-null int64\n",
      "Parch       891 non-null int64\n",
      "Ticket      891 non-null object\n",
      "Fare        891 non-null float64\n",
      "Cabin       204 non-null object\n",
      "Embarked    889 non-null object\n",
      "dtypes: float64(2), int64(4), object(5)\n",
      "memory usage: 83.5+ KB\n"
     ]
    }
   ],
   "source": [
    "# use .info() gives brief information about the dataframe\n",
    "train_df.info()"
   ]
  },
  {
   "cell_type": "code",
   "execution_count": 7,
   "metadata": {
    "collapsed": false
   },
   "outputs": [
    {
     "name": "stdout",
     "output_type": "stream",
     "text": [
      "<class 'pandas.core.frame.DataFrame'>\n",
      "Int64Index: 418 entries, 892 to 1309\n",
      "Data columns (total 10 columns):\n",
      "Pclass      418 non-null int64\n",
      "Name        418 non-null object\n",
      "Sex         418 non-null object\n",
      "Age         332 non-null float64\n",
      "SibSp       418 non-null int64\n",
      "Parch       418 non-null int64\n",
      "Ticket      418 non-null object\n",
      "Fare        417 non-null float64\n",
      "Cabin       91 non-null object\n",
      "Embarked    418 non-null object\n",
      "dtypes: float64(2), int64(3), object(5)\n",
      "memory usage: 35.9+ KB\n"
     ]
    }
   ],
   "source": [
    "test_df.info()"
   ]
  },
  {
   "cell_type": "code",
   "execution_count": 8,
   "metadata": {
    "collapsed": true
   },
   "outputs": [],
   "source": [
    "# we don't have Survived column in test data\n",
    "test_df['Survived'] = -888  "
   ]
  },
  {
   "cell_type": "code",
   "execution_count": 9,
   "metadata": {
    "collapsed": false
   },
   "outputs": [],
   "source": [
    "df = pd.concat((train_df,  test_df), axis=0)"
   ]
  },
  {
   "cell_type": "code",
   "execution_count": 10,
   "metadata": {
    "collapsed": false
   },
   "outputs": [
    {
     "name": "stdout",
     "output_type": "stream",
     "text": [
      "<class 'pandas.core.frame.DataFrame'>\n",
      "Int64Index: 1309 entries, 1 to 1309\n",
      "Data columns (total 11 columns):\n",
      "Age         1046 non-null float64\n",
      "Cabin       295 non-null object\n",
      "Embarked    1307 non-null object\n",
      "Fare        1308 non-null float64\n",
      "Name        1309 non-null object\n",
      "Parch       1309 non-null int64\n",
      "Pclass      1309 non-null int64\n",
      "Sex         1309 non-null object\n",
      "SibSp       1309 non-null int64\n",
      "Survived    1309 non-null int64\n",
      "Ticket      1309 non-null object\n",
      "dtypes: float64(2), int64(4), object(5)\n",
      "memory usage: 122.7+ KB\n"
     ]
    }
   ],
   "source": [
    "df.info()"
   ]
  },
  {
   "cell_type": "code",
   "execution_count": 11,
   "metadata": {
    "collapsed": false
   },
   "outputs": [
    {
     "data": {
      "text/html": [
       "<div>\n",
       "<table border=\"1\" class=\"dataframe\">\n",
       "  <thead>\n",
       "    <tr style=\"text-align: right;\">\n",
       "      <th></th>\n",
       "      <th>Age</th>\n",
       "      <th>Cabin</th>\n",
       "      <th>Embarked</th>\n",
       "      <th>Fare</th>\n",
       "      <th>Name</th>\n",
       "      <th>Parch</th>\n",
       "      <th>Pclass</th>\n",
       "      <th>Sex</th>\n",
       "      <th>SibSp</th>\n",
       "      <th>Survived</th>\n",
       "      <th>Ticket</th>\n",
       "    </tr>\n",
       "    <tr>\n",
       "      <th>PassengerId</th>\n",
       "      <th></th>\n",
       "      <th></th>\n",
       "      <th></th>\n",
       "      <th></th>\n",
       "      <th></th>\n",
       "      <th></th>\n",
       "      <th></th>\n",
       "      <th></th>\n",
       "      <th></th>\n",
       "      <th></th>\n",
       "      <th></th>\n",
       "    </tr>\n",
       "  </thead>\n",
       "  <tbody>\n",
       "    <tr>\n",
       "      <th>1</th>\n",
       "      <td>22.0</td>\n",
       "      <td>NaN</td>\n",
       "      <td>S</td>\n",
       "      <td>7.2500</td>\n",
       "      <td>Braund, Mr. Owen Harris</td>\n",
       "      <td>0</td>\n",
       "      <td>3</td>\n",
       "      <td>male</td>\n",
       "      <td>1</td>\n",
       "      <td>0</td>\n",
       "      <td>A/5 21171</td>\n",
       "    </tr>\n",
       "    <tr>\n",
       "      <th>2</th>\n",
       "      <td>38.0</td>\n",
       "      <td>C85</td>\n",
       "      <td>C</td>\n",
       "      <td>71.2833</td>\n",
       "      <td>Cumings, Mrs. John Bradley (Florence Briggs Th...</td>\n",
       "      <td>0</td>\n",
       "      <td>1</td>\n",
       "      <td>female</td>\n",
       "      <td>1</td>\n",
       "      <td>1</td>\n",
       "      <td>PC 17599</td>\n",
       "    </tr>\n",
       "    <tr>\n",
       "      <th>3</th>\n",
       "      <td>26.0</td>\n",
       "      <td>NaN</td>\n",
       "      <td>S</td>\n",
       "      <td>7.9250</td>\n",
       "      <td>Heikkinen, Miss. Laina</td>\n",
       "      <td>0</td>\n",
       "      <td>3</td>\n",
       "      <td>female</td>\n",
       "      <td>0</td>\n",
       "      <td>1</td>\n",
       "      <td>STON/O2. 3101282</td>\n",
       "    </tr>\n",
       "    <tr>\n",
       "      <th>4</th>\n",
       "      <td>35.0</td>\n",
       "      <td>C123</td>\n",
       "      <td>S</td>\n",
       "      <td>53.1000</td>\n",
       "      <td>Futrelle, Mrs. Jacques Heath (Lily May Peel)</td>\n",
       "      <td>0</td>\n",
       "      <td>1</td>\n",
       "      <td>female</td>\n",
       "      <td>1</td>\n",
       "      <td>1</td>\n",
       "      <td>113803</td>\n",
       "    </tr>\n",
       "    <tr>\n",
       "      <th>5</th>\n",
       "      <td>35.0</td>\n",
       "      <td>NaN</td>\n",
       "      <td>S</td>\n",
       "      <td>8.0500</td>\n",
       "      <td>Allen, Mr. William Henry</td>\n",
       "      <td>0</td>\n",
       "      <td>3</td>\n",
       "      <td>male</td>\n",
       "      <td>0</td>\n",
       "      <td>0</td>\n",
       "      <td>373450</td>\n",
       "    </tr>\n",
       "  </tbody>\n",
       "</table>\n",
       "</div>"
      ],
      "text/plain": [
       "              Age Cabin Embarked     Fare  \\\n",
       "PassengerId                                 \n",
       "1            22.0   NaN        S   7.2500   \n",
       "2            38.0   C85        C  71.2833   \n",
       "3            26.0   NaN        S   7.9250   \n",
       "4            35.0  C123        S  53.1000   \n",
       "5            35.0   NaN        S   8.0500   \n",
       "\n",
       "                                                          Name  Parch  Pclass  \\\n",
       "PassengerId                                                                     \n",
       "1                                      Braund, Mr. Owen Harris      0       3   \n",
       "2            Cumings, Mrs. John Bradley (Florence Briggs Th...      0       1   \n",
       "3                                       Heikkinen, Miss. Laina      0       3   \n",
       "4                 Futrelle, Mrs. Jacques Heath (Lily May Peel)      0       1   \n",
       "5                                     Allen, Mr. William Henry      0       3   \n",
       "\n",
       "                Sex  SibSp  Survived            Ticket  \n",
       "PassengerId                                             \n",
       "1              male      1         0         A/5 21171  \n",
       "2            female      1         1          PC 17599  \n",
       "3            female      0         1  STON/O2. 3101282  \n",
       "4            female      1         1            113803  \n",
       "5              male      0         0            373450  "
      ]
     },
     "execution_count": 11,
     "metadata": {},
     "output_type": "execute_result"
    }
   ],
   "source": [
    "df.head()"
   ]
  },
  {
   "cell_type": "code",
   "execution_count": 12,
   "metadata": {
    "collapsed": false
   },
   "outputs": [
    {
     "data": {
      "text/html": [
       "<div>\n",
       "<table border=\"1\" class=\"dataframe\">\n",
       "  <thead>\n",
       "    <tr style=\"text-align: right;\">\n",
       "      <th></th>\n",
       "      <th>Age</th>\n",
       "      <th>Cabin</th>\n",
       "      <th>Embarked</th>\n",
       "      <th>Fare</th>\n",
       "      <th>Name</th>\n",
       "      <th>Parch</th>\n",
       "      <th>Pclass</th>\n",
       "      <th>Sex</th>\n",
       "      <th>SibSp</th>\n",
       "      <th>Survived</th>\n",
       "      <th>Ticket</th>\n",
       "    </tr>\n",
       "    <tr>\n",
       "      <th>PassengerId</th>\n",
       "      <th></th>\n",
       "      <th></th>\n",
       "      <th></th>\n",
       "      <th></th>\n",
       "      <th></th>\n",
       "      <th></th>\n",
       "      <th></th>\n",
       "      <th></th>\n",
       "      <th></th>\n",
       "      <th></th>\n",
       "      <th></th>\n",
       "    </tr>\n",
       "  </thead>\n",
       "  <tbody>\n",
       "    <tr>\n",
       "      <th>1</th>\n",
       "      <td>22.0</td>\n",
       "      <td>NaN</td>\n",
       "      <td>S</td>\n",
       "      <td>7.2500</td>\n",
       "      <td>Braund, Mr. Owen Harris</td>\n",
       "      <td>0</td>\n",
       "      <td>3</td>\n",
       "      <td>male</td>\n",
       "      <td>1</td>\n",
       "      <td>0</td>\n",
       "      <td>A/5 21171</td>\n",
       "    </tr>\n",
       "    <tr>\n",
       "      <th>2</th>\n",
       "      <td>38.0</td>\n",
       "      <td>C85</td>\n",
       "      <td>C</td>\n",
       "      <td>71.2833</td>\n",
       "      <td>Cumings, Mrs. John Bradley (Florence Briggs Th...</td>\n",
       "      <td>0</td>\n",
       "      <td>1</td>\n",
       "      <td>female</td>\n",
       "      <td>1</td>\n",
       "      <td>1</td>\n",
       "      <td>PC 17599</td>\n",
       "    </tr>\n",
       "    <tr>\n",
       "      <th>3</th>\n",
       "      <td>26.0</td>\n",
       "      <td>NaN</td>\n",
       "      <td>S</td>\n",
       "      <td>7.9250</td>\n",
       "      <td>Heikkinen, Miss. Laina</td>\n",
       "      <td>0</td>\n",
       "      <td>3</td>\n",
       "      <td>female</td>\n",
       "      <td>0</td>\n",
       "      <td>1</td>\n",
       "      <td>STON/O2. 3101282</td>\n",
       "    </tr>\n",
       "    <tr>\n",
       "      <th>4</th>\n",
       "      <td>35.0</td>\n",
       "      <td>C123</td>\n",
       "      <td>S</td>\n",
       "      <td>53.1000</td>\n",
       "      <td>Futrelle, Mrs. Jacques Heath (Lily May Peel)</td>\n",
       "      <td>0</td>\n",
       "      <td>1</td>\n",
       "      <td>female</td>\n",
       "      <td>1</td>\n",
       "      <td>1</td>\n",
       "      <td>113803</td>\n",
       "    </tr>\n",
       "    <tr>\n",
       "      <th>5</th>\n",
       "      <td>35.0</td>\n",
       "      <td>NaN</td>\n",
       "      <td>S</td>\n",
       "      <td>8.0500</td>\n",
       "      <td>Allen, Mr. William Henry</td>\n",
       "      <td>0</td>\n",
       "      <td>3</td>\n",
       "      <td>male</td>\n",
       "      <td>0</td>\n",
       "      <td>0</td>\n",
       "      <td>373450</td>\n",
       "    </tr>\n",
       "    <tr>\n",
       "      <th>6</th>\n",
       "      <td>NaN</td>\n",
       "      <td>NaN</td>\n",
       "      <td>Q</td>\n",
       "      <td>8.4583</td>\n",
       "      <td>Moran, Mr. James</td>\n",
       "      <td>0</td>\n",
       "      <td>3</td>\n",
       "      <td>male</td>\n",
       "      <td>0</td>\n",
       "      <td>0</td>\n",
       "      <td>330877</td>\n",
       "    </tr>\n",
       "    <tr>\n",
       "      <th>7</th>\n",
       "      <td>54.0</td>\n",
       "      <td>E46</td>\n",
       "      <td>S</td>\n",
       "      <td>51.8625</td>\n",
       "      <td>McCarthy, Mr. Timothy J</td>\n",
       "      <td>0</td>\n",
       "      <td>1</td>\n",
       "      <td>male</td>\n",
       "      <td>0</td>\n",
       "      <td>0</td>\n",
       "      <td>17463</td>\n",
       "    </tr>\n",
       "    <tr>\n",
       "      <th>8</th>\n",
       "      <td>2.0</td>\n",
       "      <td>NaN</td>\n",
       "      <td>S</td>\n",
       "      <td>21.0750</td>\n",
       "      <td>Palsson, Master. Gosta Leonard</td>\n",
       "      <td>1</td>\n",
       "      <td>3</td>\n",
       "      <td>male</td>\n",
       "      <td>3</td>\n",
       "      <td>0</td>\n",
       "      <td>349909</td>\n",
       "    </tr>\n",
       "    <tr>\n",
       "      <th>9</th>\n",
       "      <td>27.0</td>\n",
       "      <td>NaN</td>\n",
       "      <td>S</td>\n",
       "      <td>11.1333</td>\n",
       "      <td>Johnson, Mrs. Oscar W (Elisabeth Vilhelmina Berg)</td>\n",
       "      <td>2</td>\n",
       "      <td>3</td>\n",
       "      <td>female</td>\n",
       "      <td>0</td>\n",
       "      <td>1</td>\n",
       "      <td>347742</td>\n",
       "    </tr>\n",
       "    <tr>\n",
       "      <th>10</th>\n",
       "      <td>14.0</td>\n",
       "      <td>NaN</td>\n",
       "      <td>C</td>\n",
       "      <td>30.0708</td>\n",
       "      <td>Nasser, Mrs. Nicholas (Adele Achem)</td>\n",
       "      <td>0</td>\n",
       "      <td>2</td>\n",
       "      <td>female</td>\n",
       "      <td>1</td>\n",
       "      <td>1</td>\n",
       "      <td>237736</td>\n",
       "    </tr>\n",
       "  </tbody>\n",
       "</table>\n",
       "</div>"
      ],
      "text/plain": [
       "              Age Cabin Embarked     Fare  \\\n",
       "PassengerId                                 \n",
       "1            22.0   NaN        S   7.2500   \n",
       "2            38.0   C85        C  71.2833   \n",
       "3            26.0   NaN        S   7.9250   \n",
       "4            35.0  C123        S  53.1000   \n",
       "5            35.0   NaN        S   8.0500   \n",
       "6             NaN   NaN        Q   8.4583   \n",
       "7            54.0   E46        S  51.8625   \n",
       "8             2.0   NaN        S  21.0750   \n",
       "9            27.0   NaN        S  11.1333   \n",
       "10           14.0   NaN        C  30.0708   \n",
       "\n",
       "                                                          Name  Parch  Pclass  \\\n",
       "PassengerId                                                                     \n",
       "1                                      Braund, Mr. Owen Harris      0       3   \n",
       "2            Cumings, Mrs. John Bradley (Florence Briggs Th...      0       1   \n",
       "3                                       Heikkinen, Miss. Laina      0       3   \n",
       "4                 Futrelle, Mrs. Jacques Heath (Lily May Peel)      0       1   \n",
       "5                                     Allen, Mr. William Henry      0       3   \n",
       "6                                             Moran, Mr. James      0       3   \n",
       "7                                      McCarthy, Mr. Timothy J      0       1   \n",
       "8                               Palsson, Master. Gosta Leonard      1       3   \n",
       "9            Johnson, Mrs. Oscar W (Elisabeth Vilhelmina Berg)      2       3   \n",
       "10                         Nasser, Mrs. Nicholas (Adele Achem)      0       2   \n",
       "\n",
       "                Sex  SibSp  Survived            Ticket  \n",
       "PassengerId                                             \n",
       "1              male      1         0         A/5 21171  \n",
       "2            female      1         1          PC 17599  \n",
       "3            female      0         1  STON/O2. 3101282  \n",
       "4            female      1         1            113803  \n",
       "5              male      0         0            373450  \n",
       "6              male      0         0            330877  \n",
       "7              male      0         0             17463  \n",
       "8              male      3         0            349909  \n",
       "9            female      0         1            347742  \n",
       "10           female      1         1            237736  "
      ]
     },
     "execution_count": 12,
     "metadata": {},
     "output_type": "execute_result"
    }
   ],
   "source": [
    "df.head(10)"
   ]
  },
  {
   "cell_type": "code",
   "execution_count": 13,
   "metadata": {
    "collapsed": false
   },
   "outputs": [
    {
     "data": {
      "text/plain": [
       "PassengerId\n",
       "1                                 Braund, Mr. Owen Harris\n",
       "2       Cumings, Mrs. John Bradley (Florence Briggs Th...\n",
       "3                                  Heikkinen, Miss. Laina\n",
       "4            Futrelle, Mrs. Jacques Heath (Lily May Peel)\n",
       "5                                Allen, Mr. William Henry\n",
       "6                                        Moran, Mr. James\n",
       "7                                 McCarthy, Mr. Timothy J\n",
       "8                          Palsson, Master. Gosta Leonard\n",
       "9       Johnson, Mrs. Oscar W (Elisabeth Vilhelmina Berg)\n",
       "10                    Nasser, Mrs. Nicholas (Adele Achem)\n",
       "11                        Sandstrom, Miss. Marguerite Rut\n",
       "12                               Bonnell, Miss. Elizabeth\n",
       "13                         Saundercock, Mr. William Henry\n",
       "14                            Andersson, Mr. Anders Johan\n",
       "15                   Vestrom, Miss. Hulda Amanda Adolfina\n",
       "16                       Hewlett, Mrs. (Mary D Kingcome) \n",
       "17                                   Rice, Master. Eugene\n",
       "18                           Williams, Mr. Charles Eugene\n",
       "19      Vander Planke, Mrs. Julius (Emelia Maria Vande...\n",
       "20                                Masselmani, Mrs. Fatima\n",
       "21                                   Fynney, Mr. Joseph J\n",
       "22                                  Beesley, Mr. Lawrence\n",
       "23                            McGowan, Miss. Anna \"Annie\"\n",
       "24                           Sloper, Mr. William Thompson\n",
       "25                          Palsson, Miss. Torborg Danira\n",
       "26      Asplund, Mrs. Carl Oscar (Selma Augusta Emilia...\n",
       "27                                Emir, Mr. Farred Chehab\n",
       "28                         Fortune, Mr. Charles Alexander\n",
       "29                          O'Dwyer, Miss. Ellen \"Nellie\"\n",
       "30                                    Todoroff, Mr. Lalio\n",
       "                              ...                        \n",
       "1280                                 Canavan, Mr. Patrick\n",
       "1281                          Palsson, Master. Paul Folke\n",
       "1282                           Payne, Mr. Vivian Ponsonby\n",
       "1283       Lines, Mrs. Ernest H (Elizabeth Lindsey James)\n",
       "1284                        Abbott, Master. Eugene Joseph\n",
       "1285                                 Gilbert, Mr. William\n",
       "1286                             Kink-Heilmann, Mr. Anton\n",
       "1287       Smith, Mrs. Lucien Philip (Mary Eloise Hughes)\n",
       "1288                                 Colbert, Mr. Patrick\n",
       "1289    Frolicher-Stehli, Mrs. Maxmillian (Margaretha ...\n",
       "1290                       Larsson-Rondberg, Mr. Edvard A\n",
       "1291                             Conlon, Mr. Thomas Henry\n",
       "1292                              Bonnell, Miss. Caroline\n",
       "1293                                      Gale, Mr. Harry\n",
       "1294                       Gibson, Miss. Dorothy Winifred\n",
       "1295                               Carrau, Mr. Jose Pedro\n",
       "1296                         Frauenthal, Mr. Isaac Gerald\n",
       "1297         Nourney, Mr. Alfred (Baron von Drachstedt\")\"\n",
       "1298                            Ware, Mr. William Jeffery\n",
       "1299                           Widener, Mr. George Dunton\n",
       "1300                      Riordan, Miss. Johanna Hannah\"\"\n",
       "1301                            Peacock, Miss. Treasteall\n",
       "1302                               Naughton, Miss. Hannah\n",
       "1303      Minahan, Mrs. William Edward (Lillian E Thorpe)\n",
       "1304                       Henriksson, Miss. Jenny Lovisa\n",
       "1305                                   Spector, Mr. Woolf\n",
       "1306                         Oliva y Ocana, Dona. Fermina\n",
       "1307                         Saether, Mr. Simon Sivertsen\n",
       "1308                                  Ware, Mr. Frederick\n",
       "1309                             Peter, Master. Michael J\n",
       "Name: Name, dtype: object"
      ]
     },
     "execution_count": 13,
     "metadata": {},
     "output_type": "execute_result"
    }
   ],
   "source": [
    "# column selection using dot \n",
    "df.Name"
   ]
  },
  {
   "cell_type": "code",
   "execution_count": 14,
   "metadata": {
    "collapsed": false
   },
   "outputs": [
    {
     "data": {
      "text/plain": [
       "PassengerId\n",
       "1                                 Braund, Mr. Owen Harris\n",
       "2       Cumings, Mrs. John Bradley (Florence Briggs Th...\n",
       "3                                  Heikkinen, Miss. Laina\n",
       "4            Futrelle, Mrs. Jacques Heath (Lily May Peel)\n",
       "5                                Allen, Mr. William Henry\n",
       "6                                        Moran, Mr. James\n",
       "7                                 McCarthy, Mr. Timothy J\n",
       "8                          Palsson, Master. Gosta Leonard\n",
       "9       Johnson, Mrs. Oscar W (Elisabeth Vilhelmina Berg)\n",
       "10                    Nasser, Mrs. Nicholas (Adele Achem)\n",
       "11                        Sandstrom, Miss. Marguerite Rut\n",
       "12                               Bonnell, Miss. Elizabeth\n",
       "13                         Saundercock, Mr. William Henry\n",
       "14                            Andersson, Mr. Anders Johan\n",
       "15                   Vestrom, Miss. Hulda Amanda Adolfina\n",
       "16                       Hewlett, Mrs. (Mary D Kingcome) \n",
       "17                                   Rice, Master. Eugene\n",
       "18                           Williams, Mr. Charles Eugene\n",
       "19      Vander Planke, Mrs. Julius (Emelia Maria Vande...\n",
       "20                                Masselmani, Mrs. Fatima\n",
       "21                                   Fynney, Mr. Joseph J\n",
       "22                                  Beesley, Mr. Lawrence\n",
       "23                            McGowan, Miss. Anna \"Annie\"\n",
       "24                           Sloper, Mr. William Thompson\n",
       "25                          Palsson, Miss. Torborg Danira\n",
       "26      Asplund, Mrs. Carl Oscar (Selma Augusta Emilia...\n",
       "27                                Emir, Mr. Farred Chehab\n",
       "28                         Fortune, Mr. Charles Alexander\n",
       "29                          O'Dwyer, Miss. Ellen \"Nellie\"\n",
       "30                                    Todoroff, Mr. Lalio\n",
       "                              ...                        \n",
       "1280                                 Canavan, Mr. Patrick\n",
       "1281                          Palsson, Master. Paul Folke\n",
       "1282                           Payne, Mr. Vivian Ponsonby\n",
       "1283       Lines, Mrs. Ernest H (Elizabeth Lindsey James)\n",
       "1284                        Abbott, Master. Eugene Joseph\n",
       "1285                                 Gilbert, Mr. William\n",
       "1286                             Kink-Heilmann, Mr. Anton\n",
       "1287       Smith, Mrs. Lucien Philip (Mary Eloise Hughes)\n",
       "1288                                 Colbert, Mr. Patrick\n",
       "1289    Frolicher-Stehli, Mrs. Maxmillian (Margaretha ...\n",
       "1290                       Larsson-Rondberg, Mr. Edvard A\n",
       "1291                             Conlon, Mr. Thomas Henry\n",
       "1292                              Bonnell, Miss. Caroline\n",
       "1293                                      Gale, Mr. Harry\n",
       "1294                       Gibson, Miss. Dorothy Winifred\n",
       "1295                               Carrau, Mr. Jose Pedro\n",
       "1296                         Frauenthal, Mr. Isaac Gerald\n",
       "1297         Nourney, Mr. Alfred (Baron von Drachstedt\")\"\n",
       "1298                            Ware, Mr. William Jeffery\n",
       "1299                           Widener, Mr. George Dunton\n",
       "1300                      Riordan, Miss. Johanna Hannah\"\"\n",
       "1301                            Peacock, Miss. Treasteall\n",
       "1302                               Naughton, Miss. Hannah\n",
       "1303      Minahan, Mrs. William Edward (Lillian E Thorpe)\n",
       "1304                       Henriksson, Miss. Jenny Lovisa\n",
       "1305                                   Spector, Mr. Woolf\n",
       "1306                         Oliva y Ocana, Dona. Fermina\n",
       "1307                         Saether, Mr. Simon Sivertsen\n",
       "1308                                  Ware, Mr. Frederick\n",
       "1309                             Peter, Master. Michael J\n",
       "Name: Name, dtype: object"
      ]
     },
     "execution_count": 14,
     "metadata": {},
     "output_type": "execute_result"
    }
   ],
   "source": [
    " # column selection using column name as string\n",
    "df['Name']"
   ]
  },
  {
   "cell_type": "code",
   "execution_count": 15,
   "metadata": {
    "collapsed": false,
    "scrolled": true
   },
   "outputs": [
    {
     "data": {
      "text/html": [
       "<div>\n",
       "<table border=\"1\" class=\"dataframe\">\n",
       "  <thead>\n",
       "    <tr style=\"text-align: right;\">\n",
       "      <th></th>\n",
       "      <th>Name</th>\n",
       "      <th>Age</th>\n",
       "    </tr>\n",
       "    <tr>\n",
       "      <th>PassengerId</th>\n",
       "      <th></th>\n",
       "      <th></th>\n",
       "    </tr>\n",
       "  </thead>\n",
       "  <tbody>\n",
       "    <tr>\n",
       "      <th>1</th>\n",
       "      <td>Braund, Mr. Owen Harris</td>\n",
       "      <td>22.0</td>\n",
       "    </tr>\n",
       "    <tr>\n",
       "      <th>2</th>\n",
       "      <td>Cumings, Mrs. John Bradley (Florence Briggs Th...</td>\n",
       "      <td>38.0</td>\n",
       "    </tr>\n",
       "    <tr>\n",
       "      <th>3</th>\n",
       "      <td>Heikkinen, Miss. Laina</td>\n",
       "      <td>26.0</td>\n",
       "    </tr>\n",
       "    <tr>\n",
       "      <th>4</th>\n",
       "      <td>Futrelle, Mrs. Jacques Heath (Lily May Peel)</td>\n",
       "      <td>35.0</td>\n",
       "    </tr>\n",
       "    <tr>\n",
       "      <th>5</th>\n",
       "      <td>Allen, Mr. William Henry</td>\n",
       "      <td>35.0</td>\n",
       "    </tr>\n",
       "    <tr>\n",
       "      <th>6</th>\n",
       "      <td>Moran, Mr. James</td>\n",
       "      <td>NaN</td>\n",
       "    </tr>\n",
       "    <tr>\n",
       "      <th>7</th>\n",
       "      <td>McCarthy, Mr. Timothy J</td>\n",
       "      <td>54.0</td>\n",
       "    </tr>\n",
       "    <tr>\n",
       "      <th>8</th>\n",
       "      <td>Palsson, Master. Gosta Leonard</td>\n",
       "      <td>2.0</td>\n",
       "    </tr>\n",
       "    <tr>\n",
       "      <th>9</th>\n",
       "      <td>Johnson, Mrs. Oscar W (Elisabeth Vilhelmina Berg)</td>\n",
       "      <td>27.0</td>\n",
       "    </tr>\n",
       "    <tr>\n",
       "      <th>10</th>\n",
       "      <td>Nasser, Mrs. Nicholas (Adele Achem)</td>\n",
       "      <td>14.0</td>\n",
       "    </tr>\n",
       "    <tr>\n",
       "      <th>11</th>\n",
       "      <td>Sandstrom, Miss. Marguerite Rut</td>\n",
       "      <td>4.0</td>\n",
       "    </tr>\n",
       "    <tr>\n",
       "      <th>12</th>\n",
       "      <td>Bonnell, Miss. Elizabeth</td>\n",
       "      <td>58.0</td>\n",
       "    </tr>\n",
       "    <tr>\n",
       "      <th>13</th>\n",
       "      <td>Saundercock, Mr. William Henry</td>\n",
       "      <td>20.0</td>\n",
       "    </tr>\n",
       "    <tr>\n",
       "      <th>14</th>\n",
       "      <td>Andersson, Mr. Anders Johan</td>\n",
       "      <td>39.0</td>\n",
       "    </tr>\n",
       "    <tr>\n",
       "      <th>15</th>\n",
       "      <td>Vestrom, Miss. Hulda Amanda Adolfina</td>\n",
       "      <td>14.0</td>\n",
       "    </tr>\n",
       "    <tr>\n",
       "      <th>16</th>\n",
       "      <td>Hewlett, Mrs. (Mary D Kingcome)</td>\n",
       "      <td>55.0</td>\n",
       "    </tr>\n",
       "    <tr>\n",
       "      <th>17</th>\n",
       "      <td>Rice, Master. Eugene</td>\n",
       "      <td>2.0</td>\n",
       "    </tr>\n",
       "    <tr>\n",
       "      <th>18</th>\n",
       "      <td>Williams, Mr. Charles Eugene</td>\n",
       "      <td>NaN</td>\n",
       "    </tr>\n",
       "    <tr>\n",
       "      <th>19</th>\n",
       "      <td>Vander Planke, Mrs. Julius (Emelia Maria Vande...</td>\n",
       "      <td>31.0</td>\n",
       "    </tr>\n",
       "    <tr>\n",
       "      <th>20</th>\n",
       "      <td>Masselmani, Mrs. Fatima</td>\n",
       "      <td>NaN</td>\n",
       "    </tr>\n",
       "    <tr>\n",
       "      <th>21</th>\n",
       "      <td>Fynney, Mr. Joseph J</td>\n",
       "      <td>35.0</td>\n",
       "    </tr>\n",
       "    <tr>\n",
       "      <th>22</th>\n",
       "      <td>Beesley, Mr. Lawrence</td>\n",
       "      <td>34.0</td>\n",
       "    </tr>\n",
       "    <tr>\n",
       "      <th>23</th>\n",
       "      <td>McGowan, Miss. Anna \"Annie\"</td>\n",
       "      <td>15.0</td>\n",
       "    </tr>\n",
       "    <tr>\n",
       "      <th>24</th>\n",
       "      <td>Sloper, Mr. William Thompson</td>\n",
       "      <td>28.0</td>\n",
       "    </tr>\n",
       "    <tr>\n",
       "      <th>25</th>\n",
       "      <td>Palsson, Miss. Torborg Danira</td>\n",
       "      <td>8.0</td>\n",
       "    </tr>\n",
       "    <tr>\n",
       "      <th>26</th>\n",
       "      <td>Asplund, Mrs. Carl Oscar (Selma Augusta Emilia...</td>\n",
       "      <td>38.0</td>\n",
       "    </tr>\n",
       "    <tr>\n",
       "      <th>27</th>\n",
       "      <td>Emir, Mr. Farred Chehab</td>\n",
       "      <td>NaN</td>\n",
       "    </tr>\n",
       "    <tr>\n",
       "      <th>28</th>\n",
       "      <td>Fortune, Mr. Charles Alexander</td>\n",
       "      <td>19.0</td>\n",
       "    </tr>\n",
       "    <tr>\n",
       "      <th>29</th>\n",
       "      <td>O'Dwyer, Miss. Ellen \"Nellie\"</td>\n",
       "      <td>NaN</td>\n",
       "    </tr>\n",
       "    <tr>\n",
       "      <th>30</th>\n",
       "      <td>Todoroff, Mr. Lalio</td>\n",
       "      <td>NaN</td>\n",
       "    </tr>\n",
       "    <tr>\n",
       "      <th>...</th>\n",
       "      <td>...</td>\n",
       "      <td>...</td>\n",
       "    </tr>\n",
       "    <tr>\n",
       "      <th>1280</th>\n",
       "      <td>Canavan, Mr. Patrick</td>\n",
       "      <td>21.0</td>\n",
       "    </tr>\n",
       "    <tr>\n",
       "      <th>1281</th>\n",
       "      <td>Palsson, Master. Paul Folke</td>\n",
       "      <td>6.0</td>\n",
       "    </tr>\n",
       "    <tr>\n",
       "      <th>1282</th>\n",
       "      <td>Payne, Mr. Vivian Ponsonby</td>\n",
       "      <td>23.0</td>\n",
       "    </tr>\n",
       "    <tr>\n",
       "      <th>1283</th>\n",
       "      <td>Lines, Mrs. Ernest H (Elizabeth Lindsey James)</td>\n",
       "      <td>51.0</td>\n",
       "    </tr>\n",
       "    <tr>\n",
       "      <th>1284</th>\n",
       "      <td>Abbott, Master. Eugene Joseph</td>\n",
       "      <td>13.0</td>\n",
       "    </tr>\n",
       "    <tr>\n",
       "      <th>1285</th>\n",
       "      <td>Gilbert, Mr. William</td>\n",
       "      <td>47.0</td>\n",
       "    </tr>\n",
       "    <tr>\n",
       "      <th>1286</th>\n",
       "      <td>Kink-Heilmann, Mr. Anton</td>\n",
       "      <td>29.0</td>\n",
       "    </tr>\n",
       "    <tr>\n",
       "      <th>1287</th>\n",
       "      <td>Smith, Mrs. Lucien Philip (Mary Eloise Hughes)</td>\n",
       "      <td>18.0</td>\n",
       "    </tr>\n",
       "    <tr>\n",
       "      <th>1288</th>\n",
       "      <td>Colbert, Mr. Patrick</td>\n",
       "      <td>24.0</td>\n",
       "    </tr>\n",
       "    <tr>\n",
       "      <th>1289</th>\n",
       "      <td>Frolicher-Stehli, Mrs. Maxmillian (Margaretha ...</td>\n",
       "      <td>48.0</td>\n",
       "    </tr>\n",
       "    <tr>\n",
       "      <th>1290</th>\n",
       "      <td>Larsson-Rondberg, Mr. Edvard A</td>\n",
       "      <td>22.0</td>\n",
       "    </tr>\n",
       "    <tr>\n",
       "      <th>1291</th>\n",
       "      <td>Conlon, Mr. Thomas Henry</td>\n",
       "      <td>31.0</td>\n",
       "    </tr>\n",
       "    <tr>\n",
       "      <th>1292</th>\n",
       "      <td>Bonnell, Miss. Caroline</td>\n",
       "      <td>30.0</td>\n",
       "    </tr>\n",
       "    <tr>\n",
       "      <th>1293</th>\n",
       "      <td>Gale, Mr. Harry</td>\n",
       "      <td>38.0</td>\n",
       "    </tr>\n",
       "    <tr>\n",
       "      <th>1294</th>\n",
       "      <td>Gibson, Miss. Dorothy Winifred</td>\n",
       "      <td>22.0</td>\n",
       "    </tr>\n",
       "    <tr>\n",
       "      <th>1295</th>\n",
       "      <td>Carrau, Mr. Jose Pedro</td>\n",
       "      <td>17.0</td>\n",
       "    </tr>\n",
       "    <tr>\n",
       "      <th>1296</th>\n",
       "      <td>Frauenthal, Mr. Isaac Gerald</td>\n",
       "      <td>43.0</td>\n",
       "    </tr>\n",
       "    <tr>\n",
       "      <th>1297</th>\n",
       "      <td>Nourney, Mr. Alfred (Baron von Drachstedt\")\"</td>\n",
       "      <td>20.0</td>\n",
       "    </tr>\n",
       "    <tr>\n",
       "      <th>1298</th>\n",
       "      <td>Ware, Mr. William Jeffery</td>\n",
       "      <td>23.0</td>\n",
       "    </tr>\n",
       "    <tr>\n",
       "      <th>1299</th>\n",
       "      <td>Widener, Mr. George Dunton</td>\n",
       "      <td>50.0</td>\n",
       "    </tr>\n",
       "    <tr>\n",
       "      <th>1300</th>\n",
       "      <td>Riordan, Miss. Johanna Hannah\"\"</td>\n",
       "      <td>NaN</td>\n",
       "    </tr>\n",
       "    <tr>\n",
       "      <th>1301</th>\n",
       "      <td>Peacock, Miss. Treasteall</td>\n",
       "      <td>3.0</td>\n",
       "    </tr>\n",
       "    <tr>\n",
       "      <th>1302</th>\n",
       "      <td>Naughton, Miss. Hannah</td>\n",
       "      <td>NaN</td>\n",
       "    </tr>\n",
       "    <tr>\n",
       "      <th>1303</th>\n",
       "      <td>Minahan, Mrs. William Edward (Lillian E Thorpe)</td>\n",
       "      <td>37.0</td>\n",
       "    </tr>\n",
       "    <tr>\n",
       "      <th>1304</th>\n",
       "      <td>Henriksson, Miss. Jenny Lovisa</td>\n",
       "      <td>28.0</td>\n",
       "    </tr>\n",
       "    <tr>\n",
       "      <th>1305</th>\n",
       "      <td>Spector, Mr. Woolf</td>\n",
       "      <td>NaN</td>\n",
       "    </tr>\n",
       "    <tr>\n",
       "      <th>1306</th>\n",
       "      <td>Oliva y Ocana, Dona. Fermina</td>\n",
       "      <td>39.0</td>\n",
       "    </tr>\n",
       "    <tr>\n",
       "      <th>1307</th>\n",
       "      <td>Saether, Mr. Simon Sivertsen</td>\n",
       "      <td>38.5</td>\n",
       "    </tr>\n",
       "    <tr>\n",
       "      <th>1308</th>\n",
       "      <td>Ware, Mr. Frederick</td>\n",
       "      <td>NaN</td>\n",
       "    </tr>\n",
       "    <tr>\n",
       "      <th>1309</th>\n",
       "      <td>Peter, Master. Michael J</td>\n",
       "      <td>NaN</td>\n",
       "    </tr>\n",
       "  </tbody>\n",
       "</table>\n",
       "<p>1309 rows × 2 columns</p>\n",
       "</div>"
      ],
      "text/plain": [
       "                                                          Name   Age\n",
       "PassengerId                                                         \n",
       "1                                      Braund, Mr. Owen Harris  22.0\n",
       "2            Cumings, Mrs. John Bradley (Florence Briggs Th...  38.0\n",
       "3                                       Heikkinen, Miss. Laina  26.0\n",
       "4                 Futrelle, Mrs. Jacques Heath (Lily May Peel)  35.0\n",
       "5                                     Allen, Mr. William Henry  35.0\n",
       "6                                             Moran, Mr. James   NaN\n",
       "7                                      McCarthy, Mr. Timothy J  54.0\n",
       "8                               Palsson, Master. Gosta Leonard   2.0\n",
       "9            Johnson, Mrs. Oscar W (Elisabeth Vilhelmina Berg)  27.0\n",
       "10                         Nasser, Mrs. Nicholas (Adele Achem)  14.0\n",
       "11                             Sandstrom, Miss. Marguerite Rut   4.0\n",
       "12                                    Bonnell, Miss. Elizabeth  58.0\n",
       "13                              Saundercock, Mr. William Henry  20.0\n",
       "14                                 Andersson, Mr. Anders Johan  39.0\n",
       "15                        Vestrom, Miss. Hulda Amanda Adolfina  14.0\n",
       "16                            Hewlett, Mrs. (Mary D Kingcome)   55.0\n",
       "17                                        Rice, Master. Eugene   2.0\n",
       "18                                Williams, Mr. Charles Eugene   NaN\n",
       "19           Vander Planke, Mrs. Julius (Emelia Maria Vande...  31.0\n",
       "20                                     Masselmani, Mrs. Fatima   NaN\n",
       "21                                        Fynney, Mr. Joseph J  35.0\n",
       "22                                       Beesley, Mr. Lawrence  34.0\n",
       "23                                 McGowan, Miss. Anna \"Annie\"  15.0\n",
       "24                                Sloper, Mr. William Thompson  28.0\n",
       "25                               Palsson, Miss. Torborg Danira   8.0\n",
       "26           Asplund, Mrs. Carl Oscar (Selma Augusta Emilia...  38.0\n",
       "27                                     Emir, Mr. Farred Chehab   NaN\n",
       "28                              Fortune, Mr. Charles Alexander  19.0\n",
       "29                               O'Dwyer, Miss. Ellen \"Nellie\"   NaN\n",
       "30                                         Todoroff, Mr. Lalio   NaN\n",
       "...                                                        ...   ...\n",
       "1280                                      Canavan, Mr. Patrick  21.0\n",
       "1281                               Palsson, Master. Paul Folke   6.0\n",
       "1282                                Payne, Mr. Vivian Ponsonby  23.0\n",
       "1283            Lines, Mrs. Ernest H (Elizabeth Lindsey James)  51.0\n",
       "1284                             Abbott, Master. Eugene Joseph  13.0\n",
       "1285                                      Gilbert, Mr. William  47.0\n",
       "1286                                  Kink-Heilmann, Mr. Anton  29.0\n",
       "1287            Smith, Mrs. Lucien Philip (Mary Eloise Hughes)  18.0\n",
       "1288                                      Colbert, Mr. Patrick  24.0\n",
       "1289         Frolicher-Stehli, Mrs. Maxmillian (Margaretha ...  48.0\n",
       "1290                            Larsson-Rondberg, Mr. Edvard A  22.0\n",
       "1291                                  Conlon, Mr. Thomas Henry  31.0\n",
       "1292                                   Bonnell, Miss. Caroline  30.0\n",
       "1293                                           Gale, Mr. Harry  38.0\n",
       "1294                            Gibson, Miss. Dorothy Winifred  22.0\n",
       "1295                                    Carrau, Mr. Jose Pedro  17.0\n",
       "1296                              Frauenthal, Mr. Isaac Gerald  43.0\n",
       "1297              Nourney, Mr. Alfred (Baron von Drachstedt\")\"  20.0\n",
       "1298                                 Ware, Mr. William Jeffery  23.0\n",
       "1299                                Widener, Mr. George Dunton  50.0\n",
       "1300                           Riordan, Miss. Johanna Hannah\"\"   NaN\n",
       "1301                                 Peacock, Miss. Treasteall   3.0\n",
       "1302                                    Naughton, Miss. Hannah   NaN\n",
       "1303           Minahan, Mrs. William Edward (Lillian E Thorpe)  37.0\n",
       "1304                            Henriksson, Miss. Jenny Lovisa  28.0\n",
       "1305                                        Spector, Mr. Woolf   NaN\n",
       "1306                              Oliva y Ocana, Dona. Fermina  39.0\n",
       "1307                              Saether, Mr. Simon Sivertsen  38.5\n",
       "1308                                       Ware, Mr. Frederick   NaN\n",
       "1309                                  Peter, Master. Michael J   NaN\n",
       "\n",
       "[1309 rows x 2 columns]"
      ]
     },
     "execution_count": 15,
     "metadata": {},
     "output_type": "execute_result"
    }
   ],
   "source": [
    "# selecting multiple columns using a list of column name strings\n",
    "df[['Name','Age']]"
   ]
  },
  {
   "cell_type": "code",
   "execution_count": 16,
   "metadata": {
    "collapsed": false
   },
   "outputs": [
    {
     "data": {
      "text/html": [
       "<div>\n",
       "<table border=\"1\" class=\"dataframe\">\n",
       "  <thead>\n",
       "    <tr style=\"text-align: right;\">\n",
       "      <th></th>\n",
       "      <th>Age</th>\n",
       "      <th>Cabin</th>\n",
       "      <th>Embarked</th>\n",
       "      <th>Fare</th>\n",
       "      <th>Name</th>\n",
       "      <th>Parch</th>\n",
       "      <th>Pclass</th>\n",
       "      <th>Sex</th>\n",
       "      <th>SibSp</th>\n",
       "      <th>Survived</th>\n",
       "      <th>Ticket</th>\n",
       "    </tr>\n",
       "    <tr>\n",
       "      <th>PassengerId</th>\n",
       "      <th></th>\n",
       "      <th></th>\n",
       "      <th></th>\n",
       "      <th></th>\n",
       "      <th></th>\n",
       "      <th></th>\n",
       "      <th></th>\n",
       "      <th></th>\n",
       "      <th></th>\n",
       "      <th></th>\n",
       "      <th></th>\n",
       "    </tr>\n",
       "  </thead>\n",
       "  <tbody>\n",
       "    <tr>\n",
       "      <th>5</th>\n",
       "      <td>35.0</td>\n",
       "      <td>NaN</td>\n",
       "      <td>S</td>\n",
       "      <td>8.0500</td>\n",
       "      <td>Allen, Mr. William Henry</td>\n",
       "      <td>0</td>\n",
       "      <td>3</td>\n",
       "      <td>male</td>\n",
       "      <td>0</td>\n",
       "      <td>0</td>\n",
       "      <td>373450</td>\n",
       "    </tr>\n",
       "    <tr>\n",
       "      <th>6</th>\n",
       "      <td>NaN</td>\n",
       "      <td>NaN</td>\n",
       "      <td>Q</td>\n",
       "      <td>8.4583</td>\n",
       "      <td>Moran, Mr. James</td>\n",
       "      <td>0</td>\n",
       "      <td>3</td>\n",
       "      <td>male</td>\n",
       "      <td>0</td>\n",
       "      <td>0</td>\n",
       "      <td>330877</td>\n",
       "    </tr>\n",
       "    <tr>\n",
       "      <th>7</th>\n",
       "      <td>54.0</td>\n",
       "      <td>E46</td>\n",
       "      <td>S</td>\n",
       "      <td>51.8625</td>\n",
       "      <td>McCarthy, Mr. Timothy J</td>\n",
       "      <td>0</td>\n",
       "      <td>1</td>\n",
       "      <td>male</td>\n",
       "      <td>0</td>\n",
       "      <td>0</td>\n",
       "      <td>17463</td>\n",
       "    </tr>\n",
       "    <tr>\n",
       "      <th>8</th>\n",
       "      <td>2.0</td>\n",
       "      <td>NaN</td>\n",
       "      <td>S</td>\n",
       "      <td>21.0750</td>\n",
       "      <td>Palsson, Master. Gosta Leonard</td>\n",
       "      <td>1</td>\n",
       "      <td>3</td>\n",
       "      <td>male</td>\n",
       "      <td>3</td>\n",
       "      <td>0</td>\n",
       "      <td>349909</td>\n",
       "    </tr>\n",
       "    <tr>\n",
       "      <th>9</th>\n",
       "      <td>27.0</td>\n",
       "      <td>NaN</td>\n",
       "      <td>S</td>\n",
       "      <td>11.1333</td>\n",
       "      <td>Johnson, Mrs. Oscar W (Elisabeth Vilhelmina Berg)</td>\n",
       "      <td>2</td>\n",
       "      <td>3</td>\n",
       "      <td>female</td>\n",
       "      <td>0</td>\n",
       "      <td>1</td>\n",
       "      <td>347742</td>\n",
       "    </tr>\n",
       "    <tr>\n",
       "      <th>10</th>\n",
       "      <td>14.0</td>\n",
       "      <td>NaN</td>\n",
       "      <td>C</td>\n",
       "      <td>30.0708</td>\n",
       "      <td>Nasser, Mrs. Nicholas (Adele Achem)</td>\n",
       "      <td>0</td>\n",
       "      <td>2</td>\n",
       "      <td>female</td>\n",
       "      <td>1</td>\n",
       "      <td>1</td>\n",
       "      <td>237736</td>\n",
       "    </tr>\n",
       "  </tbody>\n",
       "</table>\n",
       "</div>"
      ],
      "text/plain": [
       "              Age Cabin Embarked     Fare  \\\n",
       "PassengerId                                 \n",
       "5            35.0   NaN        S   8.0500   \n",
       "6             NaN   NaN        Q   8.4583   \n",
       "7            54.0   E46        S  51.8625   \n",
       "8             2.0   NaN        S  21.0750   \n",
       "9            27.0   NaN        S  11.1333   \n",
       "10           14.0   NaN        C  30.0708   \n",
       "\n",
       "                                                          Name  Parch  Pclass  \\\n",
       "PassengerId                                                                     \n",
       "5                                     Allen, Mr. William Henry      0       3   \n",
       "6                                             Moran, Mr. James      0       3   \n",
       "7                                      McCarthy, Mr. Timothy J      0       1   \n",
       "8                               Palsson, Master. Gosta Leonard      1       3   \n",
       "9            Johnson, Mrs. Oscar W (Elisabeth Vilhelmina Berg)      2       3   \n",
       "10                         Nasser, Mrs. Nicholas (Adele Achem)      0       2   \n",
       "\n",
       "                Sex  SibSp  Survived  Ticket  \n",
       "PassengerId                                   \n",
       "5              male      0         0  373450  \n",
       "6              male      0         0  330877  \n",
       "7              male      0         0   17463  \n",
       "8              male      3         0  349909  \n",
       "9            female      0         1  347742  \n",
       "10           female      1         1  237736  "
      ]
     },
     "execution_count": 16,
     "metadata": {},
     "output_type": "execute_result"
    }
   ],
   "source": [
    "# indexing : use loc for label based indexing\n",
    "# all columns\n",
    "df.loc[5:10,]"
   ]
  },
  {
   "cell_type": "code",
   "execution_count": 17,
   "metadata": {
    "collapsed": false
   },
   "outputs": [
    {
     "data": {
      "text/html": [
       "<div>\n",
       "<table border=\"1\" class=\"dataframe\">\n",
       "  <thead>\n",
       "    <tr style=\"text-align: right;\">\n",
       "      <th></th>\n",
       "      <th>Age</th>\n",
       "      <th>Cabin</th>\n",
       "      <th>Embarked</th>\n",
       "      <th>Fare</th>\n",
       "    </tr>\n",
       "    <tr>\n",
       "      <th>PassengerId</th>\n",
       "      <th></th>\n",
       "      <th></th>\n",
       "      <th></th>\n",
       "      <th></th>\n",
       "    </tr>\n",
       "  </thead>\n",
       "  <tbody>\n",
       "    <tr>\n",
       "      <th>5</th>\n",
       "      <td>35.0</td>\n",
       "      <td>NaN</td>\n",
       "      <td>S</td>\n",
       "      <td>8.0500</td>\n",
       "    </tr>\n",
       "    <tr>\n",
       "      <th>6</th>\n",
       "      <td>NaN</td>\n",
       "      <td>NaN</td>\n",
       "      <td>Q</td>\n",
       "      <td>8.4583</td>\n",
       "    </tr>\n",
       "    <tr>\n",
       "      <th>7</th>\n",
       "      <td>54.0</td>\n",
       "      <td>E46</td>\n",
       "      <td>S</td>\n",
       "      <td>51.8625</td>\n",
       "    </tr>\n",
       "    <tr>\n",
       "      <th>8</th>\n",
       "      <td>2.0</td>\n",
       "      <td>NaN</td>\n",
       "      <td>S</td>\n",
       "      <td>21.0750</td>\n",
       "    </tr>\n",
       "    <tr>\n",
       "      <th>9</th>\n",
       "      <td>27.0</td>\n",
       "      <td>NaN</td>\n",
       "      <td>S</td>\n",
       "      <td>11.1333</td>\n",
       "    </tr>\n",
       "    <tr>\n",
       "      <th>10</th>\n",
       "      <td>14.0</td>\n",
       "      <td>NaN</td>\n",
       "      <td>C</td>\n",
       "      <td>30.0708</td>\n",
       "    </tr>\n",
       "  </tbody>\n",
       "</table>\n",
       "</div>"
      ],
      "text/plain": [
       "              Age Cabin Embarked     Fare\n",
       "PassengerId                              \n",
       "5            35.0   NaN        S   8.0500\n",
       "6             NaN   NaN        Q   8.4583\n",
       "7            54.0   E46        S  51.8625\n",
       "8             2.0   NaN        S  21.0750\n",
       "9            27.0   NaN        S  11.1333\n",
       "10           14.0   NaN        C  30.0708"
      ]
     },
     "execution_count": 17,
     "metadata": {},
     "output_type": "execute_result"
    }
   ],
   "source": [
    "# selecting column range\n",
    "df.loc[5:10, 'Age':'Fare']"
   ]
  },
  {
   "cell_type": "code",
   "execution_count": 18,
   "metadata": {
    "collapsed": false
   },
   "outputs": [
    {
     "data": {
      "text/html": [
       "<div>\n",
       "<table border=\"1\" class=\"dataframe\">\n",
       "  <thead>\n",
       "    <tr style=\"text-align: right;\">\n",
       "      <th></th>\n",
       "      <th>Survived</th>\n",
       "      <th>Age</th>\n",
       "    </tr>\n",
       "    <tr>\n",
       "      <th>PassengerId</th>\n",
       "      <th></th>\n",
       "      <th></th>\n",
       "    </tr>\n",
       "  </thead>\n",
       "  <tbody>\n",
       "    <tr>\n",
       "      <th>5</th>\n",
       "      <td>0</td>\n",
       "      <td>35.0</td>\n",
       "    </tr>\n",
       "    <tr>\n",
       "      <th>6</th>\n",
       "      <td>0</td>\n",
       "      <td>NaN</td>\n",
       "    </tr>\n",
       "    <tr>\n",
       "      <th>7</th>\n",
       "      <td>0</td>\n",
       "      <td>54.0</td>\n",
       "    </tr>\n",
       "    <tr>\n",
       "      <th>8</th>\n",
       "      <td>0</td>\n",
       "      <td>2.0</td>\n",
       "    </tr>\n",
       "    <tr>\n",
       "      <th>9</th>\n",
       "      <td>1</td>\n",
       "      <td>27.0</td>\n",
       "    </tr>\n",
       "    <tr>\n",
       "      <th>10</th>\n",
       "      <td>1</td>\n",
       "      <td>14.0</td>\n",
       "    </tr>\n",
       "  </tbody>\n",
       "</table>\n",
       "</div>"
      ],
      "text/plain": [
       "             Survived   Age\n",
       "PassengerId                \n",
       "5                   0  35.0\n",
       "6                   0   NaN\n",
       "7                   0  54.0\n",
       "8                   0   2.0\n",
       "9                   1  27.0\n",
       "10                  1  14.0"
      ]
     },
     "execution_count": 18,
     "metadata": {},
     "output_type": "execute_result"
    }
   ],
   "source": [
    "df.loc[5:10,['Survived','Age']]"
   ]
  },
  {
   "cell_type": "code",
   "execution_count": 19,
   "metadata": {
    "collapsed": false
   },
   "outputs": [
    {
     "data": {
      "text/html": [
       "<div>\n",
       "<table border=\"1\" class=\"dataframe\">\n",
       "  <thead>\n",
       "    <tr style=\"text-align: right;\">\n",
       "      <th></th>\n",
       "      <th>Age</th>\n",
       "      <th>Cabin</th>\n",
       "      <th>Embarked</th>\n",
       "      <th>Fare</th>\n",
       "      <th>Name</th>\n",
       "      <th>Parch</th>\n",
       "      <th>Pclass</th>\n",
       "      <th>Sex</th>\n",
       "      <th>SibSp</th>\n",
       "      <th>Survived</th>\n",
       "      <th>Ticket</th>\n",
       "    </tr>\n",
       "    <tr>\n",
       "      <th>PassengerId</th>\n",
       "      <th></th>\n",
       "      <th></th>\n",
       "      <th></th>\n",
       "      <th></th>\n",
       "      <th></th>\n",
       "      <th></th>\n",
       "      <th></th>\n",
       "      <th></th>\n",
       "      <th></th>\n",
       "      <th></th>\n",
       "      <th></th>\n",
       "    </tr>\n",
       "  </thead>\n",
       "  <tbody>\n",
       "    <tr>\n",
       "      <th>6</th>\n",
       "      <td>NaN</td>\n",
       "      <td>NaN</td>\n",
       "      <td>Q</td>\n",
       "      <td>8.4583</td>\n",
       "      <td>Moran, Mr. James</td>\n",
       "      <td>0</td>\n",
       "      <td>3</td>\n",
       "      <td>male</td>\n",
       "      <td>0</td>\n",
       "      <td>0</td>\n",
       "      <td>330877</td>\n",
       "    </tr>\n",
       "    <tr>\n",
       "      <th>7</th>\n",
       "      <td>54.0</td>\n",
       "      <td>E46</td>\n",
       "      <td>S</td>\n",
       "      <td>51.8625</td>\n",
       "      <td>McCarthy, Mr. Timothy J</td>\n",
       "      <td>0</td>\n",
       "      <td>1</td>\n",
       "      <td>male</td>\n",
       "      <td>0</td>\n",
       "      <td>0</td>\n",
       "      <td>17463</td>\n",
       "    </tr>\n",
       "    <tr>\n",
       "      <th>8</th>\n",
       "      <td>2.0</td>\n",
       "      <td>NaN</td>\n",
       "      <td>S</td>\n",
       "      <td>21.0750</td>\n",
       "      <td>Palsson, Master. Gosta Leonard</td>\n",
       "      <td>1</td>\n",
       "      <td>3</td>\n",
       "      <td>male</td>\n",
       "      <td>3</td>\n",
       "      <td>0</td>\n",
       "      <td>349909</td>\n",
       "    </tr>\n",
       "    <tr>\n",
       "      <th>9</th>\n",
       "      <td>27.0</td>\n",
       "      <td>NaN</td>\n",
       "      <td>S</td>\n",
       "      <td>11.1333</td>\n",
       "      <td>Johnson, Mrs. Oscar W (Elisabeth Vilhelmina Berg)</td>\n",
       "      <td>2</td>\n",
       "      <td>3</td>\n",
       "      <td>female</td>\n",
       "      <td>0</td>\n",
       "      <td>1</td>\n",
       "      <td>347742</td>\n",
       "    </tr>\n",
       "    <tr>\n",
       "      <th>10</th>\n",
       "      <td>14.0</td>\n",
       "      <td>NaN</td>\n",
       "      <td>C</td>\n",
       "      <td>30.0708</td>\n",
       "      <td>Nasser, Mrs. Nicholas (Adele Achem)</td>\n",
       "      <td>0</td>\n",
       "      <td>2</td>\n",
       "      <td>female</td>\n",
       "      <td>1</td>\n",
       "      <td>1</td>\n",
       "      <td>237736</td>\n",
       "    </tr>\n",
       "  </tbody>\n",
       "</table>\n",
       "</div>"
      ],
      "text/plain": [
       "              Age Cabin Embarked     Fare  \\\n",
       "PassengerId                                 \n",
       "6             NaN   NaN        Q   8.4583   \n",
       "7            54.0   E46        S  51.8625   \n",
       "8             2.0   NaN        S  21.0750   \n",
       "9            27.0   NaN        S  11.1333   \n",
       "10           14.0   NaN        C  30.0708   \n",
       "\n",
       "                                                          Name  Parch  Pclass  \\\n",
       "PassengerId                                                                     \n",
       "6                                             Moran, Mr. James      0       3   \n",
       "7                                      McCarthy, Mr. Timothy J      0       1   \n",
       "8                               Palsson, Master. Gosta Leonard      1       3   \n",
       "9            Johnson, Mrs. Oscar W (Elisabeth Vilhelmina Berg)      2       3   \n",
       "10                         Nasser, Mrs. Nicholas (Adele Achem)      0       2   \n",
       "\n",
       "                Sex  SibSp  Survived  Ticket  \n",
       "PassengerId                                   \n",
       "6              male      0         0  330877  \n",
       "7              male      0         0   17463  \n",
       "8              male      3         0  349909  \n",
       "9            female      0         1  347742  \n",
       "10           female      1         1  237736  "
      ]
     },
     "execution_count": 19,
     "metadata": {},
     "output_type": "execute_result"
    }
   ],
   "source": [
    "## positioning based indexing\n",
    "df.iloc[5:10]"
   ]
  },
  {
   "cell_type": "code",
   "execution_count": 20,
   "metadata": {
    "collapsed": false
   },
   "outputs": [
    {
     "name": "stdout",
     "output_type": "stream",
     "text": [
      "Number of male passengers:843\n"
     ]
    }
   ],
   "source": [
    "#filter rows based on some conditions\n",
    "male_passengers = df[df['Sex']=='male']\n",
    "print ('Number of male passengers:{0}'.format(len(male_passengers)))"
   ]
  },
  {
   "cell_type": "code",
   "execution_count": 21,
   "metadata": {
    "collapsed": false
   },
   "outputs": [
    {
     "name": "stdout",
     "output_type": "stream",
     "text": [
      "Number of male passengers in first class:179\n"
     ]
    }
   ],
   "source": [
    "male_passengers_in_first_class = df[(df['Pclass'] == 1 )& (df['Sex']=='male')]\n",
    "print(\"Number of male passengers in first class:{0}\".format(len(male_passengers_in_first_class)))"
   ]
  },
  {
   "cell_type": "code",
   "execution_count": 22,
   "metadata": {
    "collapsed": false
   },
   "outputs": [
    {
     "name": "stdout",
     "output_type": "stream",
     "text": [
      "()\n"
     ]
    }
   ],
   "source": [
    "print()"
   ]
  },
  {
   "cell_type": "markdown",
   "metadata": {},
   "source": [
    "### Summary Statistics"
   ]
  },
  {
   "cell_type": "code",
   "execution_count": 23,
   "metadata": {
    "collapsed": false
   },
   "outputs": [
    {
     "data": {
      "text/html": [
       "<div>\n",
       "<table border=\"1\" class=\"dataframe\">\n",
       "  <thead>\n",
       "    <tr style=\"text-align: right;\">\n",
       "      <th></th>\n",
       "      <th>Age</th>\n",
       "      <th>Fare</th>\n",
       "      <th>Parch</th>\n",
       "      <th>Pclass</th>\n",
       "      <th>SibSp</th>\n",
       "      <th>Survived</th>\n",
       "    </tr>\n",
       "  </thead>\n",
       "  <tbody>\n",
       "    <tr>\n",
       "      <th>count</th>\n",
       "      <td>1046.000000</td>\n",
       "      <td>1308.000000</td>\n",
       "      <td>1309.000000</td>\n",
       "      <td>1309.000000</td>\n",
       "      <td>1309.000000</td>\n",
       "      <td>1309.000000</td>\n",
       "    </tr>\n",
       "    <tr>\n",
       "      <th>mean</th>\n",
       "      <td>29.881138</td>\n",
       "      <td>33.295479</td>\n",
       "      <td>0.385027</td>\n",
       "      <td>2.294882</td>\n",
       "      <td>0.498854</td>\n",
       "      <td>-283.301757</td>\n",
       "    </tr>\n",
       "    <tr>\n",
       "      <th>std</th>\n",
       "      <td>14.413493</td>\n",
       "      <td>51.758668</td>\n",
       "      <td>0.865560</td>\n",
       "      <td>0.837836</td>\n",
       "      <td>1.041658</td>\n",
       "      <td>414.337413</td>\n",
       "    </tr>\n",
       "    <tr>\n",
       "      <th>min</th>\n",
       "      <td>0.170000</td>\n",
       "      <td>0.000000</td>\n",
       "      <td>0.000000</td>\n",
       "      <td>1.000000</td>\n",
       "      <td>0.000000</td>\n",
       "      <td>-888.000000</td>\n",
       "    </tr>\n",
       "    <tr>\n",
       "      <th>25%</th>\n",
       "      <td>21.000000</td>\n",
       "      <td>7.895800</td>\n",
       "      <td>0.000000</td>\n",
       "      <td>2.000000</td>\n",
       "      <td>0.000000</td>\n",
       "      <td>-888.000000</td>\n",
       "    </tr>\n",
       "    <tr>\n",
       "      <th>50%</th>\n",
       "      <td>28.000000</td>\n",
       "      <td>14.454200</td>\n",
       "      <td>0.000000</td>\n",
       "      <td>3.000000</td>\n",
       "      <td>0.000000</td>\n",
       "      <td>0.000000</td>\n",
       "    </tr>\n",
       "    <tr>\n",
       "      <th>75%</th>\n",
       "      <td>39.000000</td>\n",
       "      <td>31.275000</td>\n",
       "      <td>0.000000</td>\n",
       "      <td>3.000000</td>\n",
       "      <td>1.000000</td>\n",
       "      <td>1.000000</td>\n",
       "    </tr>\n",
       "    <tr>\n",
       "      <th>max</th>\n",
       "      <td>80.000000</td>\n",
       "      <td>512.329200</td>\n",
       "      <td>9.000000</td>\n",
       "      <td>3.000000</td>\n",
       "      <td>8.000000</td>\n",
       "      <td>1.000000</td>\n",
       "    </tr>\n",
       "  </tbody>\n",
       "</table>\n",
       "</div>"
      ],
      "text/plain": [
       "               Age         Fare        Parch       Pclass        SibSp  \\\n",
       "count  1046.000000  1308.000000  1309.000000  1309.000000  1309.000000   \n",
       "mean     29.881138    33.295479     0.385027     2.294882     0.498854   \n",
       "std      14.413493    51.758668     0.865560     0.837836     1.041658   \n",
       "min       0.170000     0.000000     0.000000     1.000000     0.000000   \n",
       "25%      21.000000     7.895800     0.000000     2.000000     0.000000   \n",
       "50%      28.000000    14.454200     0.000000     3.000000     0.000000   \n",
       "75%      39.000000    31.275000     0.000000     3.000000     1.000000   \n",
       "max      80.000000   512.329200     9.000000     3.000000     8.000000   \n",
       "\n",
       "          Survived  \n",
       "count  1309.000000  \n",
       "mean   -283.301757  \n",
       "std     414.337413  \n",
       "min    -888.000000  \n",
       "25%    -888.000000  \n",
       "50%       0.000000  \n",
       "75%       1.000000  \n",
       "max       1.000000  "
      ]
     },
     "execution_count": 23,
     "metadata": {},
     "output_type": "execute_result"
    }
   ],
   "source": [
    "# describe functions\n",
    "df.describe()"
   ]
  },
  {
   "cell_type": "code",
   "execution_count": 24,
   "metadata": {
    "collapsed": false
   },
   "outputs": [
    {
     "name": "stdout",
     "output_type": "stream",
     "text": [
      "Mean fare:33.2954792813\n",
      "Median fare:14.4542\n"
     ]
    }
   ],
   "source": [
    "#numercial feature\n",
    "# centrality measures\n",
    "print('Mean fare:{0}'.format(df.Fare.mean()))\n",
    "print('Median fare:{0}'.format(df.Fare.median()))"
   ]
  },
  {
   "cell_type": "code",
   "execution_count": 25,
   "metadata": {
    "collapsed": false
   },
   "outputs": [
    {
     "name": "stdout",
     "output_type": "stream",
     "text": [
      "Min fare:0.0\n",
      "Max fare:512.3292\n",
      "Range:512.3292\n",
      "25 percentile:7.8958\n",
      "50 percentile:14.4542\n",
      "75 percentile:31.275\n",
      "Variance:2678.95973789\n",
      "Standard deviation:51.7586682392\n"
     ]
    }
   ],
   "source": [
    "# dispersion measures\n",
    "print(\"Min fare:{0}\".format(df.Fare.min()))\n",
    "print(\"Max fare:{0}\".format(df.Fare.max()))\n",
    "print(\"Range:{0}\".format(df.Fare.max() - df.Fare.min()))\n",
    "print(\"25 percentile:{0}\".format(df.Fare.quantile(.25)))\n",
    "print(\"50 percentile:{0}\".format(df.Fare.quantile(.50)))\n",
    "print(\"75 percentile:{0}\".format(df.Fare.quantile(.75)))\n",
    "print(\"Variance:{0}\".format(df.Fare.var()))\n",
    "print(\"Standard deviation:{0}\".format(df.Fare.std()))"
   ]
  },
  {
   "cell_type": "code",
   "execution_count": 26,
   "metadata": {
    "collapsed": false
   },
   "outputs": [],
   "source": [
    "%matplotlib inline"
   ]
  },
  {
   "cell_type": "code",
   "execution_count": 27,
   "metadata": {
    "collapsed": false
   },
   "outputs": [
    {
     "data": {
      "text/plain": [
       "<matplotlib.axes._subplots.AxesSubplot at 0x7f8f8927a110>"
      ]
     },
     "execution_count": 27,
     "metadata": {},
     "output_type": "execute_result"
    },
    {
     "data": {
      "image/png": "[encoded data removed]",
      "text/plain": [
       "<matplotlib.figure.Figure at 0x7f8f89264910>"
      ]
     },
     "metadata": {},
     "output_type": "display_data"
    }
   ],
   "source": [
    "# box-plot\n",
    "df.Fare.plot(kind='box')"
   ]
  },
  {
   "cell_type": "markdown",
   "metadata": {},
   "source": [
    "#### Sumarry statistics"
   ]
  },
  {
   "cell_type": "code",
   "execution_count": 28,
   "metadata": {
    "collapsed": false
   },
   "outputs": [
    {
     "data": {
      "text/html": [
       "<div>\n",
       "<table border=\"1\" class=\"dataframe\">\n",
       "  <thead>\n",
       "    <tr style=\"text-align: right;\">\n",
       "      <th></th>\n",
       "      <th>Age</th>\n",
       "      <th>Cabin</th>\n",
       "      <th>Embarked</th>\n",
       "      <th>Fare</th>\n",
       "      <th>Name</th>\n",
       "      <th>Parch</th>\n",
       "      <th>Pclass</th>\n",
       "      <th>Sex</th>\n",
       "      <th>SibSp</th>\n",
       "      <th>Survived</th>\n",
       "      <th>Ticket</th>\n",
       "    </tr>\n",
       "  </thead>\n",
       "  <tbody>\n",
       "    <tr>\n",
       "      <th>count</th>\n",
       "      <td>1046.000000</td>\n",
       "      <td>295</td>\n",
       "      <td>1307</td>\n",
       "      <td>1308.000000</td>\n",
       "      <td>1309</td>\n",
       "      <td>1309.000000</td>\n",
       "      <td>1309.000000</td>\n",
       "      <td>1309</td>\n",
       "      <td>1309.000000</td>\n",
       "      <td>1309.000000</td>\n",
       "      <td>1309</td>\n",
       "    </tr>\n",
       "    <tr>\n",
       "      <th>unique</th>\n",
       "      <td>NaN</td>\n",
       "      <td>186</td>\n",
       "      <td>3</td>\n",
       "      <td>NaN</td>\n",
       "      <td>1307</td>\n",
       "      <td>NaN</td>\n",
       "      <td>NaN</td>\n",
       "      <td>2</td>\n",
       "      <td>NaN</td>\n",
       "      <td>NaN</td>\n",
       "      <td>929</td>\n",
       "    </tr>\n",
       "    <tr>\n",
       "      <th>top</th>\n",
       "      <td>NaN</td>\n",
       "      <td>C23 C25 C27</td>\n",
       "      <td>S</td>\n",
       "      <td>NaN</td>\n",
       "      <td>Connolly, Miss. Kate</td>\n",
       "      <td>NaN</td>\n",
       "      <td>NaN</td>\n",
       "      <td>male</td>\n",
       "      <td>NaN</td>\n",
       "      <td>NaN</td>\n",
       "      <td>CA. 2343</td>\n",
       "    </tr>\n",
       "    <tr>\n",
       "      <th>freq</th>\n",
       "      <td>NaN</td>\n",
       "      <td>6</td>\n",
       "      <td>914</td>\n",
       "      <td>NaN</td>\n",
       "      <td>2</td>\n",
       "      <td>NaN</td>\n",
       "      <td>NaN</td>\n",
       "      <td>843</td>\n",
       "      <td>NaN</td>\n",
       "      <td>NaN</td>\n",
       "      <td>11</td>\n",
       "    </tr>\n",
       "    <tr>\n",
       "      <th>mean</th>\n",
       "      <td>29.881138</td>\n",
       "      <td>NaN</td>\n",
       "      <td>NaN</td>\n",
       "      <td>33.295479</td>\n",
       "      <td>NaN</td>\n",
       "      <td>0.385027</td>\n",
       "      <td>2.294882</td>\n",
       "      <td>NaN</td>\n",
       "      <td>0.498854</td>\n",
       "      <td>-283.301757</td>\n",
       "      <td>NaN</td>\n",
       "    </tr>\n",
       "    <tr>\n",
       "      <th>std</th>\n",
       "      <td>14.413493</td>\n",
       "      <td>NaN</td>\n",
       "      <td>NaN</td>\n",
       "      <td>51.758668</td>\n",
       "      <td>NaN</td>\n",
       "      <td>0.865560</td>\n",
       "      <td>0.837836</td>\n",
       "      <td>NaN</td>\n",
       "      <td>1.041658</td>\n",
       "      <td>414.337413</td>\n",
       "      <td>NaN</td>\n",
       "    </tr>\n",
       "    <tr>\n",
       "      <th>min</th>\n",
       "      <td>0.170000</td>\n",
       "      <td>NaN</td>\n",
       "      <td>NaN</td>\n",
       "      <td>0.000000</td>\n",
       "      <td>NaN</td>\n",
       "      <td>0.000000</td>\n",
       "      <td>1.000000</td>\n",
       "      <td>NaN</td>\n",
       "      <td>0.000000</td>\n",
       "      <td>-888.000000</td>\n",
       "      <td>NaN</td>\n",
       "    </tr>\n",
       "    <tr>\n",
       "      <th>25%</th>\n",
       "      <td>21.000000</td>\n",
       "      <td>NaN</td>\n",
       "      <td>NaN</td>\n",
       "      <td>7.895800</td>\n",
       "      <td>NaN</td>\n",
       "      <td>0.000000</td>\n",
       "      <td>2.000000</td>\n",
       "      <td>NaN</td>\n",
       "      <td>0.000000</td>\n",
       "      <td>-888.000000</td>\n",
       "      <td>NaN</td>\n",
       "    </tr>\n",
       "    <tr>\n",
       "      <th>50%</th>\n",
       "      <td>28.000000</td>\n",
       "      <td>NaN</td>\n",
       "      <td>NaN</td>\n",
       "      <td>14.454200</td>\n",
       "      <td>NaN</td>\n",
       "      <td>0.000000</td>\n",
       "      <td>3.000000</td>\n",
       "      <td>NaN</td>\n",
       "      <td>0.000000</td>\n",
       "      <td>0.000000</td>\n",
       "      <td>NaN</td>\n",
       "    </tr>\n",
       "    <tr>\n",
       "      <th>75%</th>\n",
       "      <td>39.000000</td>\n",
       "      <td>NaN</td>\n",
       "      <td>NaN</td>\n",
       "      <td>31.275000</td>\n",
       "      <td>NaN</td>\n",
       "      <td>0.000000</td>\n",
       "      <td>3.000000</td>\n",
       "      <td>NaN</td>\n",
       "      <td>1.000000</td>\n",
       "      <td>1.000000</td>\n",
       "      <td>NaN</td>\n",
       "    </tr>\n",
       "    <tr>\n",
       "      <th>max</th>\n",
       "      <td>80.000000</td>\n",
       "      <td>NaN</td>\n",
       "      <td>NaN</td>\n",
       "      <td>512.329200</td>\n",
       "      <td>NaN</td>\n",
       "      <td>9.000000</td>\n",
       "      <td>3.000000</td>\n",
       "      <td>NaN</td>\n",
       "      <td>8.000000</td>\n",
       "      <td>1.000000</td>\n",
       "      <td>NaN</td>\n",
       "    </tr>\n",
       "  </tbody>\n",
       "</table>\n",
       "</div>"
      ],
      "text/plain": [
       "                Age        Cabin Embarked         Fare                  Name  \\\n",
       "count   1046.000000          295     1307  1308.000000                  1309   \n",
       "unique          NaN          186        3          NaN                  1307   \n",
       "top             NaN  C23 C25 C27        S          NaN  Connolly, Miss. Kate   \n",
       "freq            NaN            6      914          NaN                     2   \n",
       "mean      29.881138          NaN      NaN    33.295479                   NaN   \n",
       "std       14.413493          NaN      NaN    51.758668                   NaN   \n",
       "min        0.170000          NaN      NaN     0.000000                   NaN   \n",
       "25%       21.000000          NaN      NaN     7.895800                   NaN   \n",
       "50%       28.000000          NaN      NaN    14.454200                   NaN   \n",
       "75%       39.000000          NaN      NaN    31.275000                   NaN   \n",
       "max       80.000000          NaN      NaN   512.329200                   NaN   \n",
       "\n",
       "              Parch       Pclass   Sex        SibSp     Survived    Ticket  \n",
       "count   1309.000000  1309.000000  1309  1309.000000  1309.000000      1309  \n",
       "unique          NaN          NaN     2          NaN          NaN       929  \n",
       "top             NaN          NaN  male          NaN          NaN  CA. 2343  \n",
       "freq            NaN          NaN   843          NaN          NaN        11  \n",
       "mean       0.385027     2.294882   NaN     0.498854  -283.301757       NaN  \n",
       "std        0.865560     0.837836   NaN     1.041658   414.337413       NaN  \n",
       "min        0.000000     1.000000   NaN     0.000000  -888.000000       NaN  \n",
       "25%        0.000000     2.000000   NaN     0.000000  -888.000000       NaN  \n",
       "50%        0.000000     3.000000   NaN     0.000000     0.000000       NaN  \n",
       "75%        0.000000     3.000000   NaN     1.000000     1.000000       NaN  \n",
       "max        9.000000     3.000000   NaN     8.000000     1.000000       NaN  "
      ]
     },
     "execution_count": 28,
     "metadata": {},
     "output_type": "execute_result"
    }
   ],
   "source": [
    "df.describe(include='all')"
   ]
  },
  {
   "cell_type": "code",
   "execution_count": 29,
   "metadata": {
    "collapsed": false
   },
   "outputs": [
    {
     "data": {
      "text/plain": [
       "male      843\n",
       "female    466\n",
       "Name: Sex, dtype: int64"
      ]
     },
     "execution_count": 29,
     "metadata": {},
     "output_type": "execute_result"
    }
   ],
   "source": [
    "# categorical column : Counts\n",
    "df.Sex.value_counts()"
   ]
  },
  {
   "cell_type": "code",
   "execution_count": 30,
   "metadata": {
    "collapsed": false
   },
   "outputs": [
    {
     "data": {
      "text/plain": [
       "male      0.644003\n",
       "female    0.355997\n",
       "Name: Sex, dtype: float64"
      ]
     },
     "execution_count": 30,
     "metadata": {},
     "output_type": "execute_result"
    }
   ],
   "source": [
    "# categorical column : Proprotions\n",
    "df.Sex.value_counts(normalize=True)"
   ]
  },
  {
   "cell_type": "markdown",
   "metadata": {},
   "source": [
    "#### Distributions"
   ]
  },
  {
   "cell_type": "code",
   "execution_count": 31,
   "metadata": {
    "collapsed": false
   },
   "outputs": [
    {
     "data": {
      "image/png": "[encoded data removed]",
      "text/plain": [
       "<matplotlib.figure.Figure at 0x7f8f86d2fb90>"
      ]
     },
     "metadata": {},
     "output_type": "display_data"
    }
   ],
   "source": [
    "#use hist to create histogram\n",
    "df.Age.plot(kind='hist', title='histogram for Age', color='c');"
   ]
  },
  {
   "cell_type": "code",
   "execution_count": 32,
   "metadata": {
    "collapsed": false
   },
   "outputs": [
    {
     "data": {
      "image/png": "[encoded data removed]",
      "text/plain": [
       "<matplotlib.figure.Figure at 0x7f8f86a95450>"
      ]
     },
     "metadata": {},
     "output_type": "display_data"
    }
   ],
   "source": [
    "#use bins to add or remove bins\n",
    "df.Age.plot(kind='hist', title='histogram for Age', color='c', bins=20);"
   ]
  },
  {
   "cell_type": "code",
   "execution_count": 33,
   "metadata": {
    "collapsed": false
   },
   "outputs": [
    {
     "data": {
      "text/plain": [
       "<matplotlib.axes._subplots.AxesSubplot at 0x7f8f869d1ed0>"
      ]
     },
     "execution_count": 33,
     "metadata": {},
     "output_type": "execute_result"
    },
    {
     "data": {
      "image/png": "[encoded data removed]",
      "text/plain": [
       "<matplotlib.figure.Figure at 0x7f8f86934cd0>"
      ]
     },
     "metadata": {},
     "output_type": "display_data"
    }
   ],
   "source": [
    "#use kde for density plot\n",
    "df.Age.plot(kind='kde', title='Density plot for Age', color='c')"
   ]
  },
  {
   "cell_type": "code",
   "execution_count": 34,
   "metadata": {
    "collapsed": false
   },
   "outputs": [
    {
     "data": {
      "text/plain": [
       "<matplotlib.axes._subplots.AxesSubplot at 0x7f8f8023dc10>"
      ]
     },
     "execution_count": 34,
     "metadata": {},
     "output_type": "execute_result"
    },
    {
     "data": {
      "image/png": "[encoded data removed]",
      "text/plain": [
       "<matplotlib.figure.Figure at 0x7f8f8026c390>"
      ]
     },
     "metadata": {},
     "output_type": "display_data"
    }
   ],
   "source": [
    "#histogram for passenger fare\n",
    "df.Fare.plot(kind='hist', title='Histogram for Fare', color='c', bins=20)"
   ]
  },
  {
   "cell_type": "code",
   "execution_count": 35,
   "metadata": {
    "collapsed": false
   },
   "outputs": [
    {
     "name": "stdout",
     "output_type": "stream",
     "text": [
      "skewness for age:0.41\n",
      "skewness for fare:4.37\n"
     ]
    }
   ],
   "source": [
    "print('skewness for age:{:.2f}'.format(df.Age.skew()))\n",
    "print('skewness for fare:{0:.2f}'.format(df.Fare.skew()))\n"
   ]
  },
  {
   "cell_type": "code",
   "execution_count": 36,
   "metadata": {
    "collapsed": false
   },
   "outputs": [
    {
     "data": {
      "text/plain": [
       "<matplotlib.axes._subplots.AxesSubplot at 0x7f8f80215e10>"
      ]
     },
     "execution_count": 36,
     "metadata": {},
     "output_type": "execute_result"
    },
    {
     "data": {
      "image/png": "[encoded data removed]",
      "text/plain": [
       "<matplotlib.figure.Figure at 0x7f8f86a95310>"
      ]
     },
     "metadata": {},
     "output_type": "display_data"
    }
   ],
   "source": [
    "#use scatter plots\n",
    "df.plot.scatter(x='Age', y='Fare', title='scatter plot of age andfare', color='c')    "
   ]
  },
  {
   "cell_type": "code",
   "execution_count": 37,
   "metadata": {
    "collapsed": false,
    "scrolled": true
   },
   "outputs": [
    {
     "data": {
      "text/plain": [
       "<matplotlib.axes._subplots.AxesSubplot at 0x7f8f800dfe90>"
      ]
     },
     "execution_count": 37,
     "metadata": {},
     "output_type": "execute_result"
    },
    {
     "data": {
      "image/png": "[encoded data removed]",
      "text/plain": [
       "<matplotlib.figure.Figure at 0x7f8f800714d0>"
      ]
     },
     "metadata": {},
     "output_type": "display_data"
    }
   ],
   "source": [
    "df.plot.scatter(x='Age', y='Fare', title=\"scatter plot of Age and Fare\",alpha=0.3)"
   ]
  },
  {
   "cell_type": "code",
   "execution_count": 38,
   "metadata": {
    "collapsed": false
   },
   "outputs": [
    {
     "data": {
      "text/plain": [
       "<matplotlib.axes._subplots.AxesSubplot at 0x7f8f80065fd0>"
      ]
     },
     "execution_count": 38,
     "metadata": {},
     "output_type": "execute_result"
    },
    {
     "data": {
      "image/png": "[encoded data removed]",
      "text/plain": [
       "<matplotlib.figure.Figure at 0x7f8f8003b410>"
      ]
     },
     "metadata": {},
     "output_type": "display_data"
    }
   ],
   "source": [
    "df.plot.scatter(x='Fare',y='Age', title='scatter plot',alpha=0.5 )"
   ]
  },
  {
   "cell_type": "markdown",
   "metadata": {},
   "source": [
    " ### Grouping and Aggregations"
   ]
  },
  {
   "cell_type": "code",
   "execution_count": 39,
   "metadata": {
    "collapsed": false
   },
   "outputs": [
    {
     "data": {
      "text/plain": [
       "Sex\n",
       "female    27.0\n",
       "male      28.0\n",
       "Name: Age, dtype: float64"
      ]
     },
     "execution_count": 39,
     "metadata": {},
     "output_type": "execute_result"
    }
   ],
   "source": [
    "#group by\n",
    "df.groupby(['Sex']).Age.median()"
   ]
  },
  {
   "cell_type": "code",
   "execution_count": 40,
   "metadata": {
    "collapsed": false
   },
   "outputs": [
    {
     "data": {
      "text/plain": [
       "Pclass\n",
       "1    60.0000\n",
       "2    15.0458\n",
       "3     8.0500\n",
       "Name: Fare, dtype: float64"
      ]
     },
     "execution_count": 40,
     "metadata": {},
     "output_type": "execute_result"
    }
   ],
   "source": [
    "df.groupby(['Pclass']).Fare.median()"
   ]
  },
  {
   "cell_type": "code",
   "execution_count": 41,
   "metadata": {
    "collapsed": false
   },
   "outputs": [
    {
     "data": {
      "text/plain": [
       "Pclass\n",
       "1    39.0\n",
       "2    29.0\n",
       "3    24.0\n",
       "Name: Age, dtype: float64"
      ]
     },
     "execution_count": 41,
     "metadata": {},
     "output_type": "execute_result"
    }
   ],
   "source": [
    "df.groupby(['Pclass']).Age.median()"
   ]
  },
  {
   "cell_type": "code",
   "execution_count": 42,
   "metadata": {
    "collapsed": false
   },
   "outputs": [
    {
     "data": {
      "text/html": [
       "<div>\n",
       "<table border=\"1\" class=\"dataframe\">\n",
       "  <thead>\n",
       "    <tr style=\"text-align: right;\">\n",
       "      <th></th>\n",
       "      <th>Fare</th>\n",
       "      <th>Age</th>\n",
       "    </tr>\n",
       "    <tr>\n",
       "      <th>Pclass</th>\n",
       "      <th></th>\n",
       "      <th></th>\n",
       "    </tr>\n",
       "  </thead>\n",
       "  <tbody>\n",
       "    <tr>\n",
       "      <th>1</th>\n",
       "      <td>60.0000</td>\n",
       "      <td>39.0</td>\n",
       "    </tr>\n",
       "    <tr>\n",
       "      <th>2</th>\n",
       "      <td>15.0458</td>\n",
       "      <td>29.0</td>\n",
       "    </tr>\n",
       "    <tr>\n",
       "      <th>3</th>\n",
       "      <td>8.0500</td>\n",
       "      <td>24.0</td>\n",
       "    </tr>\n",
       "  </tbody>\n",
       "</table>\n",
       "</div>"
      ],
      "text/plain": [
       "           Fare   Age\n",
       "Pclass               \n",
       "1       60.0000  39.0\n",
       "2       15.0458  29.0\n",
       "3        8.0500  24.0"
      ]
     },
     "execution_count": 42,
     "metadata": {},
     "output_type": "execute_result"
    }
   ],
   "source": [
    "df.groupby(['Pclass'])['Fare','Age'].median()"
   ]
  },
  {
   "cell_type": "code",
   "execution_count": 43,
   "metadata": {
    "collapsed": false
   },
   "outputs": [
    {
     "data": {
      "text/html": [
       "<div>\n",
       "<table border=\"1\" class=\"dataframe\">\n",
       "  <thead>\n",
       "    <tr style=\"text-align: right;\">\n",
       "      <th></th>\n",
       "      <th>Fare</th>\n",
       "      <th>Age</th>\n",
       "    </tr>\n",
       "    <tr>\n",
       "      <th>Pclass</th>\n",
       "      <th></th>\n",
       "      <th></th>\n",
       "    </tr>\n",
       "  </thead>\n",
       "  <tbody>\n",
       "    <tr>\n",
       "      <th>1</th>\n",
       "      <td>87.508992</td>\n",
       "      <td>39.0</td>\n",
       "    </tr>\n",
       "    <tr>\n",
       "      <th>2</th>\n",
       "      <td>21.179196</td>\n",
       "      <td>29.0</td>\n",
       "    </tr>\n",
       "    <tr>\n",
       "      <th>3</th>\n",
       "      <td>13.302889</td>\n",
       "      <td>24.0</td>\n",
       "    </tr>\n",
       "  </tbody>\n",
       "</table>\n",
       "</div>"
      ],
      "text/plain": [
       "             Fare   Age\n",
       "Pclass                 \n",
       "1       87.508992  39.0\n",
       "2       21.179196  29.0\n",
       "3       13.302889  24.0"
      ]
     },
     "execution_count": 43,
     "metadata": {},
     "output_type": "execute_result"
    }
   ],
   "source": [
    "df.groupby(['Pclass']).agg({'Fare':'mean','Age':'median' })"
   ]
  },
  {
   "cell_type": "code",
   "execution_count": 44,
   "metadata": {
    "collapsed": true
   },
   "outputs": [],
   "source": [
    "aggregations = {\n",
    "    'Fare':{\n",
    "        'mean_fare':'mean',\n",
    "        'median_fare':'median',\n",
    "        'max_fare':max,\n",
    "        'min_fare':np.min\n",
    "    },\n",
    "    'Age':{\n",
    "        'median_age':'median',\n",
    "        'min_age':min,\n",
    "        'max_age':max,\n",
    "        'range_age': lambda x: max(x)-min(x)\n",
    "    }\n",
    "    \n",
    "}"
   ]
  },
  {
   "cell_type": "code",
   "execution_count": 45,
   "metadata": {
    "collapsed": false
   },
   "outputs": [
    {
     "data": {
      "text/html": [
       "<div>\n",
       "<table border=\"1\" class=\"dataframe\">\n",
       "  <thead>\n",
       "    <tr>\n",
       "      <th></th>\n",
       "      <th colspan=\"4\" halign=\"left\">Fare</th>\n",
       "      <th colspan=\"4\" halign=\"left\">Age</th>\n",
       "    </tr>\n",
       "    <tr>\n",
       "      <th></th>\n",
       "      <th>mean_fare</th>\n",
       "      <th>max_fare</th>\n",
       "      <th>median_fare</th>\n",
       "      <th>min_fare</th>\n",
       "      <th>max_age</th>\n",
       "      <th>range_age</th>\n",
       "      <th>median_age</th>\n",
       "      <th>min_age</th>\n",
       "    </tr>\n",
       "    <tr>\n",
       "      <th>Pclass</th>\n",
       "      <th></th>\n",
       "      <th></th>\n",
       "      <th></th>\n",
       "      <th></th>\n",
       "      <th></th>\n",
       "      <th></th>\n",
       "      <th></th>\n",
       "      <th></th>\n",
       "    </tr>\n",
       "  </thead>\n",
       "  <tbody>\n",
       "    <tr>\n",
       "      <th>1</th>\n",
       "      <td>87.508992</td>\n",
       "      <td>512.3292</td>\n",
       "      <td>60.0000</td>\n",
       "      <td>0.0</td>\n",
       "      <td>80.0</td>\n",
       "      <td>79.08</td>\n",
       "      <td>39.0</td>\n",
       "      <td>0.92</td>\n",
       "    </tr>\n",
       "    <tr>\n",
       "      <th>2</th>\n",
       "      <td>21.179196</td>\n",
       "      <td>73.5000</td>\n",
       "      <td>15.0458</td>\n",
       "      <td>0.0</td>\n",
       "      <td>70.0</td>\n",
       "      <td>69.33</td>\n",
       "      <td>29.0</td>\n",
       "      <td>0.67</td>\n",
       "    </tr>\n",
       "    <tr>\n",
       "      <th>3</th>\n",
       "      <td>13.302889</td>\n",
       "      <td>69.5500</td>\n",
       "      <td>8.0500</td>\n",
       "      <td>0.0</td>\n",
       "      <td>74.0</td>\n",
       "      <td>73.83</td>\n",
       "      <td>24.0</td>\n",
       "      <td>0.17</td>\n",
       "    </tr>\n",
       "  </tbody>\n",
       "</table>\n",
       "</div>"
      ],
      "text/plain": [
       "             Fare                                    Age                       \\\n",
       "        mean_fare  max_fare median_fare min_fare max_age range_age median_age   \n",
       "Pclass                                                                          \n",
       "1       87.508992  512.3292     60.0000      0.0    80.0     79.08       39.0   \n",
       "2       21.179196   73.5000     15.0458      0.0    70.0     69.33       29.0   \n",
       "3       13.302889   69.5500      8.0500      0.0    74.0     73.83       24.0   \n",
       "\n",
       "                \n",
       "       min_age  \n",
       "Pclass          \n",
       "1         0.92  \n",
       "2         0.67  \n",
       "3         0.17  "
      ]
     },
     "execution_count": 45,
     "metadata": {},
     "output_type": "execute_result"
    }
   ],
   "source": [
    "df.groupby(['Pclass']).agg(aggregations)"
   ]
  },
  {
   "cell_type": "code",
   "execution_count": 46,
   "metadata": {
    "collapsed": false
   },
   "outputs": [
    {
     "data": {
      "text/plain": [
       "Pclass  Embarked\n",
       "1       C           76.7292\n",
       "        Q           90.0000\n",
       "        S           52.0000\n",
       "2       C           15.3146\n",
       "        Q           12.3500\n",
       "        S           15.3750\n",
       "3       C            7.8958\n",
       "        Q            7.7500\n",
       "        S            8.0500\n",
       "Name: Fare, dtype: float64"
      ]
     },
     "execution_count": 46,
     "metadata": {},
     "output_type": "execute_result"
    }
   ],
   "source": [
    "df.groupby(['Pclass','Embarked']).Fare.median()"
   ]
  },
  {
   "cell_type": "markdown",
   "metadata": {},
   "source": [
    "### Crosstabs"
   ]
  },
  {
   "cell_type": "code",
   "execution_count": 47,
   "metadata": {
    "collapsed": false
   },
   "outputs": [
    {
     "data": {
      "text/html": [
       "<div>\n",
       "<table border=\"1\" class=\"dataframe\">\n",
       "  <thead>\n",
       "    <tr style=\"text-align: right;\">\n",
       "      <th>Pclass</th>\n",
       "      <th>1</th>\n",
       "      <th>2</th>\n",
       "      <th>3</th>\n",
       "    </tr>\n",
       "    <tr>\n",
       "      <th>Sex</th>\n",
       "      <th></th>\n",
       "      <th></th>\n",
       "      <th></th>\n",
       "    </tr>\n",
       "  </thead>\n",
       "  <tbody>\n",
       "    <tr>\n",
       "      <th>female</th>\n",
       "      <td>144</td>\n",
       "      <td>106</td>\n",
       "      <td>216</td>\n",
       "    </tr>\n",
       "    <tr>\n",
       "      <th>male</th>\n",
       "      <td>179</td>\n",
       "      <td>171</td>\n",
       "      <td>493</td>\n",
       "    </tr>\n",
       "  </tbody>\n",
       "</table>\n",
       "</div>"
      ],
      "text/plain": [
       "Pclass    1    2    3\n",
       "Sex                  \n",
       "female  144  106  216\n",
       "male    179  171  493"
      ]
     },
     "execution_count": 47,
     "metadata": {},
     "output_type": "execute_result"
    }
   ],
   "source": [
    "# corsstab on Sex and Pclass\n",
    "pd.crosstab(df.Sex, df.Pclass)"
   ]
  },
  {
   "cell_type": "code",
   "execution_count": 48,
   "metadata": {
    "collapsed": false
   },
   "outputs": [
    {
     "data": {
      "text/plain": [
       "<matplotlib.axes._subplots.AxesSubplot at 0x7f8f8696d150>"
      ]
     },
     "execution_count": 48,
     "metadata": {},
     "output_type": "execute_result"
    },
    {
     "data": {
      "image/png": "[encoded data removed]",
      "text/plain": [
       "<matplotlib.figure.Figure at 0x7f8f868a1f10>"
      ]
     },
     "metadata": {},
     "output_type": "display_data"
    }
   ],
   "source": [
    "pd.crosstab(df.Sex, df.Pclass).plot(kind='bar')"
   ]
  },
  {
   "cell_type": "markdown",
   "metadata": {},
   "source": [
    "### Pivots"
   ]
  },
  {
   "cell_type": "code",
   "execution_count": 49,
   "metadata": {
    "collapsed": false
   },
   "outputs": [
    {
     "data": {
      "text/html": [
       "<div>\n",
       "<table border=\"1\" class=\"dataframe\">\n",
       "  <thead>\n",
       "    <tr style=\"text-align: right;\">\n",
       "      <th>Pclass</th>\n",
       "      <th>1</th>\n",
       "      <th>2</th>\n",
       "      <th>3</th>\n",
       "    </tr>\n",
       "    <tr>\n",
       "      <th>Sex</th>\n",
       "      <th></th>\n",
       "      <th></th>\n",
       "      <th></th>\n",
       "    </tr>\n",
       "  </thead>\n",
       "  <tbody>\n",
       "    <tr>\n",
       "      <th>female</th>\n",
       "      <td>37.037594</td>\n",
       "      <td>27.499223</td>\n",
       "      <td>22.185329</td>\n",
       "    </tr>\n",
       "    <tr>\n",
       "      <th>male</th>\n",
       "      <td>41.029272</td>\n",
       "      <td>30.815380</td>\n",
       "      <td>25.962264</td>\n",
       "    </tr>\n",
       "  </tbody>\n",
       "</table>\n",
       "</div>"
      ],
      "text/plain": [
       "Pclass          1          2          3\n",
       "Sex                                    \n",
       "female  37.037594  27.499223  22.185329\n",
       "male    41.029272  30.815380  25.962264"
      ]
     },
     "execution_count": 49,
     "metadata": {},
     "output_type": "execute_result"
    }
   ],
   "source": [
    "df.pivot_table(index='Sex', columns='Pclass',values='Age', aggfunc='mean')"
   ]
  },
  {
   "cell_type": "code",
   "execution_count": 50,
   "metadata": {
    "collapsed": false
   },
   "outputs": [
    {
     "data": {
      "text/plain": [
       "Sex     Pclass\n",
       "female  1         37.037594\n",
       "        2         27.499223\n",
       "        3         22.185329\n",
       "male    1         41.029272\n",
       "        2         30.815380\n",
       "        3         25.962264\n",
       "Name: Age, dtype: float64"
      ]
     },
     "execution_count": 50,
     "metadata": {},
     "output_type": "execute_result"
    }
   ],
   "source": [
    "df.groupby(['Sex','Pclass']).Age.mean()"
   ]
  },
  {
   "cell_type": "markdown",
   "metadata": {},
   "source": [
    "#### Feature: Embarked"
   ]
  },
  {
   "cell_type": "code",
   "execution_count": 51,
   "metadata": {
    "collapsed": false
   },
   "outputs": [
    {
     "data": {
      "text/html": [
       "<div>\n",
       "<table border=\"1\" class=\"dataframe\">\n",
       "  <thead>\n",
       "    <tr style=\"text-align: right;\">\n",
       "      <th></th>\n",
       "      <th>Age</th>\n",
       "      <th>Cabin</th>\n",
       "      <th>Embarked</th>\n",
       "      <th>Fare</th>\n",
       "      <th>Name</th>\n",
       "      <th>Parch</th>\n",
       "      <th>Pclass</th>\n",
       "      <th>Sex</th>\n",
       "      <th>SibSp</th>\n",
       "      <th>Survived</th>\n",
       "      <th>Ticket</th>\n",
       "    </tr>\n",
       "    <tr>\n",
       "      <th>PassengerId</th>\n",
       "      <th></th>\n",
       "      <th></th>\n",
       "      <th></th>\n",
       "      <th></th>\n",
       "      <th></th>\n",
       "      <th></th>\n",
       "      <th></th>\n",
       "      <th></th>\n",
       "      <th></th>\n",
       "      <th></th>\n",
       "      <th></th>\n",
       "    </tr>\n",
       "  </thead>\n",
       "  <tbody>\n",
       "    <tr>\n",
       "      <th>62</th>\n",
       "      <td>38.0</td>\n",
       "      <td>B28</td>\n",
       "      <td>NaN</td>\n",
       "      <td>80.0</td>\n",
       "      <td>Icard, Miss. Amelie</td>\n",
       "      <td>0</td>\n",
       "      <td>1</td>\n",
       "      <td>female</td>\n",
       "      <td>0</td>\n",
       "      <td>1</td>\n",
       "      <td>113572</td>\n",
       "    </tr>\n",
       "    <tr>\n",
       "      <th>830</th>\n",
       "      <td>62.0</td>\n",
       "      <td>B28</td>\n",
       "      <td>NaN</td>\n",
       "      <td>80.0</td>\n",
       "      <td>Stone, Mrs. George Nelson (Martha Evelyn)</td>\n",
       "      <td>0</td>\n",
       "      <td>1</td>\n",
       "      <td>female</td>\n",
       "      <td>0</td>\n",
       "      <td>1</td>\n",
       "      <td>113572</td>\n",
       "    </tr>\n",
       "  </tbody>\n",
       "</table>\n",
       "</div>"
      ],
      "text/plain": [
       "              Age Cabin Embarked  Fare  \\\n",
       "PassengerId                              \n",
       "62           38.0   B28      NaN  80.0   \n",
       "830          62.0   B28      NaN  80.0   \n",
       "\n",
       "                                                  Name  Parch  Pclass     Sex  \\\n",
       "PassengerId                                                                     \n",
       "62                                 Icard, Miss. Amelie      0       1  female   \n",
       "830          Stone, Mrs. George Nelson (Martha Evelyn)      0       1  female   \n",
       "\n",
       "             SibSp  Survived  Ticket  \n",
       "PassengerId                           \n",
       "62               0         1  113572  \n",
       "830              0         1  113572  "
      ]
     },
     "execution_count": 51,
     "metadata": {},
     "output_type": "execute_result"
    }
   ],
   "source": [
    "#extract rows with embarked as Null\n",
    "df[df[\"Embarked\"].isnull()]"
   ]
  },
  {
   "cell_type": "code",
   "execution_count": 52,
   "metadata": {
    "collapsed": false
   },
   "outputs": [
    {
     "data": {
      "text/plain": [
       "S    914\n",
       "C    270\n",
       "Q    123\n",
       "Name: Embarked, dtype: int64"
      ]
     },
     "execution_count": 52,
     "metadata": {},
     "output_type": "execute_result"
    }
   ],
   "source": [
    "#how many people embarked at different points\n",
    "df.Embarked.value_counts()"
   ]
  },
  {
   "cell_type": "code",
   "execution_count": 53,
   "metadata": {
    "collapsed": false
   },
   "outputs": [
    {
     "data": {
      "text/html": [
       "<div>\n",
       "<table border=\"1\" class=\"dataframe\">\n",
       "  <thead>\n",
       "    <tr style=\"text-align: right;\">\n",
       "      <th>Embarked</th>\n",
       "      <th>C</th>\n",
       "      <th>Q</th>\n",
       "      <th>S</th>\n",
       "    </tr>\n",
       "    <tr>\n",
       "      <th>Survived</th>\n",
       "      <th></th>\n",
       "      <th></th>\n",
       "      <th></th>\n",
       "    </tr>\n",
       "  </thead>\n",
       "  <tbody>\n",
       "    <tr>\n",
       "      <th>0</th>\n",
       "      <td>75</td>\n",
       "      <td>47</td>\n",
       "      <td>427</td>\n",
       "    </tr>\n",
       "    <tr>\n",
       "      <th>1</th>\n",
       "      <td>93</td>\n",
       "      <td>30</td>\n",
       "      <td>217</td>\n",
       "    </tr>\n",
       "  </tbody>\n",
       "</table>\n",
       "</div>"
      ],
      "text/plain": [
       "Embarked   C   Q    S\n",
       "Survived             \n",
       "0         75  47  427\n",
       "1         93  30  217"
      ]
     },
     "execution_count": 53,
     "metadata": {},
     "output_type": "execute_result"
    }
   ],
   "source": [
    "pd.crosstab(df[df['Survived']!=-888].Survived, df[df[\"Survived\"]!=-888].Embarked)"
   ]
  },
  {
   "cell_type": "code",
   "execution_count": 54,
   "metadata": {
    "collapsed": false
   },
   "outputs": [
    {
     "data": {
      "text/plain": [
       "Embarked  Pclass\n",
       "C         1         76.7292\n",
       "          2         15.3146\n",
       "          3          7.8958\n",
       "Q         1         90.0000\n",
       "          2         12.3500\n",
       "          3          7.7500\n",
       "S         1         52.0000\n",
       "          2         15.3750\n",
       "          3          8.0500\n",
       "Name: Fare, dtype: float64"
      ]
     },
     "execution_count": 54,
     "metadata": {},
     "output_type": "execute_result"
    }
   ],
   "source": [
    "df.groupby([\"Embarked\",\"Pclass\"]).Fare.median()\n"
   ]
  },
  {
   "cell_type": "code",
   "execution_count": 55,
   "metadata": {
    "collapsed": true
   },
   "outputs": [],
   "source": [
    "df.Embarked.fillna('C', inplace=True)"
   ]
  },
  {
   "cell_type": "code",
   "execution_count": 56,
   "metadata": {
    "collapsed": false
   },
   "outputs": [
    {
     "data": {
      "text/html": [
       "<div>\n",
       "<table border=\"1\" class=\"dataframe\">\n",
       "  <thead>\n",
       "    <tr style=\"text-align: right;\">\n",
       "      <th></th>\n",
       "      <th>Age</th>\n",
       "      <th>Cabin</th>\n",
       "      <th>Embarked</th>\n",
       "      <th>Fare</th>\n",
       "      <th>Name</th>\n",
       "      <th>Parch</th>\n",
       "      <th>Pclass</th>\n",
       "      <th>Sex</th>\n",
       "      <th>SibSp</th>\n",
       "      <th>Survived</th>\n",
       "      <th>Ticket</th>\n",
       "    </tr>\n",
       "    <tr>\n",
       "      <th>PassengerId</th>\n",
       "      <th></th>\n",
       "      <th></th>\n",
       "      <th></th>\n",
       "      <th></th>\n",
       "      <th></th>\n",
       "      <th></th>\n",
       "      <th></th>\n",
       "      <th></th>\n",
       "      <th></th>\n",
       "      <th></th>\n",
       "      <th></th>\n",
       "    </tr>\n",
       "  </thead>\n",
       "  <tbody>\n",
       "  </tbody>\n",
       "</table>\n",
       "</div>"
      ],
      "text/plain": [
       "Empty DataFrame\n",
       "Columns: [Age, Cabin, Embarked, Fare, Name, Parch, Pclass, Sex, SibSp, Survived, Ticket]\n",
       "Index: []"
      ]
     },
     "execution_count": 56,
     "metadata": {},
     "output_type": "execute_result"
    }
   ],
   "source": [
    "  df[df[\"Embarked\"].isnull()]"
   ]
  },
  {
   "cell_type": "code",
   "execution_count": 57,
   "metadata": {
    "collapsed": false
   },
   "outputs": [
    {
     "name": "stdout",
     "output_type": "stream",
     "text": [
      "<class 'pandas.core.frame.DataFrame'>\n",
      "Int64Index: 1309 entries, 1 to 1309\n",
      "Data columns (total 11 columns):\n",
      "Age         1046 non-null float64\n",
      "Cabin       295 non-null object\n",
      "Embarked    1309 non-null object\n",
      "Fare        1308 non-null float64\n",
      "Name        1309 non-null object\n",
      "Parch       1309 non-null int64\n",
      "Pclass      1309 non-null int64\n",
      "Sex         1309 non-null object\n",
      "SibSp       1309 non-null int64\n",
      "Survived    1309 non-null int64\n",
      "Ticket      1309 non-null object\n",
      "dtypes: float64(2), int64(4), object(5)\n",
      "memory usage: 122.7+ KB\n"
     ]
    }
   ],
   "source": [
    "df.info()"
   ]
  },
  {
   "cell_type": "markdown",
   "metadata": {},
   "source": [
    "### Feauture : Fare"
   ]
  },
  {
   "cell_type": "code",
   "execution_count": 58,
   "metadata": {
    "collapsed": false
   },
   "outputs": [
    {
     "data": {
      "text/html": [
       "<div>\n",
       "<table border=\"1\" class=\"dataframe\">\n",
       "  <thead>\n",
       "    <tr style=\"text-align: right;\">\n",
       "      <th></th>\n",
       "      <th>Age</th>\n",
       "      <th>Cabin</th>\n",
       "      <th>Embarked</th>\n",
       "      <th>Fare</th>\n",
       "      <th>Name</th>\n",
       "      <th>Parch</th>\n",
       "      <th>Pclass</th>\n",
       "      <th>Sex</th>\n",
       "      <th>SibSp</th>\n",
       "      <th>Survived</th>\n",
       "      <th>Ticket</th>\n",
       "    </tr>\n",
       "    <tr>\n",
       "      <th>PassengerId</th>\n",
       "      <th></th>\n",
       "      <th></th>\n",
       "      <th></th>\n",
       "      <th></th>\n",
       "      <th></th>\n",
       "      <th></th>\n",
       "      <th></th>\n",
       "      <th></th>\n",
       "      <th></th>\n",
       "      <th></th>\n",
       "      <th></th>\n",
       "    </tr>\n",
       "  </thead>\n",
       "  <tbody>\n",
       "    <tr>\n",
       "      <th>1044</th>\n",
       "      <td>60.5</td>\n",
       "      <td>NaN</td>\n",
       "      <td>S</td>\n",
       "      <td>NaN</td>\n",
       "      <td>Storey, Mr. Thomas</td>\n",
       "      <td>0</td>\n",
       "      <td>3</td>\n",
       "      <td>male</td>\n",
       "      <td>0</td>\n",
       "      <td>-888</td>\n",
       "      <td>3701</td>\n",
       "    </tr>\n",
       "  </tbody>\n",
       "</table>\n",
       "</div>"
      ],
      "text/plain": [
       "              Age Cabin Embarked  Fare                Name  Parch  Pclass  \\\n",
       "PassengerId                                                                 \n",
       "1044         60.5   NaN        S   NaN  Storey, Mr. Thomas      0       3   \n",
       "\n",
       "              Sex  SibSp  Survived Ticket  \n",
       "PassengerId                                \n",
       "1044         male      0      -888   3701  "
      ]
     },
     "execution_count": 58,
     "metadata": {},
     "output_type": "execute_result"
    }
   ],
   "source": [
    "df[df[\"Fare\"].isnull()]\n"
   ]
  },
  {
   "cell_type": "code",
   "execution_count": 59,
   "metadata": {
    "collapsed": true
   },
   "outputs": [],
   "source": [
    "median_fare = df.loc[(df.Pclass== 3) & (df.Embarked=='S'), 'Fare'].median()"
   ]
  },
  {
   "cell_type": "code",
   "execution_count": 60,
   "metadata": {
    "collapsed": true
   },
   "outputs": [],
   "source": [
    "df[\"Fare\"].fillna(median_fare,inplace=True)"
   ]
  },
  {
   "cell_type": "code",
   "execution_count": 61,
   "metadata": {
    "collapsed": false
   },
   "outputs": [
    {
     "data": {
      "text/html": [
       "<div>\n",
       "<table border=\"1\" class=\"dataframe\">\n",
       "  <thead>\n",
       "    <tr style=\"text-align: right;\">\n",
       "      <th></th>\n",
       "      <th>Age</th>\n",
       "      <th>Cabin</th>\n",
       "      <th>Embarked</th>\n",
       "      <th>Fare</th>\n",
       "      <th>Name</th>\n",
       "      <th>Parch</th>\n",
       "      <th>Pclass</th>\n",
       "      <th>Sex</th>\n",
       "      <th>SibSp</th>\n",
       "      <th>Survived</th>\n",
       "      <th>Ticket</th>\n",
       "    </tr>\n",
       "    <tr>\n",
       "      <th>PassengerId</th>\n",
       "      <th></th>\n",
       "      <th></th>\n",
       "      <th></th>\n",
       "      <th></th>\n",
       "      <th></th>\n",
       "      <th></th>\n",
       "      <th></th>\n",
       "      <th></th>\n",
       "      <th></th>\n",
       "      <th></th>\n",
       "      <th></th>\n",
       "    </tr>\n",
       "  </thead>\n",
       "  <tbody>\n",
       "  </tbody>\n",
       "</table>\n",
       "</div>"
      ],
      "text/plain": [
       "Empty DataFrame\n",
       "Columns: [Age, Cabin, Embarked, Fare, Name, Parch, Pclass, Sex, SibSp, Survived, Ticket]\n",
       "Index: []"
      ]
     },
     "execution_count": 61,
     "metadata": {},
     "output_type": "execute_result"
    }
   ],
   "source": [
    "df[df.Fare.isnull()]"
   ]
  },
  {
   "cell_type": "markdown",
   "metadata": {},
   "source": [
    "### Feature: Age "
   ]
  },
  {
   "cell_type": "code",
   "execution_count": 62,
   "metadata": {
    "collapsed": false
   },
   "outputs": [
    {
     "name": "stdout",
     "output_type": "stream",
     "text": [
      "<class 'pandas.core.frame.DataFrame'>\n",
      "Int64Index: 1309 entries, 1 to 1309\n",
      "Data columns (total 11 columns):\n",
      "Age         1046 non-null float64\n",
      "Cabin       295 non-null object\n",
      "Embarked    1309 non-null object\n",
      "Fare        1309 non-null float64\n",
      "Name        1309 non-null object\n",
      "Parch       1309 non-null int64\n",
      "Pclass      1309 non-null int64\n",
      "Sex         1309 non-null object\n",
      "SibSp       1309 non-null int64\n",
      "Survived    1309 non-null int64\n",
      "Ticket      1309 non-null object\n",
      "dtypes: float64(2), int64(4), object(5)\n",
      "memory usage: 122.7+ KB\n"
     ]
    }
   ],
   "source": [
    "df.info()"
   ]
  },
  {
   "cell_type": "code",
   "execution_count": 63,
   "metadata": {
    "collapsed": false
   },
   "outputs": [
    {
     "data": {
      "text/html": [
       "<div>\n",
       "<table border=\"1\" class=\"dataframe\">\n",
       "  <thead>\n",
       "    <tr style=\"text-align: right;\">\n",
       "      <th></th>\n",
       "      <th>Age</th>\n",
       "      <th>Cabin</th>\n",
       "      <th>Embarked</th>\n",
       "      <th>Fare</th>\n",
       "      <th>Name</th>\n",
       "      <th>Parch</th>\n",
       "      <th>Pclass</th>\n",
       "      <th>Sex</th>\n",
       "      <th>SibSp</th>\n",
       "      <th>Survived</th>\n",
       "      <th>Ticket</th>\n",
       "    </tr>\n",
       "    <tr>\n",
       "      <th>PassengerId</th>\n",
       "      <th></th>\n",
       "      <th></th>\n",
       "      <th></th>\n",
       "      <th></th>\n",
       "      <th></th>\n",
       "      <th></th>\n",
       "      <th></th>\n",
       "      <th></th>\n",
       "      <th></th>\n",
       "      <th></th>\n",
       "      <th></th>\n",
       "    </tr>\n",
       "  </thead>\n",
       "  <tbody>\n",
       "    <tr>\n",
       "      <th>6</th>\n",
       "      <td>NaN</td>\n",
       "      <td>NaN</td>\n",
       "      <td>Q</td>\n",
       "      <td>8.4583</td>\n",
       "      <td>Moran, Mr. James</td>\n",
       "      <td>0</td>\n",
       "      <td>3</td>\n",
       "      <td>male</td>\n",
       "      <td>0</td>\n",
       "      <td>0</td>\n",
       "      <td>330877</td>\n",
       "    </tr>\n",
       "    <tr>\n",
       "      <th>18</th>\n",
       "      <td>NaN</td>\n",
       "      <td>NaN</td>\n",
       "      <td>S</td>\n",
       "      <td>13.0000</td>\n",
       "      <td>Williams, Mr. Charles Eugene</td>\n",
       "      <td>0</td>\n",
       "      <td>2</td>\n",
       "      <td>male</td>\n",
       "      <td>0</td>\n",
       "      <td>1</td>\n",
       "      <td>244373</td>\n",
       "    </tr>\n",
       "    <tr>\n",
       "      <th>20</th>\n",
       "      <td>NaN</td>\n",
       "      <td>NaN</td>\n",
       "      <td>C</td>\n",
       "      <td>7.2250</td>\n",
       "      <td>Masselmani, Mrs. Fatima</td>\n",
       "      <td>0</td>\n",
       "      <td>3</td>\n",
       "      <td>female</td>\n",
       "      <td>0</td>\n",
       "      <td>1</td>\n",
       "      <td>2649</td>\n",
       "    </tr>\n",
       "    <tr>\n",
       "      <th>27</th>\n",
       "      <td>NaN</td>\n",
       "      <td>NaN</td>\n",
       "      <td>C</td>\n",
       "      <td>7.2250</td>\n",
       "      <td>Emir, Mr. Farred Chehab</td>\n",
       "      <td>0</td>\n",
       "      <td>3</td>\n",
       "      <td>male</td>\n",
       "      <td>0</td>\n",
       "      <td>0</td>\n",
       "      <td>2631</td>\n",
       "    </tr>\n",
       "    <tr>\n",
       "      <th>29</th>\n",
       "      <td>NaN</td>\n",
       "      <td>NaN</td>\n",
       "      <td>Q</td>\n",
       "      <td>7.8792</td>\n",
       "      <td>O'Dwyer, Miss. Ellen \"Nellie\"</td>\n",
       "      <td>0</td>\n",
       "      <td>3</td>\n",
       "      <td>female</td>\n",
       "      <td>0</td>\n",
       "      <td>1</td>\n",
       "      <td>330959</td>\n",
       "    </tr>\n",
       "    <tr>\n",
       "      <th>30</th>\n",
       "      <td>NaN</td>\n",
       "      <td>NaN</td>\n",
       "      <td>S</td>\n",
       "      <td>7.8958</td>\n",
       "      <td>Todoroff, Mr. Lalio</td>\n",
       "      <td>0</td>\n",
       "      <td>3</td>\n",
       "      <td>male</td>\n",
       "      <td>0</td>\n",
       "      <td>0</td>\n",
       "      <td>349216</td>\n",
       "    </tr>\n",
       "    <tr>\n",
       "      <th>32</th>\n",
       "      <td>NaN</td>\n",
       "      <td>B78</td>\n",
       "      <td>C</td>\n",
       "      <td>146.5208</td>\n",
       "      <td>Spencer, Mrs. William Augustus (Marie Eugenie)</td>\n",
       "      <td>0</td>\n",
       "      <td>1</td>\n",
       "      <td>female</td>\n",
       "      <td>1</td>\n",
       "      <td>1</td>\n",
       "      <td>PC 17569</td>\n",
       "    </tr>\n",
       "    <tr>\n",
       "      <th>33</th>\n",
       "      <td>NaN</td>\n",
       "      <td>NaN</td>\n",
       "      <td>Q</td>\n",
       "      <td>7.7500</td>\n",
       "      <td>Glynn, Miss. Mary Agatha</td>\n",
       "      <td>0</td>\n",
       "      <td>3</td>\n",
       "      <td>female</td>\n",
       "      <td>0</td>\n",
       "      <td>1</td>\n",
       "      <td>335677</td>\n",
       "    </tr>\n",
       "    <tr>\n",
       "      <th>37</th>\n",
       "      <td>NaN</td>\n",
       "      <td>NaN</td>\n",
       "      <td>C</td>\n",
       "      <td>7.2292</td>\n",
       "      <td>Mamee, Mr. Hanna</td>\n",
       "      <td>0</td>\n",
       "      <td>3</td>\n",
       "      <td>male</td>\n",
       "      <td>0</td>\n",
       "      <td>1</td>\n",
       "      <td>2677</td>\n",
       "    </tr>\n",
       "    <tr>\n",
       "      <th>43</th>\n",
       "      <td>NaN</td>\n",
       "      <td>NaN</td>\n",
       "      <td>C</td>\n",
       "      <td>7.8958</td>\n",
       "      <td>Kraeff, Mr. Theodor</td>\n",
       "      <td>0</td>\n",
       "      <td>3</td>\n",
       "      <td>male</td>\n",
       "      <td>0</td>\n",
       "      <td>0</td>\n",
       "      <td>349253</td>\n",
       "    </tr>\n",
       "    <tr>\n",
       "      <th>46</th>\n",
       "      <td>NaN</td>\n",
       "      <td>NaN</td>\n",
       "      <td>S</td>\n",
       "      <td>8.0500</td>\n",
       "      <td>Rogers, Mr. William John</td>\n",
       "      <td>0</td>\n",
       "      <td>3</td>\n",
       "      <td>male</td>\n",
       "      <td>0</td>\n",
       "      <td>0</td>\n",
       "      <td>S.C./A.4. 23567</td>\n",
       "    </tr>\n",
       "    <tr>\n",
       "      <th>47</th>\n",
       "      <td>NaN</td>\n",
       "      <td>NaN</td>\n",
       "      <td>Q</td>\n",
       "      <td>15.5000</td>\n",
       "      <td>Lennon, Mr. Denis</td>\n",
       "      <td>0</td>\n",
       "      <td>3</td>\n",
       "      <td>male</td>\n",
       "      <td>1</td>\n",
       "      <td>0</td>\n",
       "      <td>370371</td>\n",
       "    </tr>\n",
       "    <tr>\n",
       "      <th>48</th>\n",
       "      <td>NaN</td>\n",
       "      <td>NaN</td>\n",
       "      <td>Q</td>\n",
       "      <td>7.7500</td>\n",
       "      <td>O'Driscoll, Miss. Bridget</td>\n",
       "      <td>0</td>\n",
       "      <td>3</td>\n",
       "      <td>female</td>\n",
       "      <td>0</td>\n",
       "      <td>1</td>\n",
       "      <td>14311</td>\n",
       "    </tr>\n",
       "    <tr>\n",
       "      <th>49</th>\n",
       "      <td>NaN</td>\n",
       "      <td>NaN</td>\n",
       "      <td>C</td>\n",
       "      <td>21.6792</td>\n",
       "      <td>Samaan, Mr. Youssef</td>\n",
       "      <td>0</td>\n",
       "      <td>3</td>\n",
       "      <td>male</td>\n",
       "      <td>2</td>\n",
       "      <td>0</td>\n",
       "      <td>2662</td>\n",
       "    </tr>\n",
       "    <tr>\n",
       "      <th>56</th>\n",
       "      <td>NaN</td>\n",
       "      <td>C52</td>\n",
       "      <td>S</td>\n",
       "      <td>35.5000</td>\n",
       "      <td>Woolner, Mr. Hugh</td>\n",
       "      <td>0</td>\n",
       "      <td>1</td>\n",
       "      <td>male</td>\n",
       "      <td>0</td>\n",
       "      <td>1</td>\n",
       "      <td>19947</td>\n",
       "    </tr>\n",
       "    <tr>\n",
       "      <th>65</th>\n",
       "      <td>NaN</td>\n",
       "      <td>NaN</td>\n",
       "      <td>C</td>\n",
       "      <td>27.7208</td>\n",
       "      <td>Stewart, Mr. Albert A</td>\n",
       "      <td>0</td>\n",
       "      <td>1</td>\n",
       "      <td>male</td>\n",
       "      <td>0</td>\n",
       "      <td>0</td>\n",
       "      <td>PC 17605</td>\n",
       "    </tr>\n",
       "    <tr>\n",
       "      <th>66</th>\n",
       "      <td>NaN</td>\n",
       "      <td>NaN</td>\n",
       "      <td>C</td>\n",
       "      <td>15.2458</td>\n",
       "      <td>Moubarek, Master. Gerios</td>\n",
       "      <td>1</td>\n",
       "      <td>3</td>\n",
       "      <td>male</td>\n",
       "      <td>1</td>\n",
       "      <td>1</td>\n",
       "      <td>2661</td>\n",
       "    </tr>\n",
       "    <tr>\n",
       "      <th>77</th>\n",
       "      <td>NaN</td>\n",
       "      <td>NaN</td>\n",
       "      <td>S</td>\n",
       "      <td>7.8958</td>\n",
       "      <td>Staneff, Mr. Ivan</td>\n",
       "      <td>0</td>\n",
       "      <td>3</td>\n",
       "      <td>male</td>\n",
       "      <td>0</td>\n",
       "      <td>0</td>\n",
       "      <td>349208</td>\n",
       "    </tr>\n",
       "    <tr>\n",
       "      <th>78</th>\n",
       "      <td>NaN</td>\n",
       "      <td>NaN</td>\n",
       "      <td>S</td>\n",
       "      <td>8.0500</td>\n",
       "      <td>Moutal, Mr. Rahamin Haim</td>\n",
       "      <td>0</td>\n",
       "      <td>3</td>\n",
       "      <td>male</td>\n",
       "      <td>0</td>\n",
       "      <td>0</td>\n",
       "      <td>374746</td>\n",
       "    </tr>\n",
       "    <tr>\n",
       "      <th>83</th>\n",
       "      <td>NaN</td>\n",
       "      <td>NaN</td>\n",
       "      <td>Q</td>\n",
       "      <td>7.7875</td>\n",
       "      <td>McDermott, Miss. Brigdet Delia</td>\n",
       "      <td>0</td>\n",
       "      <td>3</td>\n",
       "      <td>female</td>\n",
       "      <td>0</td>\n",
       "      <td>1</td>\n",
       "      <td>330932</td>\n",
       "    </tr>\n",
       "    <tr>\n",
       "      <th>88</th>\n",
       "      <td>NaN</td>\n",
       "      <td>NaN</td>\n",
       "      <td>S</td>\n",
       "      <td>8.0500</td>\n",
       "      <td>Slocovski, Mr. Selman Francis</td>\n",
       "      <td>0</td>\n",
       "      <td>3</td>\n",
       "      <td>male</td>\n",
       "      <td>0</td>\n",
       "      <td>0</td>\n",
       "      <td>SOTON/OQ 392086</td>\n",
       "    </tr>\n",
       "    <tr>\n",
       "      <th>96</th>\n",
       "      <td>NaN</td>\n",
       "      <td>NaN</td>\n",
       "      <td>S</td>\n",
       "      <td>8.0500</td>\n",
       "      <td>Shorney, Mr. Charles Joseph</td>\n",
       "      <td>0</td>\n",
       "      <td>3</td>\n",
       "      <td>male</td>\n",
       "      <td>0</td>\n",
       "      <td>0</td>\n",
       "      <td>374910</td>\n",
       "    </tr>\n",
       "    <tr>\n",
       "      <th>102</th>\n",
       "      <td>NaN</td>\n",
       "      <td>NaN</td>\n",
       "      <td>S</td>\n",
       "      <td>7.8958</td>\n",
       "      <td>Petroff, Mr. Pastcho (\"Pentcho\")</td>\n",
       "      <td>0</td>\n",
       "      <td>3</td>\n",
       "      <td>male</td>\n",
       "      <td>0</td>\n",
       "      <td>0</td>\n",
       "      <td>349215</td>\n",
       "    </tr>\n",
       "    <tr>\n",
       "      <th>108</th>\n",
       "      <td>NaN</td>\n",
       "      <td>NaN</td>\n",
       "      <td>S</td>\n",
       "      <td>7.7750</td>\n",
       "      <td>Moss, Mr. Albert Johan</td>\n",
       "      <td>0</td>\n",
       "      <td>3</td>\n",
       "      <td>male</td>\n",
       "      <td>0</td>\n",
       "      <td>1</td>\n",
       "      <td>312991</td>\n",
       "    </tr>\n",
       "    <tr>\n",
       "      <th>110</th>\n",
       "      <td>NaN</td>\n",
       "      <td>NaN</td>\n",
       "      <td>Q</td>\n",
       "      <td>24.1500</td>\n",
       "      <td>Moran, Miss. Bertha</td>\n",
       "      <td>0</td>\n",
       "      <td>3</td>\n",
       "      <td>female</td>\n",
       "      <td>1</td>\n",
       "      <td>1</td>\n",
       "      <td>371110</td>\n",
       "    </tr>\n",
       "    <tr>\n",
       "      <th>122</th>\n",
       "      <td>NaN</td>\n",
       "      <td>NaN</td>\n",
       "      <td>S</td>\n",
       "      <td>8.0500</td>\n",
       "      <td>Moore, Mr. Leonard Charles</td>\n",
       "      <td>0</td>\n",
       "      <td>3</td>\n",
       "      <td>male</td>\n",
       "      <td>0</td>\n",
       "      <td>0</td>\n",
       "      <td>A4. 54510</td>\n",
       "    </tr>\n",
       "    <tr>\n",
       "      <th>127</th>\n",
       "      <td>NaN</td>\n",
       "      <td>NaN</td>\n",
       "      <td>Q</td>\n",
       "      <td>7.7500</td>\n",
       "      <td>McMahon, Mr. Martin</td>\n",
       "      <td>0</td>\n",
       "      <td>3</td>\n",
       "      <td>male</td>\n",
       "      <td>0</td>\n",
       "      <td>0</td>\n",
       "      <td>370372</td>\n",
       "    </tr>\n",
       "    <tr>\n",
       "      <th>129</th>\n",
       "      <td>NaN</td>\n",
       "      <td>F E69</td>\n",
       "      <td>C</td>\n",
       "      <td>22.3583</td>\n",
       "      <td>Peter, Miss. Anna</td>\n",
       "      <td>1</td>\n",
       "      <td>3</td>\n",
       "      <td>female</td>\n",
       "      <td>1</td>\n",
       "      <td>1</td>\n",
       "      <td>2668</td>\n",
       "    </tr>\n",
       "    <tr>\n",
       "      <th>141</th>\n",
       "      <td>NaN</td>\n",
       "      <td>NaN</td>\n",
       "      <td>C</td>\n",
       "      <td>15.2458</td>\n",
       "      <td>Boulos, Mrs. Joseph (Sultana)</td>\n",
       "      <td>2</td>\n",
       "      <td>3</td>\n",
       "      <td>female</td>\n",
       "      <td>0</td>\n",
       "      <td>0</td>\n",
       "      <td>2678</td>\n",
       "    </tr>\n",
       "    <tr>\n",
       "      <th>155</th>\n",
       "      <td>NaN</td>\n",
       "      <td>NaN</td>\n",
       "      <td>S</td>\n",
       "      <td>7.3125</td>\n",
       "      <td>Olsen, Mr. Ole Martin</td>\n",
       "      <td>0</td>\n",
       "      <td>3</td>\n",
       "      <td>male</td>\n",
       "      <td>0</td>\n",
       "      <td>0</td>\n",
       "      <td>Fa 265302</td>\n",
       "    </tr>\n",
       "    <tr>\n",
       "      <th>...</th>\n",
       "      <td>...</td>\n",
       "      <td>...</td>\n",
       "      <td>...</td>\n",
       "      <td>...</td>\n",
       "      <td>...</td>\n",
       "      <td>...</td>\n",
       "      <td>...</td>\n",
       "      <td>...</td>\n",
       "      <td>...</td>\n",
       "      <td>...</td>\n",
       "      <td>...</td>\n",
       "    </tr>\n",
       "    <tr>\n",
       "      <th>1160</th>\n",
       "      <td>NaN</td>\n",
       "      <td>NaN</td>\n",
       "      <td>S</td>\n",
       "      <td>8.0500</td>\n",
       "      <td>Howard, Miss. May Elizabeth</td>\n",
       "      <td>0</td>\n",
       "      <td>3</td>\n",
       "      <td>female</td>\n",
       "      <td>0</td>\n",
       "      <td>-888</td>\n",
       "      <td>A. 2. 39186</td>\n",
       "    </tr>\n",
       "    <tr>\n",
       "      <th>1163</th>\n",
       "      <td>NaN</td>\n",
       "      <td>NaN</td>\n",
       "      <td>Q</td>\n",
       "      <td>7.7500</td>\n",
       "      <td>Fox, Mr. Patrick</td>\n",
       "      <td>0</td>\n",
       "      <td>3</td>\n",
       "      <td>male</td>\n",
       "      <td>0</td>\n",
       "      <td>-888</td>\n",
       "      <td>368573</td>\n",
       "    </tr>\n",
       "    <tr>\n",
       "      <th>1165</th>\n",
       "      <td>NaN</td>\n",
       "      <td>NaN</td>\n",
       "      <td>Q</td>\n",
       "      <td>15.5000</td>\n",
       "      <td>Lennon, Miss. Mary</td>\n",
       "      <td>0</td>\n",
       "      <td>3</td>\n",
       "      <td>female</td>\n",
       "      <td>1</td>\n",
       "      <td>-888</td>\n",
       "      <td>370371</td>\n",
       "    </tr>\n",
       "    <tr>\n",
       "      <th>1166</th>\n",
       "      <td>NaN</td>\n",
       "      <td>NaN</td>\n",
       "      <td>C</td>\n",
       "      <td>7.2250</td>\n",
       "      <td>Saade, Mr. Jean Nassr</td>\n",
       "      <td>0</td>\n",
       "      <td>3</td>\n",
       "      <td>male</td>\n",
       "      <td>0</td>\n",
       "      <td>-888</td>\n",
       "      <td>2676</td>\n",
       "    </tr>\n",
       "    <tr>\n",
       "      <th>1174</th>\n",
       "      <td>NaN</td>\n",
       "      <td>NaN</td>\n",
       "      <td>Q</td>\n",
       "      <td>7.7500</td>\n",
       "      <td>Fleming, Miss. Honora</td>\n",
       "      <td>0</td>\n",
       "      <td>3</td>\n",
       "      <td>female</td>\n",
       "      <td>0</td>\n",
       "      <td>-888</td>\n",
       "      <td>364859</td>\n",
       "    </tr>\n",
       "    <tr>\n",
       "      <th>1178</th>\n",
       "      <td>NaN</td>\n",
       "      <td>NaN</td>\n",
       "      <td>S</td>\n",
       "      <td>7.2500</td>\n",
       "      <td>Franklin, Mr. Charles (Charles Fardon)</td>\n",
       "      <td>0</td>\n",
       "      <td>3</td>\n",
       "      <td>male</td>\n",
       "      <td>0</td>\n",
       "      <td>-888</td>\n",
       "      <td>SOTON/O.Q. 3101314</td>\n",
       "    </tr>\n",
       "    <tr>\n",
       "      <th>1180</th>\n",
       "      <td>NaN</td>\n",
       "      <td>F E46</td>\n",
       "      <td>C</td>\n",
       "      <td>7.2292</td>\n",
       "      <td>Mardirosian, Mr. Sarkis</td>\n",
       "      <td>0</td>\n",
       "      <td>3</td>\n",
       "      <td>male</td>\n",
       "      <td>0</td>\n",
       "      <td>-888</td>\n",
       "      <td>2655</td>\n",
       "    </tr>\n",
       "    <tr>\n",
       "      <th>1181</th>\n",
       "      <td>NaN</td>\n",
       "      <td>NaN</td>\n",
       "      <td>S</td>\n",
       "      <td>8.0500</td>\n",
       "      <td>Ford, Mr. Arthur</td>\n",
       "      <td>0</td>\n",
       "      <td>3</td>\n",
       "      <td>male</td>\n",
       "      <td>0</td>\n",
       "      <td>-888</td>\n",
       "      <td>A/5 1478</td>\n",
       "    </tr>\n",
       "    <tr>\n",
       "      <th>1182</th>\n",
       "      <td>NaN</td>\n",
       "      <td>NaN</td>\n",
       "      <td>S</td>\n",
       "      <td>39.6000</td>\n",
       "      <td>Rheims, Mr. George Alexander Lucien</td>\n",
       "      <td>0</td>\n",
       "      <td>1</td>\n",
       "      <td>male</td>\n",
       "      <td>0</td>\n",
       "      <td>-888</td>\n",
       "      <td>PC 17607</td>\n",
       "    </tr>\n",
       "    <tr>\n",
       "      <th>1184</th>\n",
       "      <td>NaN</td>\n",
       "      <td>NaN</td>\n",
       "      <td>C</td>\n",
       "      <td>7.2292</td>\n",
       "      <td>Nasr, Mr. Mustafa</td>\n",
       "      <td>0</td>\n",
       "      <td>3</td>\n",
       "      <td>male</td>\n",
       "      <td>0</td>\n",
       "      <td>-888</td>\n",
       "      <td>2652</td>\n",
       "    </tr>\n",
       "    <tr>\n",
       "      <th>1189</th>\n",
       "      <td>NaN</td>\n",
       "      <td>NaN</td>\n",
       "      <td>C</td>\n",
       "      <td>21.6792</td>\n",
       "      <td>Samaan, Mr. Hanna</td>\n",
       "      <td>0</td>\n",
       "      <td>3</td>\n",
       "      <td>male</td>\n",
       "      <td>2</td>\n",
       "      <td>-888</td>\n",
       "      <td>2662</td>\n",
       "    </tr>\n",
       "    <tr>\n",
       "      <th>1193</th>\n",
       "      <td>NaN</td>\n",
       "      <td>D</td>\n",
       "      <td>C</td>\n",
       "      <td>15.0458</td>\n",
       "      <td>Malachard, Mr. Noel</td>\n",
       "      <td>0</td>\n",
       "      <td>2</td>\n",
       "      <td>male</td>\n",
       "      <td>0</td>\n",
       "      <td>-888</td>\n",
       "      <td>237735</td>\n",
       "    </tr>\n",
       "    <tr>\n",
       "      <th>1196</th>\n",
       "      <td>NaN</td>\n",
       "      <td>NaN</td>\n",
       "      <td>Q</td>\n",
       "      <td>7.7500</td>\n",
       "      <td>McCarthy, Miss. Catherine Katie\"\"</td>\n",
       "      <td>0</td>\n",
       "      <td>3</td>\n",
       "      <td>female</td>\n",
       "      <td>0</td>\n",
       "      <td>-888</td>\n",
       "      <td>383123</td>\n",
       "    </tr>\n",
       "    <tr>\n",
       "      <th>1204</th>\n",
       "      <td>NaN</td>\n",
       "      <td>NaN</td>\n",
       "      <td>S</td>\n",
       "      <td>7.5750</td>\n",
       "      <td>Sadowitz, Mr. Harry</td>\n",
       "      <td>0</td>\n",
       "      <td>3</td>\n",
       "      <td>male</td>\n",
       "      <td>0</td>\n",
       "      <td>-888</td>\n",
       "      <td>LP 1588</td>\n",
       "    </tr>\n",
       "    <tr>\n",
       "      <th>1224</th>\n",
       "      <td>NaN</td>\n",
       "      <td>NaN</td>\n",
       "      <td>C</td>\n",
       "      <td>7.2250</td>\n",
       "      <td>Thomas, Mr. Tannous</td>\n",
       "      <td>0</td>\n",
       "      <td>3</td>\n",
       "      <td>male</td>\n",
       "      <td>0</td>\n",
       "      <td>-888</td>\n",
       "      <td>2684</td>\n",
       "    </tr>\n",
       "    <tr>\n",
       "      <th>1231</th>\n",
       "      <td>NaN</td>\n",
       "      <td>NaN</td>\n",
       "      <td>C</td>\n",
       "      <td>7.2292</td>\n",
       "      <td>Betros, Master. Seman</td>\n",
       "      <td>0</td>\n",
       "      <td>3</td>\n",
       "      <td>male</td>\n",
       "      <td>0</td>\n",
       "      <td>-888</td>\n",
       "      <td>2622</td>\n",
       "    </tr>\n",
       "    <tr>\n",
       "      <th>1234</th>\n",
       "      <td>NaN</td>\n",
       "      <td>NaN</td>\n",
       "      <td>S</td>\n",
       "      <td>69.5500</td>\n",
       "      <td>Sage, Mr. John George</td>\n",
       "      <td>9</td>\n",
       "      <td>3</td>\n",
       "      <td>male</td>\n",
       "      <td>1</td>\n",
       "      <td>-888</td>\n",
       "      <td>CA. 2343</td>\n",
       "    </tr>\n",
       "    <tr>\n",
       "      <th>1236</th>\n",
       "      <td>NaN</td>\n",
       "      <td>NaN</td>\n",
       "      <td>S</td>\n",
       "      <td>14.5000</td>\n",
       "      <td>van Billiard, Master. James William</td>\n",
       "      <td>1</td>\n",
       "      <td>3</td>\n",
       "      <td>male</td>\n",
       "      <td>1</td>\n",
       "      <td>-888</td>\n",
       "      <td>A/5. 851</td>\n",
       "    </tr>\n",
       "    <tr>\n",
       "      <th>1249</th>\n",
       "      <td>NaN</td>\n",
       "      <td>NaN</td>\n",
       "      <td>S</td>\n",
       "      <td>7.8792</td>\n",
       "      <td>Lockyer, Mr. Edward</td>\n",
       "      <td>0</td>\n",
       "      <td>3</td>\n",
       "      <td>male</td>\n",
       "      <td>0</td>\n",
       "      <td>-888</td>\n",
       "      <td>1222</td>\n",
       "    </tr>\n",
       "    <tr>\n",
       "      <th>1250</th>\n",
       "      <td>NaN</td>\n",
       "      <td>NaN</td>\n",
       "      <td>Q</td>\n",
       "      <td>7.7500</td>\n",
       "      <td>O'Keefe, Mr. Patrick</td>\n",
       "      <td>0</td>\n",
       "      <td>3</td>\n",
       "      <td>male</td>\n",
       "      <td>0</td>\n",
       "      <td>-888</td>\n",
       "      <td>368402</td>\n",
       "    </tr>\n",
       "    <tr>\n",
       "      <th>1257</th>\n",
       "      <td>NaN</td>\n",
       "      <td>NaN</td>\n",
       "      <td>S</td>\n",
       "      <td>69.5500</td>\n",
       "      <td>Sage, Mrs. John (Annie Bullen)</td>\n",
       "      <td>9</td>\n",
       "      <td>3</td>\n",
       "      <td>female</td>\n",
       "      <td>1</td>\n",
       "      <td>-888</td>\n",
       "      <td>CA. 2343</td>\n",
       "    </tr>\n",
       "    <tr>\n",
       "      <th>1258</th>\n",
       "      <td>NaN</td>\n",
       "      <td>NaN</td>\n",
       "      <td>C</td>\n",
       "      <td>14.4583</td>\n",
       "      <td>Caram, Mr. Joseph</td>\n",
       "      <td>0</td>\n",
       "      <td>3</td>\n",
       "      <td>male</td>\n",
       "      <td>1</td>\n",
       "      <td>-888</td>\n",
       "      <td>2689</td>\n",
       "    </tr>\n",
       "    <tr>\n",
       "      <th>1272</th>\n",
       "      <td>NaN</td>\n",
       "      <td>NaN</td>\n",
       "      <td>Q</td>\n",
       "      <td>7.7500</td>\n",
       "      <td>O'Connor, Mr. Patrick</td>\n",
       "      <td>0</td>\n",
       "      <td>3</td>\n",
       "      <td>male</td>\n",
       "      <td>0</td>\n",
       "      <td>-888</td>\n",
       "      <td>366713</td>\n",
       "    </tr>\n",
       "    <tr>\n",
       "      <th>1274</th>\n",
       "      <td>NaN</td>\n",
       "      <td>NaN</td>\n",
       "      <td>S</td>\n",
       "      <td>14.5000</td>\n",
       "      <td>Risien, Mrs. Samuel (Emma)</td>\n",
       "      <td>0</td>\n",
       "      <td>3</td>\n",
       "      <td>female</td>\n",
       "      <td>0</td>\n",
       "      <td>-888</td>\n",
       "      <td>364498</td>\n",
       "    </tr>\n",
       "    <tr>\n",
       "      <th>1276</th>\n",
       "      <td>NaN</td>\n",
       "      <td>NaN</td>\n",
       "      <td>S</td>\n",
       "      <td>12.8750</td>\n",
       "      <td>Wheeler, Mr. Edwin Frederick\"\"</td>\n",
       "      <td>0</td>\n",
       "      <td>2</td>\n",
       "      <td>male</td>\n",
       "      <td>0</td>\n",
       "      <td>-888</td>\n",
       "      <td>SC/PARIS 2159</td>\n",
       "    </tr>\n",
       "    <tr>\n",
       "      <th>1300</th>\n",
       "      <td>NaN</td>\n",
       "      <td>NaN</td>\n",
       "      <td>Q</td>\n",
       "      <td>7.7208</td>\n",
       "      <td>Riordan, Miss. Johanna Hannah\"\"</td>\n",
       "      <td>0</td>\n",
       "      <td>3</td>\n",
       "      <td>female</td>\n",
       "      <td>0</td>\n",
       "      <td>-888</td>\n",
       "      <td>334915</td>\n",
       "    </tr>\n",
       "    <tr>\n",
       "      <th>1302</th>\n",
       "      <td>NaN</td>\n",
       "      <td>NaN</td>\n",
       "      <td>Q</td>\n",
       "      <td>7.7500</td>\n",
       "      <td>Naughton, Miss. Hannah</td>\n",
       "      <td>0</td>\n",
       "      <td>3</td>\n",
       "      <td>female</td>\n",
       "      <td>0</td>\n",
       "      <td>-888</td>\n",
       "      <td>365237</td>\n",
       "    </tr>\n",
       "    <tr>\n",
       "      <th>1305</th>\n",
       "      <td>NaN</td>\n",
       "      <td>NaN</td>\n",
       "      <td>S</td>\n",
       "      <td>8.0500</td>\n",
       "      <td>Spector, Mr. Woolf</td>\n",
       "      <td>0</td>\n",
       "      <td>3</td>\n",
       "      <td>male</td>\n",
       "      <td>0</td>\n",
       "      <td>-888</td>\n",
       "      <td>A.5. 3236</td>\n",
       "    </tr>\n",
       "    <tr>\n",
       "      <th>1308</th>\n",
       "      <td>NaN</td>\n",
       "      <td>NaN</td>\n",
       "      <td>S</td>\n",
       "      <td>8.0500</td>\n",
       "      <td>Ware, Mr. Frederick</td>\n",
       "      <td>0</td>\n",
       "      <td>3</td>\n",
       "      <td>male</td>\n",
       "      <td>0</td>\n",
       "      <td>-888</td>\n",
       "      <td>359309</td>\n",
       "    </tr>\n",
       "    <tr>\n",
       "      <th>1309</th>\n",
       "      <td>NaN</td>\n",
       "      <td>NaN</td>\n",
       "      <td>C</td>\n",
       "      <td>22.3583</td>\n",
       "      <td>Peter, Master. Michael J</td>\n",
       "      <td>1</td>\n",
       "      <td>3</td>\n",
       "      <td>male</td>\n",
       "      <td>1</td>\n",
       "      <td>-888</td>\n",
       "      <td>2668</td>\n",
       "    </tr>\n",
       "  </tbody>\n",
       "</table>\n",
       "<p>263 rows × 11 columns</p>\n",
       "</div>"
      ],
      "text/plain": [
       "             Age  Cabin Embarked      Fare  \\\n",
       "PassengerId                                  \n",
       "6            NaN    NaN        Q    8.4583   \n",
       "18           NaN    NaN        S   13.0000   \n",
       "20           NaN    NaN        C    7.2250   \n",
       "27           NaN    NaN        C    7.2250   \n",
       "29           NaN    NaN        Q    7.8792   \n",
       "30           NaN    NaN        S    7.8958   \n",
       "32           NaN    B78        C  146.5208   \n",
       "33           NaN    NaN        Q    7.7500   \n",
       "37           NaN    NaN        C    7.2292   \n",
       "43           NaN    NaN        C    7.8958   \n",
       "46           NaN    NaN        S    8.0500   \n",
       "47           NaN    NaN        Q   15.5000   \n",
       "48           NaN    NaN        Q    7.7500   \n",
       "49           NaN    NaN        C   21.6792   \n",
       "56           NaN    C52        S   35.5000   \n",
       "65           NaN    NaN        C   27.7208   \n",
       "66           NaN    NaN        C   15.2458   \n",
       "77           NaN    NaN        S    7.8958   \n",
       "78           NaN    NaN        S    8.0500   \n",
       "83           NaN    NaN        Q    7.7875   \n",
       "88           NaN    NaN        S    8.0500   \n",
       "96           NaN    NaN        S    8.0500   \n",
       "102          NaN    NaN        S    7.8958   \n",
       "108          NaN    NaN        S    7.7750   \n",
       "110          NaN    NaN        Q   24.1500   \n",
       "122          NaN    NaN        S    8.0500   \n",
       "127          NaN    NaN        Q    7.7500   \n",
       "129          NaN  F E69        C   22.3583   \n",
       "141          NaN    NaN        C   15.2458   \n",
       "155          NaN    NaN        S    7.3125   \n",
       "...          ...    ...      ...       ...   \n",
       "1160         NaN    NaN        S    8.0500   \n",
       "1163         NaN    NaN        Q    7.7500   \n",
       "1165         NaN    NaN        Q   15.5000   \n",
       "1166         NaN    NaN        C    7.2250   \n",
       "1174         NaN    NaN        Q    7.7500   \n",
       "1178         NaN    NaN        S    7.2500   \n",
       "1180         NaN  F E46        C    7.2292   \n",
       "1181         NaN    NaN        S    8.0500   \n",
       "1182         NaN    NaN        S   39.6000   \n",
       "1184         NaN    NaN        C    7.2292   \n",
       "1189         NaN    NaN        C   21.6792   \n",
       "1193         NaN      D        C   15.0458   \n",
       "1196         NaN    NaN        Q    7.7500   \n",
       "1204         NaN    NaN        S    7.5750   \n",
       "1224         NaN    NaN        C    7.2250   \n",
       "1231         NaN    NaN        C    7.2292   \n",
       "1234         NaN    NaN        S   69.5500   \n",
       "1236         NaN    NaN        S   14.5000   \n",
       "1249         NaN    NaN        S    7.8792   \n",
       "1250         NaN    NaN        Q    7.7500   \n",
       "1257         NaN    NaN        S   69.5500   \n",
       "1258         NaN    NaN        C   14.4583   \n",
       "1272         NaN    NaN        Q    7.7500   \n",
       "1274         NaN    NaN        S   14.5000   \n",
       "1276         NaN    NaN        S   12.8750   \n",
       "1300         NaN    NaN        Q    7.7208   \n",
       "1302         NaN    NaN        Q    7.7500   \n",
       "1305         NaN    NaN        S    8.0500   \n",
       "1308         NaN    NaN        S    8.0500   \n",
       "1309         NaN    NaN        C   22.3583   \n",
       "\n",
       "                                                       Name  Parch  Pclass  \\\n",
       "PassengerId                                                                  \n",
       "6                                          Moran, Mr. James      0       3   \n",
       "18                             Williams, Mr. Charles Eugene      0       2   \n",
       "20                                  Masselmani, Mrs. Fatima      0       3   \n",
       "27                                  Emir, Mr. Farred Chehab      0       3   \n",
       "29                            O'Dwyer, Miss. Ellen \"Nellie\"      0       3   \n",
       "30                                      Todoroff, Mr. Lalio      0       3   \n",
       "32           Spencer, Mrs. William Augustus (Marie Eugenie)      0       1   \n",
       "33                                 Glynn, Miss. Mary Agatha      0       3   \n",
       "37                                         Mamee, Mr. Hanna      0       3   \n",
       "43                                      Kraeff, Mr. Theodor      0       3   \n",
       "46                                 Rogers, Mr. William John      0       3   \n",
       "47                                        Lennon, Mr. Denis      0       3   \n",
       "48                                O'Driscoll, Miss. Bridget      0       3   \n",
       "49                                      Samaan, Mr. Youssef      0       3   \n",
       "56                                        Woolner, Mr. Hugh      0       1   \n",
       "65                                    Stewart, Mr. Albert A      0       1   \n",
       "66                                 Moubarek, Master. Gerios      1       3   \n",
       "77                                        Staneff, Mr. Ivan      0       3   \n",
       "78                                 Moutal, Mr. Rahamin Haim      0       3   \n",
       "83                           McDermott, Miss. Brigdet Delia      0       3   \n",
       "88                            Slocovski, Mr. Selman Francis      0       3   \n",
       "96                              Shorney, Mr. Charles Joseph      0       3   \n",
       "102                        Petroff, Mr. Pastcho (\"Pentcho\")      0       3   \n",
       "108                                  Moss, Mr. Albert Johan      0       3   \n",
       "110                                     Moran, Miss. Bertha      0       3   \n",
       "122                              Moore, Mr. Leonard Charles      0       3   \n",
       "127                                     McMahon, Mr. Martin      0       3   \n",
       "129                                       Peter, Miss. Anna      1       3   \n",
       "141                           Boulos, Mrs. Joseph (Sultana)      2       3   \n",
       "155                                   Olsen, Mr. Ole Martin      0       3   \n",
       "...                                                     ...    ...     ...   \n",
       "1160                            Howard, Miss. May Elizabeth      0       3   \n",
       "1163                                       Fox, Mr. Patrick      0       3   \n",
       "1165                                     Lennon, Miss. Mary      0       3   \n",
       "1166                                  Saade, Mr. Jean Nassr      0       3   \n",
       "1174                                  Fleming, Miss. Honora      0       3   \n",
       "1178                 Franklin, Mr. Charles (Charles Fardon)      0       3   \n",
       "1180                                Mardirosian, Mr. Sarkis      0       3   \n",
       "1181                                       Ford, Mr. Arthur      0       3   \n",
       "1182                    Rheims, Mr. George Alexander Lucien      0       1   \n",
       "1184                                      Nasr, Mr. Mustafa      0       3   \n",
       "1189                                      Samaan, Mr. Hanna      0       3   \n",
       "1193                                    Malachard, Mr. Noel      0       2   \n",
       "1196                      McCarthy, Miss. Catherine Katie\"\"      0       3   \n",
       "1204                                    Sadowitz, Mr. Harry      0       3   \n",
       "1224                                    Thomas, Mr. Tannous      0       3   \n",
       "1231                                  Betros, Master. Seman      0       3   \n",
       "1234                                  Sage, Mr. John George      9       3   \n",
       "1236                    van Billiard, Master. James William      1       3   \n",
       "1249                                    Lockyer, Mr. Edward      0       3   \n",
       "1250                                   O'Keefe, Mr. Patrick      0       3   \n",
       "1257                         Sage, Mrs. John (Annie Bullen)      9       3   \n",
       "1258                                      Caram, Mr. Joseph      0       3   \n",
       "1272                                  O'Connor, Mr. Patrick      0       3   \n",
       "1274                             Risien, Mrs. Samuel (Emma)      0       3   \n",
       "1276                         Wheeler, Mr. Edwin Frederick\"\"      0       2   \n",
       "1300                        Riordan, Miss. Johanna Hannah\"\"      0       3   \n",
       "1302                                 Naughton, Miss. Hannah      0       3   \n",
       "1305                                     Spector, Mr. Woolf      0       3   \n",
       "1308                                    Ware, Mr. Frederick      0       3   \n",
       "1309                               Peter, Master. Michael J      1       3   \n",
       "\n",
       "                Sex  SibSp  Survived              Ticket  \n",
       "PassengerId                                               \n",
       "6              male      0         0              330877  \n",
       "18             male      0         1              244373  \n",
       "20           female      0         1                2649  \n",
       "27             male      0         0                2631  \n",
       "29           female      0         1              330959  \n",
       "30             male      0         0              349216  \n",
       "32           female      1         1            PC 17569  \n",
       "33           female      0         1              335677  \n",
       "37             male      0         1                2677  \n",
       "43             male      0         0              349253  \n",
       "46             male      0         0     S.C./A.4. 23567  \n",
       "47             male      1         0              370371  \n",
       "48           female      0         1               14311  \n",
       "49             male      2         0                2662  \n",
       "56             male      0         1               19947  \n",
       "65             male      0         0            PC 17605  \n",
       "66             male      1         1                2661  \n",
       "77             male      0         0              349208  \n",
       "78             male      0         0              374746  \n",
       "83           female      0         1              330932  \n",
       "88             male      0         0     SOTON/OQ 392086  \n",
       "96             male      0         0              374910  \n",
       "102            male      0         0              349215  \n",
       "108            male      0         1              312991  \n",
       "110          female      1         1              371110  \n",
       "122            male      0         0           A4. 54510  \n",
       "127            male      0         0              370372  \n",
       "129          female      1         1                2668  \n",
       "141          female      0         0                2678  \n",
       "155            male      0         0           Fa 265302  \n",
       "...             ...    ...       ...                 ...  \n",
       "1160         female      0      -888         A. 2. 39186  \n",
       "1163           male      0      -888              368573  \n",
       "1165         female      1      -888              370371  \n",
       "1166           male      0      -888                2676  \n",
       "1174         female      0      -888              364859  \n",
       "1178           male      0      -888  SOTON/O.Q. 3101314  \n",
       "1180           male      0      -888                2655  \n",
       "1181           male      0      -888            A/5 1478  \n",
       "1182           male      0      -888            PC 17607  \n",
       "1184           male      0      -888                2652  \n",
       "1189           male      2      -888                2662  \n",
       "1193           male      0      -888              237735  \n",
       "1196         female      0      -888              383123  \n",
       "1204           male      0      -888             LP 1588  \n",
       "1224           male      0      -888                2684  \n",
       "1231           male      0      -888                2622  \n",
       "1234           male      1      -888            CA. 2343  \n",
       "1236           male      1      -888            A/5. 851  \n",
       "1249           male      0      -888                1222  \n",
       "1250           male      0      -888              368402  \n",
       "1257         female      1      -888            CA. 2343  \n",
       "1258           male      1      -888                2689  \n",
       "1272           male      0      -888              366713  \n",
       "1274         female      0      -888              364498  \n",
       "1276           male      0      -888       SC/PARIS 2159  \n",
       "1300         female      0      -888              334915  \n",
       "1302         female      0      -888              365237  \n",
       "1305           male      0      -888           A.5. 3236  \n",
       "1308           male      0      -888              359309  \n",
       "1309           male      1      -888                2668  \n",
       "\n",
       "[263 rows x 11 columns]"
      ]
     },
     "execution_count": 63,
     "metadata": {},
     "output_type": "execute_result"
    }
   ],
   "source": [
    "df[df.Age.isnull()]"
   ]
  },
  {
   "cell_type": "code",
   "execution_count": 64,
   "metadata": {
    "collapsed": true
   },
   "outputs": [],
   "source": [
    "pd.options.display.max_rows = 15"
   ]
  },
  {
   "cell_type": "markdown",
   "metadata": {},
   "source": [
    "#### option1: replace all missing age with mean value"
   ]
  },
  {
   "cell_type": "code",
   "execution_count": 65,
   "metadata": {
    "collapsed": false
   },
   "outputs": [
    {
     "data": {
      "image/png": "[encoded data removed]",
      "text/plain": [
       "<matplotlib.figure.Figure at 0x7f8f86dff7d0>"
      ]
     },
     "metadata": {},
     "output_type": "display_data"
    }
   ],
   "source": [
    "df.Age.plot(kind='Hist', bins=20,color='c', x='Age');"
   ]
  },
  {
   "cell_type": "code",
   "execution_count": 66,
   "metadata": {
    "collapsed": false
   },
   "outputs": [
    {
     "data": {
      "text/plain": [
       "29.881137667304014"
      ]
     },
     "execution_count": 66,
     "metadata": {},
     "output_type": "execute_result"
    }
   ],
   "source": [
    "df.Age.mean()"
   ]
  },
  {
   "cell_type": "markdown",
   "metadata": {},
   "source": [
    "#### option 2: replace with median age of gender"
   ]
  },
  {
   "cell_type": "code",
   "execution_count": 67,
   "metadata": {
    "collapsed": false
   },
   "outputs": [
    {
     "data": {
      "text/plain": [
       "Sex\n",
       "female    27.0\n",
       "male      28.0\n",
       "Name: Age, dtype: float64"
      ]
     },
     "execution_count": 67,
     "metadata": {},
     "output_type": "execute_result"
    }
   ],
   "source": [
    "df.groupby('Sex').Age.median()"
   ]
  },
  {
   "cell_type": "code",
   "execution_count": 68,
   "metadata": {
    "collapsed": false
   },
   "outputs": [
    {
     "data": {
      "text/plain": [
       "<matplotlib.axes._subplots.AxesSubplot at 0x7f8f7fedef10>"
      ]
     },
     "execution_count": 68,
     "metadata": {},
     "output_type": "execute_result"
    },
    {
     "data": {
      "image/png": "[encoded data removed]",
      "text/plain": [
       "<matplotlib.figure.Figure at 0x7f8f7fef2750>"
      ]
     },
     "metadata": {},
     "output_type": "display_data"
    }
   ],
   "source": [
    "df[df.Age.notnull()].boxplot('Age','Sex')"
   ]
  },
  {
   "cell_type": "markdown",
   "metadata": {},
   "source": [
    "#### option3: replace with median age of Pclass"
   ]
  },
  {
   "cell_type": "code",
   "execution_count": 69,
   "metadata": {
    "collapsed": false
   },
   "outputs": [
    {
     "data": {
      "text/plain": [
       "<matplotlib.axes._subplots.AxesSubplot at 0x7f8f7fe43cd0>"
      ]
     },
     "execution_count": 69,
     "metadata": {},
     "output_type": "execute_result"
    },
    {
     "data": {
      "image/png": "[encoded data removed]",
      "text/plain": [
       "<matplotlib.figure.Figure at 0x7f8f7fe53710>"
      ]
     },
     "metadata": {},
     "output_type": "display_data"
    }
   ],
   "source": [
    "df[df.Age.notnull()].boxplot('Age','Pclass')"
   ]
  },
  {
   "cell_type": "code",
   "execution_count": 70,
   "metadata": {
    "collapsed": false
   },
   "outputs": [
    {
     "data": {
      "text/plain": [
       "<matplotlib.axes._subplots.AxesSubplot at 0x7f8f7fc81f10>"
      ]
     },
     "execution_count": 70,
     "metadata": {},
     "output_type": "execute_result"
    },
    {
     "data": {
      "image/png": "[encoded data removed]",
      "text/plain": [
       "<matplotlib.figure.Figure at 0x7f8f7fd46450>"
      ]
     },
     "metadata": {},
     "output_type": "display_data"
    }
   ],
   "source": [
    "df.boxplot('Age','Pclass')"
   ]
  },
  {
   "cell_type": "markdown",
   "metadata": {},
   "source": [
    "#### Option4 : replace with median age of title\n"
   ]
  },
  {
   "cell_type": "code",
   "execution_count": 71,
   "metadata": {
    "collapsed": false
   },
   "outputs": [
    {
     "data": {
      "text/plain": [
       "PassengerId\n",
       "1                                 Braund, Mr. Owen Harris\n",
       "2       Cumings, Mrs. John Bradley (Florence Briggs Th...\n",
       "3                                  Heikkinen, Miss. Laina\n",
       "4            Futrelle, Mrs. Jacques Heath (Lily May Peel)\n",
       "5                                Allen, Mr. William Henry\n",
       "6                                        Moran, Mr. James\n",
       "7                                 McCarthy, Mr. Timothy J\n",
       "                              ...                        \n",
       "1303      Minahan, Mrs. William Edward (Lillian E Thorpe)\n",
       "1304                       Henriksson, Miss. Jenny Lovisa\n",
       "1305                                   Spector, Mr. Woolf\n",
       "1306                         Oliva y Ocana, Dona. Fermina\n",
       "1307                         Saether, Mr. Simon Sivertsen\n",
       "1308                                  Ware, Mr. Frederick\n",
       "1309                             Peter, Master. Michael J\n",
       "Name: Name, dtype: object"
      ]
     },
     "execution_count": 71,
     "metadata": {},
     "output_type": "execute_result"
    }
   ],
   "source": [
    "df.Name"
   ]
  },
  {
   "cell_type": "code",
   "execution_count": 72,
   "metadata": {
    "collapsed": true
   },
   "outputs": [],
   "source": [
    "def GetTitle(name):\n",
    "    remove_firstname = name.split(',')[1]\n",
    "    remove_title = remove_firstname.split('.')[0]\n",
    "    title = remove_title.strip().lower()\n",
    "    return title"
   ]
  },
  {
   "cell_type": "code",
   "execution_count": 73,
   "metadata": {
    "collapsed": false
   },
   "outputs": [
    {
     "data": {
      "text/plain": [
       "PassengerId\n",
       "1           mr\n",
       "2          mrs\n",
       "3         miss\n",
       "4          mrs\n",
       "5           mr\n",
       "6           mr\n",
       "7           mr\n",
       "         ...  \n",
       "1303       mrs\n",
       "1304      miss\n",
       "1305        mr\n",
       "1306      dona\n",
       "1307        mr\n",
       "1308        mr\n",
       "1309    master\n",
       "Name: Name, dtype: object"
      ]
     },
     "execution_count": 73,
     "metadata": {},
     "output_type": "execute_result"
    }
   ],
   "source": [
    "df.Name.map(lambda x : GetTitle(x))"
   ]
  },
  {
   "cell_type": "code",
   "execution_count": 74,
   "metadata": {
    "collapsed": false
   },
   "outputs": [
    {
     "data": {
      "text/plain": [
       "array(['mr', 'mrs', 'miss', 'master', 'don', 'rev', 'dr', 'mme', 'ms',\n",
       "       'major', 'lady', 'sir', 'mlle', 'col', 'capt', 'the countess',\n",
       "       'jonkheer', 'dona'], dtype=object)"
      ]
     },
     "execution_count": 74,
     "metadata": {},
     "output_type": "execute_result"
    }
   ],
   "source": [
    "df.Name.map(lambda x : GetTitle(x)).unique()"
   ]
  },
  {
   "cell_type": "code",
   "execution_count": 75,
   "metadata": {
    "collapsed": false
   },
   "outputs": [],
   "source": [
    "def GetTitle(name):\n",
    "    title_group = {\n",
    "        'mr'  : 'Mr',\n",
    "        'mrs':'Mrs',\n",
    "        'miss': 'Miss',\n",
    "        'master':'Master',\n",
    "        'don':'Sir',\n",
    "        'rev':'Sir',\n",
    "        'dr':'Officer',\n",
    "        'mme':'Mrs',\n",
    "        'ms':'Mrs',\n",
    "        'major':'Officer',\n",
    "        'lady':'Lady',\n",
    "        'sir':'Sir',\n",
    "        'mlle':'Miss',\n",
    "        'col':'Officer',\n",
    "        'capt':'Officer',\n",
    "        'the countess':'Lady',\n",
    "        'jonkheer':'Sir',\n",
    "        'dona':'Lady'\n",
    "    }\n",
    "    first_name_with_title = name.split(',')[1]\n",
    "    title= first_name_with_title.split('.')[0]\n",
    "    title= title.strip().lower()\n",
    "    return title_group[title]"
   ]
  },
  {
   "cell_type": "code",
   "execution_count": 76,
   "metadata": {
    "collapsed": false
   },
   "outputs": [],
   "source": [
    "df['Title'] = df.Name.map(lambda x: GetTitle(x))"
   ]
  },
  {
   "cell_type": "code",
   "execution_count": 77,
   "metadata": {
    "collapsed": false
   },
   "outputs": [
    {
     "data": {
      "text/html": [
       "<div>\n",
       "<table border=\"1\" class=\"dataframe\">\n",
       "  <thead>\n",
       "    <tr style=\"text-align: right;\">\n",
       "      <th></th>\n",
       "      <th>Age</th>\n",
       "      <th>Cabin</th>\n",
       "      <th>Embarked</th>\n",
       "      <th>Fare</th>\n",
       "      <th>Name</th>\n",
       "      <th>Parch</th>\n",
       "      <th>Pclass</th>\n",
       "      <th>Sex</th>\n",
       "      <th>SibSp</th>\n",
       "      <th>Survived</th>\n",
       "      <th>Ticket</th>\n",
       "      <th>Title</th>\n",
       "    </tr>\n",
       "    <tr>\n",
       "      <th>PassengerId</th>\n",
       "      <th></th>\n",
       "      <th></th>\n",
       "      <th></th>\n",
       "      <th></th>\n",
       "      <th></th>\n",
       "      <th></th>\n",
       "      <th></th>\n",
       "      <th></th>\n",
       "      <th></th>\n",
       "      <th></th>\n",
       "      <th></th>\n",
       "      <th></th>\n",
       "    </tr>\n",
       "  </thead>\n",
       "  <tbody>\n",
       "    <tr>\n",
       "      <th>1</th>\n",
       "      <td>22.0</td>\n",
       "      <td>NaN</td>\n",
       "      <td>S</td>\n",
       "      <td>7.2500</td>\n",
       "      <td>Braund, Mr. Owen Harris</td>\n",
       "      <td>0</td>\n",
       "      <td>3</td>\n",
       "      <td>male</td>\n",
       "      <td>1</td>\n",
       "      <td>0</td>\n",
       "      <td>A/5 21171</td>\n",
       "      <td>Mr</td>\n",
       "    </tr>\n",
       "    <tr>\n",
       "      <th>2</th>\n",
       "      <td>38.0</td>\n",
       "      <td>C85</td>\n",
       "      <td>C</td>\n",
       "      <td>71.2833</td>\n",
       "      <td>Cumings, Mrs. John Bradley (Florence Briggs Th...</td>\n",
       "      <td>0</td>\n",
       "      <td>1</td>\n",
       "      <td>female</td>\n",
       "      <td>1</td>\n",
       "      <td>1</td>\n",
       "      <td>PC 17599</td>\n",
       "      <td>Mrs</td>\n",
       "    </tr>\n",
       "    <tr>\n",
       "      <th>3</th>\n",
       "      <td>26.0</td>\n",
       "      <td>NaN</td>\n",
       "      <td>S</td>\n",
       "      <td>7.9250</td>\n",
       "      <td>Heikkinen, Miss. Laina</td>\n",
       "      <td>0</td>\n",
       "      <td>3</td>\n",
       "      <td>female</td>\n",
       "      <td>0</td>\n",
       "      <td>1</td>\n",
       "      <td>STON/O2. 3101282</td>\n",
       "      <td>Miss</td>\n",
       "    </tr>\n",
       "    <tr>\n",
       "      <th>4</th>\n",
       "      <td>35.0</td>\n",
       "      <td>C123</td>\n",
       "      <td>S</td>\n",
       "      <td>53.1000</td>\n",
       "      <td>Futrelle, Mrs. Jacques Heath (Lily May Peel)</td>\n",
       "      <td>0</td>\n",
       "      <td>1</td>\n",
       "      <td>female</td>\n",
       "      <td>1</td>\n",
       "      <td>1</td>\n",
       "      <td>113803</td>\n",
       "      <td>Mrs</td>\n",
       "    </tr>\n",
       "    <tr>\n",
       "      <th>5</th>\n",
       "      <td>35.0</td>\n",
       "      <td>NaN</td>\n",
       "      <td>S</td>\n",
       "      <td>8.0500</td>\n",
       "      <td>Allen, Mr. William Henry</td>\n",
       "      <td>0</td>\n",
       "      <td>3</td>\n",
       "      <td>male</td>\n",
       "      <td>0</td>\n",
       "      <td>0</td>\n",
       "      <td>373450</td>\n",
       "      <td>Mr</td>\n",
       "    </tr>\n",
       "  </tbody>\n",
       "</table>\n",
       "</div>"
      ],
      "text/plain": [
       "              Age Cabin Embarked     Fare  \\\n",
       "PassengerId                                 \n",
       "1            22.0   NaN        S   7.2500   \n",
       "2            38.0   C85        C  71.2833   \n",
       "3            26.0   NaN        S   7.9250   \n",
       "4            35.0  C123        S  53.1000   \n",
       "5            35.0   NaN        S   8.0500   \n",
       "\n",
       "                                                          Name  Parch  Pclass  \\\n",
       "PassengerId                                                                     \n",
       "1                                      Braund, Mr. Owen Harris      0       3   \n",
       "2            Cumings, Mrs. John Bradley (Florence Briggs Th...      0       1   \n",
       "3                                       Heikkinen, Miss. Laina      0       3   \n",
       "4                 Futrelle, Mrs. Jacques Heath (Lily May Peel)      0       1   \n",
       "5                                     Allen, Mr. William Henry      0       3   \n",
       "\n",
       "                Sex  SibSp  Survived            Ticket Title  \n",
       "PassengerId                                                   \n",
       "1              male      1         0         A/5 21171    Mr  \n",
       "2            female      1         1          PC 17599   Mrs  \n",
       "3            female      0         1  STON/O2. 3101282  Miss  \n",
       "4            female      1         1            113803   Mrs  \n",
       "5              male      0         0            373450    Mr  "
      ]
     },
     "execution_count": 77,
     "metadata": {},
     "output_type": "execute_result"
    }
   ],
   "source": [
    "df.head()"
   ]
  },
  {
   "cell_type": "code",
   "execution_count": null,
   "metadata": {
    "collapsed": false
   },
   "outputs": [],
   "source": []
  },
  {
   "cell_type": "code",
   "execution_count": 79,
   "metadata": {
    "collapsed": false
   },
   "outputs": [
    {
     "data": {
      "image/png": "[encoded data removed]",
      "text/plain": [
       "<matplotlib.figure.Figure at 0x7f8f7f74d3d0>"
      ]
     },
     "metadata": {},
     "output_type": "display_data"
    }
   ],
   "source": [
    "df[df.Age.notnull()].boxplot('Age','Title');"
   ]
  },
  {
   "cell_type": "code",
   "execution_count": 80,
   "metadata": {
    "collapsed": true
   },
   "outputs": [],
   "source": [
    "# replace missing values\n",
    "title_age_median = df.groupby('Title').Age.transform('median')\n",
    "df.Age.fillna(title_age_median, inplace=True)"
   ]
  },
  {
   "cell_type": "code",
   "execution_count": 81,
   "metadata": {
    "collapsed": false
   },
   "outputs": [
    {
     "name": "stdout",
     "output_type": "stream",
     "text": [
      "<class 'pandas.core.frame.DataFrame'>\n",
      "Int64Index: 1309 entries, 1 to 1309\n",
      "Data columns (total 12 columns):\n",
      "Age         1309 non-null float64\n",
      "Cabin       295 non-null object\n",
      "Embarked    1309 non-null object\n",
      "Fare        1309 non-null float64\n",
      "Name        1309 non-null object\n",
      "Parch       1309 non-null int64\n",
      "Pclass      1309 non-null int64\n",
      "Sex         1309 non-null object\n",
      "SibSp       1309 non-null int64\n",
      "Survived    1309 non-null int64\n",
      "Ticket      1309 non-null object\n",
      "Title       1309 non-null object\n",
      "dtypes: float64(2), int64(4), object(6)\n",
      "memory usage: 132.9+ KB\n"
     ]
    }
   ],
   "source": [
    "df.info()"
   ]
  },
  {
   "cell_type": "markdown",
   "metadata": {},
   "source": [
    "### Working with outliers"
   ]
  },
  {
   "cell_type": "markdown",
   "metadata": {},
   "source": [
    "### Age"
   ]
  },
  {
   "cell_type": "code",
   "execution_count": 82,
   "metadata": {
    "collapsed": false
   },
   "outputs": [
    {
     "data": {
      "text/plain": [
       "<matplotlib.axes._subplots.AxesSubplot at 0x7f8f7f6f6550>"
      ]
     },
     "execution_count": 82,
     "metadata": {},
     "output_type": "execute_result"
    },
    {
     "data": {
      "image/png": "[encoded data removed]",
      "text/plain": [
       "<matplotlib.figure.Figure at 0x7f8f7f681150>"
      ]
     },
     "metadata": {},
     "output_type": "display_data"
    }
   ],
   "source": [
    "df.Age.plot(kind='hist', bins=20, color='c')"
   ]
  },
  {
   "cell_type": "code",
   "execution_count": 83,
   "metadata": {
    "collapsed": false
   },
   "outputs": [
    {
     "data": {
      "text/html": [
       "<div>\n",
       "<table border=\"1\" class=\"dataframe\">\n",
       "  <thead>\n",
       "    <tr style=\"text-align: right;\">\n",
       "      <th></th>\n",
       "      <th>Age</th>\n",
       "      <th>Cabin</th>\n",
       "      <th>Embarked</th>\n",
       "      <th>Fare</th>\n",
       "      <th>Name</th>\n",
       "      <th>Parch</th>\n",
       "      <th>Pclass</th>\n",
       "      <th>Sex</th>\n",
       "      <th>SibSp</th>\n",
       "      <th>Survived</th>\n",
       "      <th>Ticket</th>\n",
       "      <th>Title</th>\n",
       "    </tr>\n",
       "    <tr>\n",
       "      <th>PassengerId</th>\n",
       "      <th></th>\n",
       "      <th></th>\n",
       "      <th></th>\n",
       "      <th></th>\n",
       "      <th></th>\n",
       "      <th></th>\n",
       "      <th></th>\n",
       "      <th></th>\n",
       "      <th></th>\n",
       "      <th></th>\n",
       "      <th></th>\n",
       "      <th></th>\n",
       "    </tr>\n",
       "  </thead>\n",
       "  <tbody>\n",
       "    <tr>\n",
       "      <th>97</th>\n",
       "      <td>71.0</td>\n",
       "      <td>A5</td>\n",
       "      <td>C</td>\n",
       "      <td>34.6542</td>\n",
       "      <td>Goldschmidt, Mr. George B</td>\n",
       "      <td>0</td>\n",
       "      <td>1</td>\n",
       "      <td>male</td>\n",
       "      <td>0</td>\n",
       "      <td>0</td>\n",
       "      <td>PC 17754</td>\n",
       "      <td>Mr</td>\n",
       "    </tr>\n",
       "    <tr>\n",
       "      <th>117</th>\n",
       "      <td>70.5</td>\n",
       "      <td>NaN</td>\n",
       "      <td>Q</td>\n",
       "      <td>7.7500</td>\n",
       "      <td>Connors, Mr. Patrick</td>\n",
       "      <td>0</td>\n",
       "      <td>3</td>\n",
       "      <td>male</td>\n",
       "      <td>0</td>\n",
       "      <td>0</td>\n",
       "      <td>370369</td>\n",
       "      <td>Mr</td>\n",
       "    </tr>\n",
       "    <tr>\n",
       "      <th>494</th>\n",
       "      <td>71.0</td>\n",
       "      <td>NaN</td>\n",
       "      <td>C</td>\n",
       "      <td>49.5042</td>\n",
       "      <td>Artagaveytia, Mr. Ramon</td>\n",
       "      <td>0</td>\n",
       "      <td>1</td>\n",
       "      <td>male</td>\n",
       "      <td>0</td>\n",
       "      <td>0</td>\n",
       "      <td>PC 17609</td>\n",
       "      <td>Mr</td>\n",
       "    </tr>\n",
       "    <tr>\n",
       "      <th>631</th>\n",
       "      <td>80.0</td>\n",
       "      <td>A23</td>\n",
       "      <td>S</td>\n",
       "      <td>30.0000</td>\n",
       "      <td>Barkworth, Mr. Algernon Henry Wilson</td>\n",
       "      <td>0</td>\n",
       "      <td>1</td>\n",
       "      <td>male</td>\n",
       "      <td>0</td>\n",
       "      <td>1</td>\n",
       "      <td>27042</td>\n",
       "      <td>Mr</td>\n",
       "    </tr>\n",
       "    <tr>\n",
       "      <th>852</th>\n",
       "      <td>74.0</td>\n",
       "      <td>NaN</td>\n",
       "      <td>S</td>\n",
       "      <td>7.7750</td>\n",
       "      <td>Svensson, Mr. Johan</td>\n",
       "      <td>0</td>\n",
       "      <td>3</td>\n",
       "      <td>male</td>\n",
       "      <td>0</td>\n",
       "      <td>0</td>\n",
       "      <td>347060</td>\n",
       "      <td>Mr</td>\n",
       "    </tr>\n",
       "    <tr>\n",
       "      <th>988</th>\n",
       "      <td>76.0</td>\n",
       "      <td>C46</td>\n",
       "      <td>S</td>\n",
       "      <td>78.8500</td>\n",
       "      <td>Cavendish, Mrs. Tyrell William (Julia Florence...</td>\n",
       "      <td>0</td>\n",
       "      <td>1</td>\n",
       "      <td>female</td>\n",
       "      <td>1</td>\n",
       "      <td>-888</td>\n",
       "      <td>19877</td>\n",
       "      <td>Mrs</td>\n",
       "    </tr>\n",
       "  </tbody>\n",
       "</table>\n",
       "</div>"
      ],
      "text/plain": [
       "              Age Cabin Embarked     Fare  \\\n",
       "PassengerId                                 \n",
       "97           71.0    A5        C  34.6542   \n",
       "117          70.5   NaN        Q   7.7500   \n",
       "494          71.0   NaN        C  49.5042   \n",
       "631          80.0   A23        S  30.0000   \n",
       "852          74.0   NaN        S   7.7750   \n",
       "988          76.0   C46        S  78.8500   \n",
       "\n",
       "                                                          Name  Parch  Pclass  \\\n",
       "PassengerId                                                                     \n",
       "97                                   Goldschmidt, Mr. George B      0       1   \n",
       "117                                       Connors, Mr. Patrick      0       3   \n",
       "494                                    Artagaveytia, Mr. Ramon      0       1   \n",
       "631                       Barkworth, Mr. Algernon Henry Wilson      0       1   \n",
       "852                                        Svensson, Mr. Johan      0       3   \n",
       "988          Cavendish, Mrs. Tyrell William (Julia Florence...      0       1   \n",
       "\n",
       "                Sex  SibSp  Survived    Ticket Title  \n",
       "PassengerId                                           \n",
       "97             male      0         0  PC 17754    Mr  \n",
       "117            male      0         0    370369    Mr  \n",
       "494            male      0         0  PC 17609    Mr  \n",
       "631            male      0         1     27042    Mr  \n",
       "852            male      0         0    347060    Mr  \n",
       "988          female      1      -888     19877   Mrs  "
      ]
     },
     "execution_count": 83,
     "metadata": {},
     "output_type": "execute_result"
    }
   ],
   "source": [
    "df.loc[df['Age']>70]"
   ]
  },
  {
   "cell_type": "code",
   "execution_count": 84,
   "metadata": {
    "collapsed": false
   },
   "outputs": [
    {
     "data": {
      "text/plain": [
       "<matplotlib.axes._subplots.AxesSubplot at 0x7f8f7f695c50>"
      ]
     },
     "execution_count": 84,
     "metadata": {},
     "output_type": "execute_result"
    },
    {
     "data": {
      "image/png": "[encoded data removed]",
      "text/plain": [
       "<matplotlib.figure.Figure at 0x7f8f7f5e0dd0>"
      ]
     },
     "metadata": {},
     "output_type": "display_data"
    }
   ],
   "source": [
    "df.Fare.plot(kind='hist', title='Histogram for fare', bins=20, color='c')"
   ]
  },
  {
   "cell_type": "code",
   "execution_count": 86,
   "metadata": {
    "collapsed": false
   },
   "outputs": [
    {
     "data": {
      "text/plain": [
       "<matplotlib.axes._subplots.AxesSubplot at 0x7f8f7ff3c910>"
      ]
     },
     "execution_count": 86,
     "metadata": {},
     "output_type": "execute_result"
    },
    {
     "data": {
      "image/png": "[encoded data removed]",
      "text/plain": [
       "<matplotlib.figure.Figure at 0x7f8f86aed4d0>"
      ]
     },
     "metadata": {},
     "output_type": "display_data"
    }
   ],
   "source": [
    "# box plot to indentify outliers\n",
    "df.Fare.plot(kind='box')"
   ]
  },
  {
   "cell_type": "code",
   "execution_count": 88,
   "metadata": {
    "collapsed": false
   },
   "outputs": [
    {
     "data": {
      "text/html": [
       "<div>\n",
       "<table border=\"1\" class=\"dataframe\">\n",
       "  <thead>\n",
       "    <tr style=\"text-align: right;\">\n",
       "      <th></th>\n",
       "      <th>Age</th>\n",
       "      <th>Cabin</th>\n",
       "      <th>Embarked</th>\n",
       "      <th>Fare</th>\n",
       "      <th>Name</th>\n",
       "      <th>Parch</th>\n",
       "      <th>Pclass</th>\n",
       "      <th>Sex</th>\n",
       "      <th>SibSp</th>\n",
       "      <th>Survived</th>\n",
       "      <th>Ticket</th>\n",
       "      <th>Title</th>\n",
       "    </tr>\n",
       "    <tr>\n",
       "      <th>PassengerId</th>\n",
       "      <th></th>\n",
       "      <th></th>\n",
       "      <th></th>\n",
       "      <th></th>\n",
       "      <th></th>\n",
       "      <th></th>\n",
       "      <th></th>\n",
       "      <th></th>\n",
       "      <th></th>\n",
       "      <th></th>\n",
       "      <th></th>\n",
       "      <th></th>\n",
       "    </tr>\n",
       "  </thead>\n",
       "  <tbody>\n",
       "    <tr>\n",
       "      <th>259</th>\n",
       "      <td>35.0</td>\n",
       "      <td>NaN</td>\n",
       "      <td>C</td>\n",
       "      <td>512.3292</td>\n",
       "      <td>Ward, Miss. Anna</td>\n",
       "      <td>0</td>\n",
       "      <td>1</td>\n",
       "      <td>female</td>\n",
       "      <td>0</td>\n",
       "      <td>1</td>\n",
       "      <td>PC 17755</td>\n",
       "      <td>Miss</td>\n",
       "    </tr>\n",
       "    <tr>\n",
       "      <th>680</th>\n",
       "      <td>36.0</td>\n",
       "      <td>B51 B53 B55</td>\n",
       "      <td>C</td>\n",
       "      <td>512.3292</td>\n",
       "      <td>Cardeza, Mr. Thomas Drake Martinez</td>\n",
       "      <td>1</td>\n",
       "      <td>1</td>\n",
       "      <td>male</td>\n",
       "      <td>0</td>\n",
       "      <td>1</td>\n",
       "      <td>PC 17755</td>\n",
       "      <td>Mr</td>\n",
       "    </tr>\n",
       "    <tr>\n",
       "      <th>738</th>\n",
       "      <td>35.0</td>\n",
       "      <td>B101</td>\n",
       "      <td>C</td>\n",
       "      <td>512.3292</td>\n",
       "      <td>Lesurer, Mr. Gustave J</td>\n",
       "      <td>0</td>\n",
       "      <td>1</td>\n",
       "      <td>male</td>\n",
       "      <td>0</td>\n",
       "      <td>1</td>\n",
       "      <td>PC 17755</td>\n",
       "      <td>Mr</td>\n",
       "    </tr>\n",
       "    <tr>\n",
       "      <th>1235</th>\n",
       "      <td>58.0</td>\n",
       "      <td>B51 B53 B55</td>\n",
       "      <td>C</td>\n",
       "      <td>512.3292</td>\n",
       "      <td>Cardeza, Mrs. James Warburton Martinez (Charlo...</td>\n",
       "      <td>1</td>\n",
       "      <td>1</td>\n",
       "      <td>female</td>\n",
       "      <td>0</td>\n",
       "      <td>-888</td>\n",
       "      <td>PC 17755</td>\n",
       "      <td>Mrs</td>\n",
       "    </tr>\n",
       "  </tbody>\n",
       "</table>\n",
       "</div>"
      ],
      "text/plain": [
       "              Age        Cabin Embarked      Fare  \\\n",
       "PassengerId                                         \n",
       "259          35.0          NaN        C  512.3292   \n",
       "680          36.0  B51 B53 B55        C  512.3292   \n",
       "738          35.0         B101        C  512.3292   \n",
       "1235         58.0  B51 B53 B55        C  512.3292   \n",
       "\n",
       "                                                          Name  Parch  Pclass  \\\n",
       "PassengerId                                                                     \n",
       "259                                           Ward, Miss. Anna      0       1   \n",
       "680                         Cardeza, Mr. Thomas Drake Martinez      1       1   \n",
       "738                                     Lesurer, Mr. Gustave J      0       1   \n",
       "1235         Cardeza, Mrs. James Warburton Martinez (Charlo...      1       1   \n",
       "\n",
       "                Sex  SibSp  Survived    Ticket Title  \n",
       "PassengerId                                           \n",
       "259          female      0         1  PC 17755  Miss  \n",
       "680            male      0         1  PC 17755    Mr  \n",
       "738            male      0         1  PC 17755    Mr  \n",
       "1235         female      0      -888  PC 17755   Mrs  "
      ]
     },
     "execution_count": 88,
     "metadata": {},
     "output_type": "execute_result"
    }
   ],
   "source": [
    "  df.loc[df.Fare == df.Fare.max()]"
   ]
  },
  {
   "cell_type": "code",
   "execution_count": 89,
   "metadata": {
    "collapsed": true
   },
   "outputs": [],
   "source": [
    "# doing transformations to reduce the skewness\n",
    "logFare= np.log(df.Fare + 1.0)"
   ]
  },
  {
   "cell_type": "code",
   "execution_count": 90,
   "metadata": {
    "collapsed": false
   },
   "outputs": [
    {
     "data": {
      "text/plain": [
       "<matplotlib.axes._subplots.AxesSubplot at 0x7f8f7f74f450>"
      ]
     },
     "execution_count": 90,
     "metadata": {},
     "output_type": "execute_result"
    },
    {
     "data": {
      "image/png": "[encoded data removed]",
      "text/plain": [
       "<matplotlib.figure.Figure at 0x7f8f7f74d550>"
      ]
     },
     "metadata": {},
     "output_type": "display_data"
    }
   ],
   "source": [
    "logFare.plot(kind='hist')"
   ]
  },
  {
   "cell_type": "code",
   "execution_count": 91,
   "metadata": {
    "collapsed": false
   },
   "outputs": [
    {
     "data": {
      "text/plain": [
       "PassengerId\n",
       "1              [0, 7.896]\n",
       "2       (31.275, 512.329]\n",
       "3         (7.896, 14.454]\n",
       "4       (31.275, 512.329]\n",
       "5         (7.896, 14.454]\n",
       "6         (7.896, 14.454]\n",
       "7       (31.275, 512.329]\n",
       "              ...        \n",
       "1303    (31.275, 512.329]\n",
       "1304           [0, 7.896]\n",
       "1305      (7.896, 14.454]\n",
       "1306    (31.275, 512.329]\n",
       "1307           [0, 7.896]\n",
       "1308      (7.896, 14.454]\n",
       "1309     (14.454, 31.275]\n",
       "Name: Fare, dtype: category\n",
       "Categories (4, object): [[0, 7.896] < (7.896, 14.454] < (14.454, 31.275] < (31.275, 512.329]]"
      ]
     },
     "execution_count": 91,
     "metadata": {},
     "output_type": "execute_result"
    }
   ],
   "source": [
    "## binning\n",
    "pd.qcut(df.Fare,4)"
   ]
  },
  {
   "cell_type": "code",
   "execution_count": 93,
   "metadata": {
    "collapsed": false
   },
   "outputs": [
    {
     "data": {
      "text/plain": [
       "PassengerId\n",
       "1        very_low\n",
       "2       very_high\n",
       "3             low\n",
       "4       very_high\n",
       "5             low\n",
       "6             low\n",
       "7       very_high\n",
       "          ...    \n",
       "1303    very_high\n",
       "1304     very_low\n",
       "1305          low\n",
       "1306    very_high\n",
       "1307     very_low\n",
       "1308          low\n",
       "1309         high\n",
       "Name: Fare, dtype: category\n",
       "Categories (4, object): [very_low < low < high < very_high]"
      ]
     },
     "execution_count": 93,
     "metadata": {},
     "output_type": "execute_result"
    }
   ],
   "source": [
    "pd.qcut(df.Fare,4, labels=['very_low','low','high','very_high'])  #discretization"
   ]
  },
  {
   "cell_type": "code",
   "execution_count": 94,
   "metadata": {
    "collapsed": false
   },
   "outputs": [
    {
     "data": {
      "image/png": "[encoded data removed]",
      "text/plain": [
       "<matplotlib.figure.Figure at 0x7f8f7f846b90>"
      ]
     },
     "metadata": {},
     "output_type": "display_data"
    }
   ],
   "source": [
    "pd.qcut(df.Fare,4,labels=['very_low','low','high','very_high']).value_counts().plot(kind='bar',color='c',rot=0);"
   ]
  },
  {
   "cell_type": "code",
   "execution_count": 96,
   "metadata": {
    "collapsed": false
   },
   "outputs": [],
   "source": [
    "df['Fare_Bin'] = pd.qcut(df.Fare, 4, labels= ['very_low','low','high','very_high'])"
   ]
  },
  {
   "cell_type": "markdown",
   "metadata": {},
   "source": [
    "\n",
    "## Feature Engineering"
   ]
  },
  {
   "cell_type": "markdown",
   "metadata": {},
   "source": [
    "### Feature: Age State (Adult or Child)"
   ]
  },
  {
   "cell_type": "code",
   "execution_count": 97,
   "metadata": {
    "collapsed": true
   },
   "outputs": [],
   "source": [
    "#AgeState based on Age\n",
    "df['AgeState'] = np.where(df['Age']>=18, 'Adult','Child')"
   ]
  },
  {
   "cell_type": "code",
   "execution_count": 98,
   "metadata": {
    "collapsed": false
   },
   "outputs": [
    {
     "data": {
      "text/plain": [
       "Adult    1147\n",
       "Child     162\n",
       "Name: AgeState, dtype: int64"
      ]
     },
     "execution_count": 98,
     "metadata": {},
     "output_type": "execute_result"
    }
   ],
   "source": [
    "df['AgeState'].value_counts()"
   ]
  },
  {
   "cell_type": "code",
   "execution_count": 99,
   "metadata": {
    "collapsed": false
   },
   "outputs": [
    {
     "data": {
      "text/html": [
       "<div>\n",
       "<table border=\"1\" class=\"dataframe\">\n",
       "  <thead>\n",
       "    <tr style=\"text-align: right;\">\n",
       "      <th>AgeState</th>\n",
       "      <th>Adult</th>\n",
       "      <th>Child</th>\n",
       "    </tr>\n",
       "    <tr>\n",
       "      <th>Survived</th>\n",
       "      <th></th>\n",
       "      <th></th>\n",
       "    </tr>\n",
       "  </thead>\n",
       "  <tbody>\n",
       "    <tr>\n",
       "      <th>0.0</th>\n",
       "      <td>495</td>\n",
       "      <td>54</td>\n",
       "    </tr>\n",
       "    <tr>\n",
       "      <th>1.0</th>\n",
       "      <td>279</td>\n",
       "      <td>63</td>\n",
       "    </tr>\n",
       "  </tbody>\n",
       "</table>\n",
       "</div>"
      ],
      "text/plain": [
       "AgeState  Adult  Child\n",
       "Survived              \n",
       "0.0         495     54\n",
       "1.0         279     63"
      ]
     },
     "execution_count": 99,
     "metadata": {},
     "output_type": "execute_result"
    }
   ],
   "source": [
    "pd.crosstab(df[df.Survived != -888].Survived , df[df.Survived != 888].AgeState)"
   ]
  },
  {
   "cell_type": "markdown",
   "metadata": {},
   "source": [
    "### Feature : Family Size"
   ]
  },
  {
   "cell_type": "code",
   "execution_count": 100,
   "metadata": {
    "collapsed": true
   },
   "outputs": [],
   "source": [
    "df['FamilySize'] = df.Parch + df.SibSp + 1"
   ]
  },
  {
   "cell_type": "code",
   "execution_count": 102,
   "metadata": {
    "collapsed": false
   },
   "outputs": [
    {
     "data": {
      "image/png": "[encoded data removed]",
      "text/plain": [
       "<matplotlib.figure.Figure at 0x7f8f7f375b50>"
      ]
     },
     "metadata": {},
     "output_type": "display_data"
    }
   ],
   "source": [
    "df['FamilySize'].plot(kind='hist', color='c');"
   ]
  },
  {
   "cell_type": "code",
   "execution_count": 106,
   "metadata": {
    "collapsed": false
   },
   "outputs": [
    {
     "data": {
      "text/html": [
       "<div>\n",
       "<table border=\"1\" class=\"dataframe\">\n",
       "  <thead>\n",
       "    <tr style=\"text-align: right;\">\n",
       "      <th></th>\n",
       "      <th>Name</th>\n",
       "      <th>Survived</th>\n",
       "      <th>FamilySize</th>\n",
       "      <th>Ticket</th>\n",
       "    </tr>\n",
       "    <tr>\n",
       "      <th>PassengerId</th>\n",
       "      <th></th>\n",
       "      <th></th>\n",
       "      <th></th>\n",
       "      <th></th>\n",
       "    </tr>\n",
       "  </thead>\n",
       "  <tbody>\n",
       "    <tr>\n",
       "      <th>160</th>\n",
       "      <td>Sage, Master. Thomas Henry</td>\n",
       "      <td>0</td>\n",
       "      <td>11</td>\n",
       "      <td>CA. 2343</td>\n",
       "    </tr>\n",
       "    <tr>\n",
       "      <th>181</th>\n",
       "      <td>Sage, Miss. Constance Gladys</td>\n",
       "      <td>0</td>\n",
       "      <td>11</td>\n",
       "      <td>CA. 2343</td>\n",
       "    </tr>\n",
       "    <tr>\n",
       "      <th>202</th>\n",
       "      <td>Sage, Mr. Frederick</td>\n",
       "      <td>0</td>\n",
       "      <td>11</td>\n",
       "      <td>CA. 2343</td>\n",
       "    </tr>\n",
       "    <tr>\n",
       "      <th>325</th>\n",
       "      <td>Sage, Mr. George John Jr</td>\n",
       "      <td>0</td>\n",
       "      <td>11</td>\n",
       "      <td>CA. 2343</td>\n",
       "    </tr>\n",
       "    <tr>\n",
       "      <th>793</th>\n",
       "      <td>Sage, Miss. Stella Anna</td>\n",
       "      <td>0</td>\n",
       "      <td>11</td>\n",
       "      <td>CA. 2343</td>\n",
       "    </tr>\n",
       "    <tr>\n",
       "      <th>847</th>\n",
       "      <td>Sage, Mr. Douglas Bullen</td>\n",
       "      <td>0</td>\n",
       "      <td>11</td>\n",
       "      <td>CA. 2343</td>\n",
       "    </tr>\n",
       "    <tr>\n",
       "      <th>864</th>\n",
       "      <td>Sage, Miss. Dorothy Edith \"Dolly\"</td>\n",
       "      <td>0</td>\n",
       "      <td>11</td>\n",
       "      <td>CA. 2343</td>\n",
       "    </tr>\n",
       "    <tr>\n",
       "      <th>1080</th>\n",
       "      <td>Sage, Miss. Ada</td>\n",
       "      <td>-888</td>\n",
       "      <td>11</td>\n",
       "      <td>CA. 2343</td>\n",
       "    </tr>\n",
       "    <tr>\n",
       "      <th>1234</th>\n",
       "      <td>Sage, Mr. John George</td>\n",
       "      <td>-888</td>\n",
       "      <td>11</td>\n",
       "      <td>CA. 2343</td>\n",
       "    </tr>\n",
       "    <tr>\n",
       "      <th>1252</th>\n",
       "      <td>Sage, Master. William Henry</td>\n",
       "      <td>-888</td>\n",
       "      <td>11</td>\n",
       "      <td>CA. 2343</td>\n",
       "    </tr>\n",
       "    <tr>\n",
       "      <th>1257</th>\n",
       "      <td>Sage, Mrs. John (Annie Bullen)</td>\n",
       "      <td>-888</td>\n",
       "      <td>11</td>\n",
       "      <td>CA. 2343</td>\n",
       "    </tr>\n",
       "  </tbody>\n",
       "</table>\n",
       "</div>"
      ],
      "text/plain": [
       "                                          Name  Survived  FamilySize    Ticket\n",
       "PassengerId                                                                   \n",
       "160                 Sage, Master. Thomas Henry         0          11  CA. 2343\n",
       "181               Sage, Miss. Constance Gladys         0          11  CA. 2343\n",
       "202                        Sage, Mr. Frederick         0          11  CA. 2343\n",
       "325                   Sage, Mr. George John Jr         0          11  CA. 2343\n",
       "793                    Sage, Miss. Stella Anna         0          11  CA. 2343\n",
       "847                   Sage, Mr. Douglas Bullen         0          11  CA. 2343\n",
       "864          Sage, Miss. Dorothy Edith \"Dolly\"         0          11  CA. 2343\n",
       "1080                           Sage, Miss. Ada      -888          11  CA. 2343\n",
       "1234                     Sage, Mr. John George      -888          11  CA. 2343\n",
       "1252               Sage, Master. William Henry      -888          11  CA. 2343\n",
       "1257            Sage, Mrs. John (Annie Bullen)      -888          11  CA. 2343"
      ]
     },
     "execution_count": 106,
     "metadata": {},
     "output_type": "execute_result"
    }
   ],
   "source": [
    "df.loc[df.FamilySize== df.FamilySize.max(),['Name', 'Survived','FamilySize','Ticket']]"
   ]
  },
  {
   "cell_type": "code",
   "execution_count": 107,
   "metadata": {
    "collapsed": false
   },
   "outputs": [
    {
     "data": {
      "text/html": [
       "<div>\n",
       "<table border=\"1\" class=\"dataframe\">\n",
       "  <thead>\n",
       "    <tr style=\"text-align: right;\">\n",
       "      <th>FamilySize</th>\n",
       "      <th>1</th>\n",
       "      <th>2</th>\n",
       "      <th>3</th>\n",
       "      <th>4</th>\n",
       "      <th>5</th>\n",
       "      <th>6</th>\n",
       "      <th>7</th>\n",
       "      <th>8</th>\n",
       "      <th>11</th>\n",
       "    </tr>\n",
       "    <tr>\n",
       "      <th>Survived</th>\n",
       "      <th></th>\n",
       "      <th></th>\n",
       "      <th></th>\n",
       "      <th></th>\n",
       "      <th></th>\n",
       "      <th></th>\n",
       "      <th></th>\n",
       "      <th></th>\n",
       "      <th></th>\n",
       "    </tr>\n",
       "  </thead>\n",
       "  <tbody>\n",
       "    <tr>\n",
       "      <th>0</th>\n",
       "      <td>374</td>\n",
       "      <td>72</td>\n",
       "      <td>43</td>\n",
       "      <td>8</td>\n",
       "      <td>12</td>\n",
       "      <td>19</td>\n",
       "      <td>8</td>\n",
       "      <td>6</td>\n",
       "      <td>7</td>\n",
       "    </tr>\n",
       "    <tr>\n",
       "      <th>1</th>\n",
       "      <td>163</td>\n",
       "      <td>89</td>\n",
       "      <td>59</td>\n",
       "      <td>21</td>\n",
       "      <td>3</td>\n",
       "      <td>3</td>\n",
       "      <td>4</td>\n",
       "      <td>0</td>\n",
       "      <td>0</td>\n",
       "    </tr>\n",
       "  </tbody>\n",
       "</table>\n",
       "</div>"
      ],
      "text/plain": [
       "FamilySize   1   2   3   4   5   6   7   8   11\n",
       "Survived                                       \n",
       "0           374  72  43   8  12  19   8   6   7\n",
       "1           163  89  59  21   3   3   4   0   0"
      ]
     },
     "execution_count": 107,
     "metadata": {},
     "output_type": "execute_result"
    }
   ],
   "source": [
    "# cross tab\n",
    "pd.crosstab(df[df.Survived != -888].Survived, df[df.Survived != -888].FamilySize)"
   ]
  },
  {
   "cell_type": "markdown",
   "metadata": {},
   "source": [
    " ### Feature : IsMother"
   ]
  },
  {
   "cell_type": "code",
   "execution_count": 108,
   "metadata": {
    "collapsed": true
   },
   "outputs": [],
   "source": [
    "df['IsMother'] = np.where(((df.Sex =='female') & (df.Parch>0) & (df.Age >18) & (df.Title !='Miss')),1,0)"
   ]
  },
  {
   "cell_type": "code",
   "execution_count": 109,
   "metadata": {
    "collapsed": false
   },
   "outputs": [
    {
     "data": {
      "text/html": [
       "<div>\n",
       "<table border=\"1\" class=\"dataframe\">\n",
       "  <thead>\n",
       "    <tr style=\"text-align: right;\">\n",
       "      <th>IsMother</th>\n",
       "      <th>0</th>\n",
       "      <th>1</th>\n",
       "    </tr>\n",
       "    <tr>\n",
       "      <th>Survived</th>\n",
       "      <th></th>\n",
       "      <th></th>\n",
       "    </tr>\n",
       "  </thead>\n",
       "  <tbody>\n",
       "    <tr>\n",
       "      <th>0</th>\n",
       "      <td>533</td>\n",
       "      <td>16</td>\n",
       "    </tr>\n",
       "    <tr>\n",
       "      <th>1</th>\n",
       "      <td>303</td>\n",
       "      <td>39</td>\n",
       "    </tr>\n",
       "  </tbody>\n",
       "</table>\n",
       "</div>"
      ],
      "text/plain": [
       "IsMother    0   1\n",
       "Survived         \n",
       "0         533  16\n",
       "1         303  39"
      ]
     },
     "execution_count": 109,
     "metadata": {},
     "output_type": "execute_result"
    }
   ],
   "source": [
    "pd.crosstab(df[df.Survived != -888].Survived, df[df.Survived != -888].IsMother)"
   ]
  },
  {
   "cell_type": "markdown",
   "metadata": {},
   "source": [
    "### Deck"
   ]
  },
  {
   "cell_type": "code",
   "execution_count": 110,
   "metadata": {
    "collapsed": false
   },
   "outputs": [
    {
     "data": {
      "text/plain": [
       "PassengerId\n",
       "1        NaN\n",
       "2        C85\n",
       "3        NaN\n",
       "4       C123\n",
       "5        NaN\n",
       "6        NaN\n",
       "7        E46\n",
       "        ... \n",
       "1303     C78\n",
       "1304     NaN\n",
       "1305     NaN\n",
       "1306    C105\n",
       "1307     NaN\n",
       "1308     NaN\n",
       "1309     NaN\n",
       "Name: Cabin, dtype: object"
      ]
     },
     "execution_count": 110,
     "metadata": {},
     "output_type": "execute_result"
    }
   ],
   "source": [
    "df.Cabin"
   ]
  },
  {
   "cell_type": "code",
   "execution_count": 111,
   "metadata": {
    "collapsed": false
   },
   "outputs": [
    {
     "data": {
      "text/plain": [
       "array([nan, 'C85', 'C123', 'E46', 'G6', 'C103', 'D56', 'A6', 'C23 C25 C27',\n",
       "       'B78', 'D33', 'B30', 'C52', 'B28', 'C83', 'F33', 'F G73', 'E31',\n",
       "       'A5', 'D10 D12', 'D26', 'C110', 'B58 B60', 'E101', 'F E69', 'D47',\n",
       "       'B86', 'F2', 'C2', 'E33', 'B19', 'A7', 'C49', 'F4', 'A32', 'B4',\n",
       "       'B80', 'A31', 'D36', 'D15', 'C93', 'C78', 'D35', 'C87', 'B77',\n",
       "       'E67', 'B94', 'C125', 'C99', 'C118', 'D7', 'A19', 'B49', 'D',\n",
       "       'C22 C26', 'C106', 'C65', 'E36', 'C54', 'B57 B59 B63 B66', 'C7',\n",
       "       'E34', 'C32', 'B18', 'C124', 'C91', 'E40', 'T', 'C128', 'D37',\n",
       "       'B35', 'E50', 'C82', 'B96 B98', 'E10', 'E44', 'A34', 'C104', 'C111',\n",
       "       'C92', 'E38', 'D21', 'E12', 'E63', 'A14', 'B37', 'C30', 'D20',\n",
       "       'B79', 'E25', 'D46', 'B73', 'C95', 'B38', 'B39', 'B22', 'C86',\n",
       "       'C70', 'A16', 'C101', 'C68', 'A10', 'E68', 'B41', 'A20', 'D19',\n",
       "       'D50', 'D9', 'A23', 'B50', 'A26', 'D48', 'E58', 'C126', 'B71',\n",
       "       'B51 B53 B55', 'D49', 'B5', 'B20', 'F G63', 'C62 C64', 'E24', 'C90',\n",
       "       'C45', 'E8', 'B101', 'D45', 'C46', 'D30', 'E121', 'D11', 'E77',\n",
       "       'F38', 'B3', 'D6', 'B82 B84', 'D17', 'A36', 'B102', 'B69', 'E49',\n",
       "       'C47', 'D28', 'E17', 'A24', 'C50', 'B42', 'C148', 'B45', 'B36',\n",
       "       'A21', 'D34', 'A9', 'C31', 'B61', 'C53', 'D43', 'C130', 'C132',\n",
       "       'C55 C57', 'C116', 'F', 'A29', 'C6', 'C28', 'C51', 'C97', 'D22',\n",
       "       'B10', 'E45', 'E52', 'A11', 'B11', 'C80', 'C89', 'F E46', 'B26',\n",
       "       'F E57', 'A18', 'E60', 'E39 E41', 'B52 B54 B56', 'C39', 'B24',\n",
       "       'D40', 'D38', 'C105'], dtype=object)"
      ]
     },
     "execution_count": 111,
     "metadata": {},
     "output_type": "execute_result"
    }
   ],
   "source": [
    "df.Cabin.unique()"
   ]
  },
  {
   "cell_type": "code",
   "execution_count": 113,
   "metadata": {
    "collapsed": false
   },
   "outputs": [
    {
     "data": {
      "text/html": [
       "<div>\n",
       "<table border=\"1\" class=\"dataframe\">\n",
       "  <thead>\n",
       "    <tr style=\"text-align: right;\">\n",
       "      <th></th>\n",
       "      <th>Age</th>\n",
       "      <th>Cabin</th>\n",
       "      <th>Embarked</th>\n",
       "      <th>Fare</th>\n",
       "      <th>Name</th>\n",
       "      <th>Parch</th>\n",
       "      <th>Pclass</th>\n",
       "      <th>Sex</th>\n",
       "      <th>SibSp</th>\n",
       "      <th>Survived</th>\n",
       "      <th>Ticket</th>\n",
       "      <th>Title</th>\n",
       "      <th>Fare_Bin</th>\n",
       "      <th>AgeState</th>\n",
       "      <th>FamilySize</th>\n",
       "      <th>IsMother</th>\n",
       "    </tr>\n",
       "    <tr>\n",
       "      <th>PassengerId</th>\n",
       "      <th></th>\n",
       "      <th></th>\n",
       "      <th></th>\n",
       "      <th></th>\n",
       "      <th></th>\n",
       "      <th></th>\n",
       "      <th></th>\n",
       "      <th></th>\n",
       "      <th></th>\n",
       "      <th></th>\n",
       "      <th></th>\n",
       "      <th></th>\n",
       "      <th></th>\n",
       "      <th></th>\n",
       "      <th></th>\n",
       "      <th></th>\n",
       "    </tr>\n",
       "  </thead>\n",
       "  <tbody>\n",
       "    <tr>\n",
       "      <th>340</th>\n",
       "      <td>45.0</td>\n",
       "      <td>T</td>\n",
       "      <td>S</td>\n",
       "      <td>35.5</td>\n",
       "      <td>Blackwell, Mr. Stephen Weart</td>\n",
       "      <td>0</td>\n",
       "      <td>1</td>\n",
       "      <td>male</td>\n",
       "      <td>0</td>\n",
       "      <td>0</td>\n",
       "      <td>113784</td>\n",
       "      <td>Mr</td>\n",
       "      <td>very_high</td>\n",
       "      <td>Adult</td>\n",
       "      <td>1</td>\n",
       "      <td>0</td>\n",
       "    </tr>\n",
       "  </tbody>\n",
       "</table>\n",
       "</div>"
      ],
      "text/plain": [
       "              Age Cabin Embarked  Fare                          Name  Parch  \\\n",
       "PassengerId                                                                   \n",
       "340          45.0     T        S  35.5  Blackwell, Mr. Stephen Weart      0   \n",
       "\n",
       "             Pclass   Sex  SibSp  Survived  Ticket Title   Fare_Bin AgeState  \\\n",
       "PassengerId                                                                    \n",
       "340               1  male      0         0  113784    Mr  very_high    Adult   \n",
       "\n",
       "             FamilySize  IsMother  \n",
       "PassengerId                        \n",
       "340                   1         0  "
      ]
     },
     "execution_count": 113,
     "metadata": {},
     "output_type": "execute_result"
    }
   ],
   "source": [
    "df.loc[df.Cabin=='T']"
   ]
  },
  {
   "cell_type": "code",
   "execution_count": 114,
   "metadata": {
    "collapsed": true
   },
   "outputs": [],
   "source": [
    "df.loc[df.Cabin=='T', 'Cabin'] = np.NAN"
   ]
  },
  {
   "cell_type": "code",
   "execution_count": 115,
   "metadata": {
    "collapsed": false
   },
   "outputs": [
    {
     "data": {
      "text/plain": [
       "array([nan, 'C85', 'C123', 'E46', 'G6', 'C103', 'D56', 'A6', 'C23 C25 C27',\n",
       "       'B78', 'D33', 'B30', 'C52', 'B28', 'C83', 'F33', 'F G73', 'E31',\n",
       "       'A5', 'D10 D12', 'D26', 'C110', 'B58 B60', 'E101', 'F E69', 'D47',\n",
       "       'B86', 'F2', 'C2', 'E33', 'B19', 'A7', 'C49', 'F4', 'A32', 'B4',\n",
       "       'B80', 'A31', 'D36', 'D15', 'C93', 'C78', 'D35', 'C87', 'B77',\n",
       "       'E67', 'B94', 'C125', 'C99', 'C118', 'D7', 'A19', 'B49', 'D',\n",
       "       'C22 C26', 'C106', 'C65', 'E36', 'C54', 'B57 B59 B63 B66', 'C7',\n",
       "       'E34', 'C32', 'B18', 'C124', 'C91', 'E40', 'C128', 'D37', 'B35',\n",
       "       'E50', 'C82', 'B96 B98', 'E10', 'E44', 'A34', 'C104', 'C111', 'C92',\n",
       "       'E38', 'D21', 'E12', 'E63', 'A14', 'B37', 'C30', 'D20', 'B79',\n",
       "       'E25', 'D46', 'B73', 'C95', 'B38', 'B39', 'B22', 'C86', 'C70',\n",
       "       'A16', 'C101', 'C68', 'A10', 'E68', 'B41', 'A20', 'D19', 'D50',\n",
       "       'D9', 'A23', 'B50', 'A26', 'D48', 'E58', 'C126', 'B71',\n",
       "       'B51 B53 B55', 'D49', 'B5', 'B20', 'F G63', 'C62 C64', 'E24', 'C90',\n",
       "       'C45', 'E8', 'B101', 'D45', 'C46', 'D30', 'E121', 'D11', 'E77',\n",
       "       'F38', 'B3', 'D6', 'B82 B84', 'D17', 'A36', 'B102', 'B69', 'E49',\n",
       "       'C47', 'D28', 'E17', 'A24', 'C50', 'B42', 'C148', 'B45', 'B36',\n",
       "       'A21', 'D34', 'A9', 'C31', 'B61', 'C53', 'D43', 'C130', 'C132',\n",
       "       'C55 C57', 'C116', 'F', 'A29', 'C6', 'C28', 'C51', 'C97', 'D22',\n",
       "       'B10', 'E45', 'E52', 'A11', 'B11', 'C80', 'C89', 'F E46', 'B26',\n",
       "       'F E57', 'A18', 'E60', 'E39 E41', 'B52 B54 B56', 'C39', 'B24',\n",
       "       'D40', 'D38', 'C105'], dtype=object)"
      ]
     },
     "execution_count": 115,
     "metadata": {},
     "output_type": "execute_result"
    }
   ],
   "source": [
    "df.Cabin.unique()"
   ]
  },
  {
   "cell_type": "code",
   "execution_count": 116,
   "metadata": {
    "collapsed": true
   },
   "outputs": [],
   "source": [
    " # extract first character of Cabin string to the deck\n",
    "def get_deck(cabin):\n",
    "    return np.where(pd.notnull(cabin), str(cabin)[0].upper(),'Z')\n",
    "df['Deck'] = df['Cabin'].map(lambda x : get_deck(x))"
   ]
  },
  {
   "cell_type": "code",
   "execution_count": 117,
   "metadata": {
    "collapsed": false
   },
   "outputs": [
    {
     "data": {
      "text/plain": [
       "Z    1015\n",
       "C      94\n",
       "B      65\n",
       "D      46\n",
       "E      41\n",
       "A      22\n",
       "F      21\n",
       "G       5\n",
       "Name: Deck, dtype: int64"
      ]
     },
     "execution_count": 117,
     "metadata": {},
     "output_type": "execute_result"
    }
   ],
   "source": [
    "df.Deck.value_counts()"
   ]
  },
  {
   "cell_type": "code",
   "execution_count": 121,
   "metadata": {
    "collapsed": false
   },
   "outputs": [
    {
     "data": {
      "text/html": [
       "<div>\n",
       "<table border=\"1\" class=\"dataframe\">\n",
       "  <thead>\n",
       "    <tr style=\"text-align: right;\">\n",
       "      <th>Deck</th>\n",
       "      <th>A</th>\n",
       "      <th>B</th>\n",
       "      <th>C</th>\n",
       "      <th>D</th>\n",
       "      <th>E</th>\n",
       "      <th>F</th>\n",
       "      <th>G</th>\n",
       "      <th>Z</th>\n",
       "    </tr>\n",
       "    <tr>\n",
       "      <th>Survived</th>\n",
       "      <th></th>\n",
       "      <th></th>\n",
       "      <th></th>\n",
       "      <th></th>\n",
       "      <th></th>\n",
       "      <th></th>\n",
       "      <th></th>\n",
       "      <th></th>\n",
       "    </tr>\n",
       "  </thead>\n",
       "  <tbody>\n",
       "    <tr>\n",
       "      <th>0</th>\n",
       "      <td>8</td>\n",
       "      <td>12</td>\n",
       "      <td>24</td>\n",
       "      <td>8</td>\n",
       "      <td>8</td>\n",
       "      <td>5</td>\n",
       "      <td>2</td>\n",
       "      <td>482</td>\n",
       "    </tr>\n",
       "    <tr>\n",
       "      <th>1</th>\n",
       "      <td>7</td>\n",
       "      <td>35</td>\n",
       "      <td>35</td>\n",
       "      <td>25</td>\n",
       "      <td>24</td>\n",
       "      <td>8</td>\n",
       "      <td>2</td>\n",
       "      <td>206</td>\n",
       "    </tr>\n",
       "  </tbody>\n",
       "</table>\n",
       "</div>"
      ],
      "text/plain": [
       "Deck      A   B   C   D   E  F  G    Z\n",
       "Survived                              \n",
       "0         8  12  24   8   8  5  2  482\n",
       "1         7  35  35  25  24  8  2  206"
      ]
     },
     "execution_count": 121,
     "metadata": {},
     "output_type": "execute_result"
    }
   ],
   "source": [
    "  pd.crosstab(df[df.Survived != -888].Survived, df[df.Survived != -888].Deck)"
   ]
  },
  {
   "cell_type": "code",
   "execution_count": 122,
   "metadata": {
    "collapsed": false
   },
   "outputs": [
    {
     "name": "stdout",
     "output_type": "stream",
     "text": [
      "<class 'pandas.core.frame.DataFrame'>\n",
      "Int64Index: 1309 entries, 1 to 1309\n",
      "Data columns (total 17 columns):\n",
      "Age           1309 non-null float64\n",
      "Cabin         294 non-null object\n",
      "Embarked      1309 non-null object\n",
      "Fare          1309 non-null float64\n",
      "Name          1309 non-null object\n",
      "Parch         1309 non-null int64\n",
      "Pclass        1309 non-null int64\n",
      "Sex           1309 non-null object\n",
      "SibSp         1309 non-null int64\n",
      "Survived      1309 non-null int64\n",
      "Ticket        1309 non-null object\n",
      "Title         1309 non-null object\n",
      "Fare_Bin      1309 non-null category\n",
      "AgeState      1309 non-null object\n",
      "FamilySize    1309 non-null int64\n",
      "IsMother      1309 non-null int64\n",
      "Deck          1309 non-null object\n",
      "dtypes: category(1), float64(2), int64(6), object(8)\n",
      "memory usage: 175.2+ KB\n"
     ]
    }
   ],
   "source": [
    "df.info()"
   ]
  },
  {
   "cell_type": "markdown",
   "metadata": {},
   "source": [
    "  ### Categorical Feature Encoding\n",
    "  "
   ]
  },
  {
   "cell_type": "code",
   "execution_count": 123,
   "metadata": {
    "collapsed": true
   },
   "outputs": [],
   "source": [
    "df['IsMale'] = np.where(df.Sex =='male',1,0)"
   ]
  },
  {
   "cell_type": "code",
   "execution_count": 124,
   "metadata": {
    "collapsed": true
   },
   "outputs": [],
   "source": [
    "df = pd.get_dummies(df, columns=['Deck', 'Pclass','Title','Fare_Bin','Embarked','AgeState'])"
   ]
  },
  {
   "cell_type": "code",
   "execution_count": 125,
   "metadata": {
    "collapsed": false
   },
   "outputs": [
    {
     "name": "stdout",
     "output_type": "stream",
     "text": [
      "<class 'pandas.core.frame.DataFrame'>\n",
      "Int64Index: 1309 entries, 1 to 1309\n",
      "Data columns (total 39 columns):\n",
      "Age                   1309 non-null float64\n",
      "Cabin                 294 non-null object\n",
      "Fare                  1309 non-null float64\n",
      "Name                  1309 non-null object\n",
      "Parch                 1309 non-null int64\n",
      "Sex                   1309 non-null object\n",
      "SibSp                 1309 non-null int64\n",
      "Survived              1309 non-null int64\n",
      "Ticket                1309 non-null object\n",
      "FamilySize            1309 non-null int64\n",
      "IsMother              1309 non-null int64\n",
      "IsMale                1309 non-null int64\n",
      "Deck_A                1309 non-null float64\n",
      "Deck_B                1309 non-null float64\n",
      "Deck_C                1309 non-null float64\n",
      "Deck_D                1309 non-null float64\n",
      "Deck_E                1309 non-null float64\n",
      "Deck_F                1309 non-null float64\n",
      "Deck_G                1309 non-null float64\n",
      "Deck_Z                1309 non-null float64\n",
      "Pclass_1              1309 non-null float64\n",
      "Pclass_2              1309 non-null float64\n",
      "Pclass_3              1309 non-null float64\n",
      "Title_Lady            1309 non-null float64\n",
      "Title_Master          1309 non-null float64\n",
      "Title_Miss            1309 non-null float64\n",
      "Title_Mr              1309 non-null float64\n",
      "Title_Mrs             1309 non-null float64\n",
      "Title_Officer         1309 non-null float64\n",
      "Title_Sir             1309 non-null float64\n",
      "Fare_Bin_very_low     1309 non-null float64\n",
      "Fare_Bin_low          1309 non-null float64\n",
      "Fare_Bin_high         1309 non-null float64\n",
      "Fare_Bin_very_high    1309 non-null float64\n",
      "Embarked_C            1309 non-null float64\n",
      "Embarked_Q            1309 non-null float64\n",
      "Embarked_S            1309 non-null float64\n",
      "AgeState_Adult        1309 non-null float64\n",
      "AgeState_Child        1309 non-null float64\n",
      "dtypes: float64(29), int64(6), object(4)\n",
      "memory usage: 409.1+ KB\n",
      "None\n"
     ]
    }
   ],
   "source": [
    "print df.info()"
   ]
  },
  {
   "cell_type": "markdown",
   "metadata": {},
   "source": [
    " ### Drop and Reorder Columns"
   ]
  },
  {
   "cell_type": "code",
   "execution_count": 126,
   "metadata": {
    "collapsed": true
   },
   "outputs": [],
   "source": [
    "df.drop(['Cabin','Name','Ticket','Parch','SibSp','Sex'], axis=1, inplace=True)"
   ]
  },
  {
   "cell_type": "code",
   "execution_count": 127,
   "metadata": {
    "collapsed": true
   },
   "outputs": [],
   "source": [
    "#reorder columns\n",
    "columns = [column for column in df.columns if column != 'Survived']\n",
    "columns = ['Survived'] + columns\n",
    "df = df[columns]"
   ]
  },
  {
   "cell_type": "code",
   "execution_count": 128,
   "metadata": {
    "collapsed": false
   },
   "outputs": [
    {
     "name": "stdout",
     "output_type": "stream",
     "text": [
      "<class 'pandas.core.frame.DataFrame'>\n",
      "Int64Index: 1309 entries, 1 to 1309\n",
      "Data columns (total 33 columns):\n",
      "Survived              1309 non-null int64\n",
      "Age                   1309 non-null float64\n",
      "Fare                  1309 non-null float64\n",
      "FamilySize            1309 non-null int64\n",
      "IsMother              1309 non-null int64\n",
      "IsMale                1309 non-null int64\n",
      "Deck_A                1309 non-null float64\n",
      "Deck_B                1309 non-null float64\n",
      "Deck_C                1309 non-null float64\n",
      "Deck_D                1309 non-null float64\n",
      "Deck_E                1309 non-null float64\n",
      "Deck_F                1309 non-null float64\n",
      "Deck_G                1309 non-null float64\n",
      "Deck_Z                1309 non-null float64\n",
      "Pclass_1              1309 non-null float64\n",
      "Pclass_2              1309 non-null float64\n",
      "Pclass_3              1309 non-null float64\n",
      "Title_Lady            1309 non-null float64\n",
      "Title_Master          1309 non-null float64\n",
      "Title_Miss            1309 non-null float64\n",
      "Title_Mr              1309 non-null float64\n",
      "Title_Mrs             1309 non-null float64\n",
      "Title_Officer         1309 non-null float64\n",
      "Title_Sir             1309 non-null float64\n",
      "Fare_Bin_very_low     1309 non-null float64\n",
      "Fare_Bin_low          1309 non-null float64\n",
      "Fare_Bin_high         1309 non-null float64\n",
      "Fare_Bin_very_high    1309 non-null float64\n",
      "Embarked_C            1309 non-null float64\n",
      "Embarked_Q            1309 non-null float64\n",
      "Embarked_S            1309 non-null float64\n",
      "AgeState_Adult        1309 non-null float64\n",
      "AgeState_Child        1309 non-null float64\n",
      "dtypes: float64(29), int64(4)\n",
      "memory usage: 347.7 KB\n"
     ]
    }
   ],
   "source": [
    "df.info()"
   ]
  },
  {
   "cell_type": "markdown",
   "metadata": {},
   "source": [
    "### Save Processed Dataset"
   ]
  },
  {
   "cell_type": "code",
   "execution_count": 130,
   "metadata": {
    "collapsed": false
   },
   "outputs": [],
   "source": [
    "processed_data_path = os.path.join(os.path.pardir,'data','processed')\n",
    "write_train_path = os.path.join(processed_data_path,'train.csv')\n",
    "write_test_path = os.path.join(processed_data_path,'test.csv')"
   ]
  },
  {
   "cell_type": "code",
   "execution_count": 131,
   "metadata": {
    "collapsed": true
   },
   "outputs": [],
   "source": [
    "#train data\n",
    "df.loc[df.Survived != -888].to_csv(write_train_path)\n",
    "#test data\n",
    "columns = [column for column in df.columns if column !='Survived']\n",
    "df.loc[df.Survived == -888].to_csv(write_test_path)"
   ]
  },
  {
   "cell_type": "markdown",
   "metadata": {},
   "source": [
    "### Building the data processing script"
   ]
  },
  {
   "cell_type": "markdown",
   "metadata": {},
   "source": [
    " "
   ]
  },
  {
   "cell_type": "code",
   "execution_count": null,
   "metadata": {
    "collapsed": true
   },
   "outputs": [],
   "source": []
  },
  {
   "cell_type": "code",
   "execution_count": null,
   "metadata": {
    "collapsed": true
   },
   "outputs": [],
   "source": []
  },
  {
   "cell_type": "markdown",
   "metadata": {},
   "source": [
    "### Advanced Visualization using MatPlotlib\n"
   ]
  },
  {
   "cell_type": "code",
   "execution_count": 132,
   "metadata": {
    "collapsed": true
   },
   "outputs": [],
   "source": [
    "import matplotlib.pyplot as plt\n",
    "%matplotlib inline"
   ]
  },
  {
   "cell_type": "code",
   "execution_count": 133,
   "metadata": {
    "collapsed": false
   },
   "outputs": [
    {
     "data": {
      "text/plain": [
       "(array([  80.,   62.,  324.,  426.,  189.,  108.,   66.,   41.,   10.,    3.]),\n",
       " array([  0.17 ,   8.153,  16.136,  24.119,  32.102,  40.085,  48.068,\n",
       "         56.051,  64.034,  72.017,  80.   ]),\n",
       " <a list of 10 Patch objects>)"
      ]
     },
     "execution_count": 133,
     "metadata": {},
     "output_type": "execute_result"
    },
    {
     "data": {
      "image/png": "[encoded data removed]",
      "text/plain": [
       "<matplotlib.figure.Figure at 0x7f8f8b7abd90>"
      ]
     },
     "metadata": {},
     "output_type": "display_data"
    }
   ],
   "source": [
    "plt.hist(df.Age)"
   ]
  },
  {
   "cell_type": "code",
   "execution_count": 134,
   "metadata": {
    "collapsed": false
   },
   "outputs": [
    {
     "data": {
      "image/png": "[encoded data removed]",
      "text/plain": [
       "<matplotlib.figure.Figure at 0x7f8f7f79cfd0>"
      ]
     },
     "metadata": {},
     "output_type": "display_data"
    }
   ],
   "source": [
    "plt.hist(df.Age, bins=20, color='c')\n",
    "plt.show()"
   ]
  },
  {
   "cell_type": "code",
   "execution_count": 135,
   "metadata": {
    "collapsed": false
   },
   "outputs": [
    {
     "data": {
      "image/png": "[encoded data removed]",
      "text/plain": [
       "<matplotlib.figure.Figure at 0x7f8f7f1ace50>"
      ]
     },
     "metadata": {},
     "output_type": "display_data"
    }
   ],
   "source": [
    "plt.hist(df.Age, bins=20, color='c')\n",
    "plt.title('Histogram : Age')\n",
    "plt.xlabel('Bins')\n",
    "plt.ylabel('Counts')\n",
    "plt.show()"
   ]
  },
  {
   "cell_type": "code",
   "execution_count": 137,
   "metadata": {
    "collapsed": false
   },
   "outputs": [
    {
     "data": {
      "image/png": "[encoded data removed]",
      "text/plain": [
       "<matplotlib.figure.Figure at 0x7f8f7f3b8510>"
      ]
     },
     "metadata": {},
     "output_type": "display_data"
    }
   ],
   "source": [
    "f, ax = plt.subplots()\n",
    "ax.hist(df.Age, bins=20, color='c')\n",
    "ax.set_title('Histogram : Age')\n",
    "ax.set_xlabel('Bins')\n",
    "ax.set_ylabel('Counts')\n",
    "plt.show()"
   ]
  },
  {
   "cell_type": "code",
   "execution_count": 139,
   "metadata": {
    "collapsed": false
   },
   "outputs": [
    {
     "data": {
      "image/png": "[encoded data removed]",
      "text/plain": [
       "<matplotlib.figure.Figure at 0x7f8f7f0ff1d0>"
      ]
     },
     "metadata": {},
     "output_type": "display_data"
    }
   ],
   "source": [
    "f, (ax1, ax2) = plt.subplots(1,2, figsize=(14,3))\n",
    "\n",
    "ax1.hist(df.Fare, bins=20, color='c')\n",
    "ax1.set_title('Histogrm : Fare')\n",
    "ax1.set_xlabel('Bins')\n",
    "ax1.set_ylabel('Counts')\n",
    "\n",
    "ax2.hist(df.Age, bins = 20, color='tomato')\n",
    "ax2.set_title('Histogram : Age')\n",
    "ax2.set_xlabel('Bins')\n",
    "ax2.set_ylabel('Counts')\n",
    "\n",
    "plt.show()"
   ]
  },
  {
   "cell_type": "code",
   "execution_count": 146,
   "metadata": {
    "collapsed": false
   },
   "outputs": [
    {
     "data": {
      "image/png": "[encoded data removed]",
      "text/plain": [
       "<matplotlib.figure.Figure at 0x7f8f7e806d50>"
      ]
     },
     "metadata": {},
     "output_type": "display_data"
    }
   ],
   "source": [
    "## Adding subplots\n",
    "\n",
    "f , ax_arr = plt.subplots(3,2, figsize=(14,7))\n",
    "\n",
    "ax_arr[0,0].hist(df.Fare, bins=20, color='c')\n",
    "ax_arr[0,0].set_title('Histogram : Fare')\n",
    "ax_arr[0,0].set_xlabel('Bins')\n",
    "ax_arr[0,0].set_ylabel('Counts')\n",
    "\n",
    "\n",
    "\n",
    "ax_arr[0,1].hist(df.Age, bins=20, color='c')\n",
    "ax_arr[0,1].set_title('Histogram : Age')\n",
    "ax_arr[0,1].set_xlabel('Bins')\n",
    "ax_arr[0,1].set_ylabel('Counts')\n",
    "\n",
    "\n",
    "\n",
    "ax_arr[1,0].boxplot(df.Fare.values)\n",
    "ax_arr[1,0].set_title('Boxplot : Fare')\n",
    "ax_arr[1,0].set_xlabel('Fare')\n",
    "ax_arr[1,0].set_ylabel('Fare')\n",
    "\n",
    "\n",
    "ax_arr[1,1].boxplot(df.Age.values)\n",
    "ax_arr[1,1].set_title('Boxplot : Age')\n",
    "ax_arr[1,1].set_xlabel('Age')\n",
    "ax_arr[1,1].set_ylabel('Age')\n",
    "\n",
    "\n",
    "ax_arr[2,0].scatter(df.Age, df.Fare, color='c', alpha = 0.15)\n",
    "ax_arr[2,0].set_title('Scatter Plot : Age')\n",
    "ax_arr[2,0].set_xlabel('Age')\n",
    "ax_arr[2,0].set_ylabel('Fare')\n",
    "\n",
    "ax_arr[2,1].axis('off')\n",
    "plt.tight_layout() \n",
    "\n",
    "plt.show()\n"
   ]
  },
  {
   "cell_type": "code",
   "execution_count": null,
   "metadata": {
    "collapsed": true
   },
   "outputs": [],
   "source": []
  },
  {
   "cell_type": "code",
   "execution_count": null,
   "metadata": {
    "collapsed": true
   },
   "outputs": [],
   "source": []
  },
  {
   "cell_type": "code",
   "execution_count": null,
   "metadata": {
    "collapsed": true
   },
   "outputs": [],
   "source": [
    "\n",
    "\n"
   ]
  },
  {
   "cell_type": "code",
   "execution_count": null,
   "metadata": {
    "collapsed": true
   },
   "outputs": [],
   "source": []
  },
  {
   "cell_type": "code",
   "execution_count": null,
   "metadata": {
    "collapsed": true
   },
   "outputs": [],
   "source": []
  },
  {
   "cell_type": "code",
   "execution_count": null,
   "metadata": {
    "collapsed": true
   },
   "outputs": [],
   "source": [
    "\n",
    "\n"
   ]
  }
 ],
 "metadata": {
  "kernelspec": {
   "display_name": "Python 2",
   "language": "python",
   "name": "python2"
  },
  "language_info": {
   "codemirror_mode": {
    "name": "ipython",
    "version": 2
   },
   "file_extension": ".py",
   "mimetype": "text/x-python",
   "name": "python",
   "nbconvert_exporter": "python",
   "pygments_lexer": "ipython2",
   "version": "2.7.15"
  }
 },
 "nbformat": 4,
 "nbformat_minor": 2
}
