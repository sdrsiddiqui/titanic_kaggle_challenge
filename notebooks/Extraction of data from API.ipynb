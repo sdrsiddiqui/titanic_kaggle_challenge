{
 "cells": [
  {
   "cell_type": "markdown",
   "metadata": {},
   "source": [
    "### import package"
   ]
  },
  {
   "cell_type": "code",
   "execution_count": 2,
   "metadata": {
    "collapsed": true
   },
   "outputs": [],
   "source": [
    "import requests"
   ]
  },
  {
   "cell_type": "code",
   "execution_count": 11,
   "metadata": {
    "collapsed": true
   },
   "outputs": [],
   "source": [
    "url = \"https://opendata.paris.fr/api/v1/console/datasets/1.0/liste_des_sites_des_hotspots_paris_wifi/\""
   ]
  },
  {
   "cell_type": "code",
   "execution_count": 12,
   "metadata": {
    "collapsed": false
   },
   "outputs": [],
   "source": [
    "result = requests.get(url)"
   ]
  },
  {
   "cell_type": "code",
   "execution_count": 13,
   "metadata": {
    "collapsed": false
   },
   "outputs": [
    {
     "data": {
      "text/plain": [
       "200"
      ]
     },
     "execution_count": 13,
     "metadata": {},
     "output_type": "execute_result"
    }
   ],
   "source": [
    "result.status_code"
   ]
  },
  {
   "cell_type": "code",
   "execution_count": 14,
   "metadata": {
    "collapsed": false
   },
   "outputs": [
    {
     "data": {
      "text/plain": [
       "{'X-XSS-Protection': '1; mode=block', 'Content-Security-Policy': \"frame-ancestors 'none', upgrade-insecure-requests\", 'Content-Language': 'fr', 'Content-Encoding': 'gzip', 'Transfer-Encoding': 'chunked', 'Set-Cookie': 'csrftoken=ZlHMwup0mpxznWk0hO2ZffpykUv6qPDqwZsM5rR1zIeyTGSEQ0q2WsvPSmVpU06m; expires=Mon, 10-Feb-2020 11:17:27 GMT; Max-Age=31449600; Path=/; secure', 'Strict-Transport-Security': 'max-age=15778800', 'Vary': 'Cookie, Accept-Language, Host', 'Server': 'nginx', 'X-Content-Type-Options': 'nosniff', 'Connection': 'keep-alive', 'X-UA-Compatible': 'IE=edge', 'Date': 'Mon, 11 Feb 2019 11:17:27 GMT', 'X-Frame-Options': 'DENY', 'Referrer-Policy': 'strict-origin-when-cross-origin', 'Content-Type': 'text/html; charset=utf-8'}"
      ]
     },
     "execution_count": 14,
     "metadata": {},
     "output_type": "execute_result"
    }
   ],
   "source": [
    "result.headers\n"
   ]
  },
  {
   "cell_type": "code",
   "execution_count": 15,
   "metadata": {
    "collapsed": false
   },
   "outputs": [
    {
     "data": {
      "text/plain": [
       "u'\\n<!DOCTYPE html>\\n<html lang=\"fr\">\\n    <head>\\n    \\n\\n    \\n        <title>Console API &mdash; Open Data Paris</title>\\n        <link rel=\"stylesheet\" type=\"text/css\" href=\"/static/vendor/font-awesome-4.7.0/css/font-awesome.min.css\">\\n        <link rel=\"stylesheet\" type=\"text/css\" href=\"/static/vendor/normalize/normalize.css\">\\n        <link rel=\"stylesheet\" href=\"/static/pictos/odsui/odsui.css\" type=\"text/css\">\\n\\n        <meta charset=\"UTF-8\"/>\\n        <meta name=\"viewport\" content=\"width=device-width, initial-scale=1.0\">\\n        <meta http-equiv=\"Content-Language\" content=\"fr\">\\n        <meta http-equiv=\"X-UA-Compatible\" content=\"IE=edge\">\\n        <link rel=\"shortcut icon\" href=\"https://s3-eu-west-1.amazonaws.com/aws-ec2-eu-1-opendatasoft-staticfileset/parisdata/favicon\">\\n\\n        <!--[if lte IE 9]>\\n            <script>\\n            // Stub the console object to avoid accidental leftover logs breaking IE <=9\\n            if (!window.console) window.console = {};\\n            if (!window.console.log) window.console.log = function () { };\\n            </script>\\n            <script src=\"/static/vendor/base64-polyfill/base64.min.js\" type=\"text/javascript\"></script>\\n        <![endif]-->\\n    \\n\\n    \\n    \\n\\n    \\n\\n    \\n    \\n\\n    <link rel=\"stylesheet\" href=\"/static/compressed/css/3e3a9fc0272c.css\" type=\"text/css\" />\\n\\n    <link rel=\"stylesheet\" type=\"text/css\" href=\"https://s3-eu-west-1.amazonaws.com/aws-ec2-eu-1-opendatasoft-staticfileset/parisdata/stylesheet/6.css\">\\n\\n    \\n    <base href=\"/api/v1/console/#\" />\\n\\n        \\n    \\n<script type=\"text/javascript\">\\n    (function(i,s,o,g,r,a,m){i[\\'GoogleAnalyticsObject\\']=r;i[r]=i[r]||function(){\\n    (i[r].q=i[r].q||[]).push(arguments)},i[r].l=1*new Date();a=s.createElement(o),\\n    m=s.getElementsByTagName(o)[0];a.async=1;a.src=g;m.parentNode.insertBefore(a,m)\\n    })(window,document,\\'script\\',\\'//www.google-analytics.com/analytics.js\\',\\'ga\\');\\n\\n    ga(\\'create\\', \\'UA-41201218-1\\', {\\'name\\': \\'ods\\'});\\n    ga(\\'create\\', \\'UA-75130081-1\\', {\\'name\\': \\'custom\\'});\\n    ga(function() {\\n    var trackers = ga.getAll();\\n    for (var i=0; i<trackers.length; ++i) {\\n        var tracker = trackers[i];\\n        if (tracker.get(\\'name\\') == \\'ods\\') {\\n            tracker.set(\\'dimension1\\', \\'parisdata\\');\\n        }\\n        \\n            \\n        tracker.send(\\'pageview\\');\\n        \\n    }\\n});\\n\\n</script>\\n\\n    </head>\\n    <body class=\"\">\\n        <div class=\"ods-content\">\\n            \\n\\n<header class=\"ng-cloak\">\\n\\n    \\n\\n    \\n        \\n            \\n<nav class=\"ods-front-header\" ods-responsive-menu breakpoint=\"768\">\\n    \\n    <!-- \\n        ---- Mobile View ----\\n        This is what shows in the header when the screen width is lower than \\n        the value inserted in \"breakpoint\" above. \\n        The navigation bar will automatically be inserted behind a \"hamburger\" menu.\\n        Usually this includes a logo that links to the homepage. \\n        Make sure to test the responsive design when editing this.\\n    -->\\n    <ods-responsive-menu-placeholder>\\n        <div class=\"header-gradient\">\\n            <a href=\"/\">\\n                <!-- Mobile Logo -->\\n                <img src=\"/assets/theme_image/header.png\" class=\"header-logo\">\\n            </a>\\n        </div>\\n    </ods-responsive-menu-placeholder>\\n    \\n    <!-- \\n        ---- Desktop View ----\\n        This is what shows when the screen width is beyond the threshold set in \\n        \"breakpoint\". \\n    -->\\n    <ods-responsive-menu-collapsible>\\n        <div class=\"header-gradient\">\\n            <a href=\"/\">\\n                <!-- Page Logo -->\\n                <img src=\"/assets/theme_image/header.png\" class=\"header-logo\">\\n                <!-- Page brand name in text if desired -->\\n            </a>  \\n        </div>\\n            <!-- \\n                - Includes the standard navigation as defined in the \\n                BackOffice > Lookg & Feel > Navigation.\\n                - Includes the \"Management menu\" with the Backoffice, Profile and\\n                Logout buttons.\\n            -->\\n            <div>\\n                \\n<ul class=\"ods-front-header__menu\">\\n    \\n\\n\\n\\n<li ng-non-bindable class=\"ods-front-header__menu-item\">\\n    <a class=\"ods-front-header__menu-item-link\" href=\"/page/home/\">\\n        \\n    </a>\\n</li><li ng-non-bindable class=\"ods-front-header__menu-item\">\\n    <a class=\"ods-front-header__menu-item-link\" href=\"/explore/\">\\n        Les donn\\xe9es\\n    </a>\\n</li><li ng-non-bindable class=\"ods-front-header__menu-item ods-front-header__menu-item--active\">\\n    <a class=\"ods-front-header__menu-item-link ods-front-header__menu-item-link--active\" href=\"/api/\">\\n        L&#39;API\\n    </a>\\n</li><li ng-non-bindable class=\"ods-front-header__menu-item\">\\n    <a class=\"ods-front-header__menu-item-link\" href=\"/page/lalicence\">\\n        La licence\\n    </a>\\n</li><li ng-non-bindable class=\"ods-front-header__menu-item\">\\n    <a class=\"ods-front-header__menu-item-link\" href=\"/page/lademarche\">\\n        La d\\xe9marche\\n    </a>\\n</li><li ng-non-bindable class=\"ods-front-header__menu-item\">\\n    <a class=\"ods-front-header__menu-item-link\" href=\"/map/\">\\n        Cartographe\\n    </a>\\n</li>\\n\\n</ul>\\n                \\n<ul class=\"ods-front-header__management-menu\">\\n\\n    \\n    \\n    <li class=\"ods-front-header__management-menu-item\">\\n        <a class=\"ods-front-header__management-menu-item-link\" href=\"/login/\">\\n            <i class=\"fa fa-sign-in\" aria-hidden=\"true\"></i>\\n            Connexion\\n        </a>\\n    </li>\\n    \\n\\n\\n</ul>\\n\\n            </div>          \\n    </ods-responsive-menu-collapsible>\\n</nav>\\n        \\n    \\n\\n</header>\\n\\n<main class=\"main--api\">\\n    <div class=\"container\">\\n        <div class=\"ods-tabs\">\\n            <div class=\"ods-tabs__tabs\">\\n                <a href=\"/api/v1/console\"\\n                   class=\"ods-tabs__tab ods-tabs__tab--horizontal ods-tabs__tab--active\">\\n                    <i class=\"fa fa-book\" aria-hidden=\"true\"></i> <span>V1</span>\\n                </a>\\n                <a href=\"/api/v2/console\"\\n                   class=\"ods-tabs__tab ods-tabs__tab--horizontal \">\\n                    <i class=\"fa fa-book\" aria-hidden=\"true\"></i> <span>V2 (beta)</span>\\n                </a>\\n            </div>\\n            <div class=\"ods-tabs__pane ods-tabs__pane--active\">\\n                <div class=\"ods-versioned-console-wrapper\">\\n                    \\n    <div class=\"ng-cloak\" ng-app=\"ods.frontend\">\\n                \\n                <div ng-controller=\"ConsoleCtrl\">\\n                    <ods-spinner ng-show=\"pendingRequests.length\"></ods-spinner>\\n                    \\n                    <p class=\"ods-versioned-console__doc-link\">\\n                        Consultez <a href=\"https://help.opendatasoft.com/apis/ods-search-v1/\" target=\"_blank\">la documentation de l\\'API v1 de recherche</a> si vous souhaitez plus d\\'informations.\\n                    </p>\\n                    \\n                    <div ng-class=\"{\\'service-box\\': true, \\'active\\': activeBox == service}\" ng-repeat=\"service in services\">\\n                        <div class=\"service-header clearfix\" ng-click=\"toggleActiveBox(service)\">\\n                            <span class=\"service-label\">{{ service.label }}</span>\\n                            <div class=\"service-techinfo\">\\n                                <span class=\"service-method\">{{ service.method }}</span>\\n                                <span class=\"service-url\">{{ service.url }}</span>\\n                            </div>\\n                        </div>\\n                        <ods-api-console service=\"service\" api=\"api[service.id]\"></ods-api-console>\\n                    </div>\\n                </div>\\n                \\n        </div>\\n\\n\\n                </div>\\n            </div>\\n        </div>\\n    </div>\\n</main>\\n\\n\\n\\n        </div>\\n\\n        <footer>\\n        \\n    \\n            <div class=\"ods-front-footer\">\\n\\t\\n<a href=\"//www.opendatasoft.com\" class=\"ods-front-footer__ods-logo\">\\n    <img src=\"/static/ods/img/opendatasoft-logo.svg\"\\n         class=\"ods-front-footer__ods-logo-img\"\\n         alt=\"OpenDataSoft, data management platform\"/>\\n</a>\\n \\n\\n<a href=\"/terms/terms-and-conditions/\" class=\"ods-front-footer__legal ods-front-footer__link\" target=\"_blank\">\\n    Conditions d\\'utilisation\\n</a>\\n\\n<a href=\"/terms/privacy-policy/\" class=\"ods-front-footer__legal ods-front-footer__link\" target=\"_blank\">\\n    Politique de confidentialit\\xe9\\n</a>\\n \\n\\n\\n\\n \\n</div>\\n    \\n\\n        </footer>\\n        <script type=\"text/javascript\" src=\"/static/compressed/js/44d5e84a4730.js\"></script>\\n\\n        <script type=\"text/javascript\" src=\"/static/compressed/js/caa3ec9396ff.js\"></script>\\n\\n        <script type=\"text/javascript\">\\n            var app = angular.module(\\'ods.core.config\\', []);\\n\\n            \\n            app.factory(\"domainConfig\", [function() {\\n                return {\"languages\": [\"fr\"], \"explore.reuse\": true, \"explore.dataset_catalog_separate_languages\": null, \"explore.disable_analyze\": null, \"explore.enable_api_tab\": true};\\n            }]);\\n            \\n\\n            app.factory(\"config\", [function() {\\n                return {\\n                    DATASET_ID: \\'\\',\\n                    LANGUAGE: \\'fr\\',\\n                    AVAILABLE_LANGUAGES: [\"fr\"],\\n                    USER: null,\\n                    FQ_USERNAME: null,\\n                    BRAND_HOSTNAME: \"opendatasoft.com\",\\n                    DEFAULT_BASEMAP: {\"jawg_apikey\": \"4cKtE4Rze1HrvxWa9a7mdolSk10lVThTFC8zadQYMIMxTjkpTeIDJAAmhReDGnCH\", \"jawg_odsdomain\": \"parisdata\", \"provider\": \"jawg.streets\"},\\n                \\n                    DOMAIN_ID: \\'parisdata\\',\\n                    ANONYMOUS_ACCESS_ENABLED: \\'true\\',\\n                    FEEDBACK: true,\\n                    RESOURCE_DOWNLOAD_CONDITIONS: false,\\n                    PARENT_DOMAIN: true,\\n                    \\n                    HAS_RELATED_DOMAINS: true,\\n                    \\n                    MINUTE_LEVEL_SCHEDULING: true,\\n                    CATALOG_SEARCH_BOOSTING_ENABLED: false,\\n                \\n                    CENTRALSTORE: true,\\n                    FORCE_DEBUG_LOGGER: false,\\n                    RECAPTCHA_PUBLIC_KEY: \\'6LflroEUAAAAAH1LD8LksjNLDrYFfDp1_bf-D_RD\\',\\n                    REQUEST_ID: \\'44c851c334c0c0869659f6f331ae3c95\\',\\n                    CSRF_TOKEN: \"<input type=\\'hidden\\' name=\\'csrfmiddlewaretoken\\' value=\\'VgwK4SrD9xVbxj1dv8Ltqv8bo4oaFceqsUhKDPTEmQCa33zR4k9w7IesWwOt9nHm\\' />\"\\n                }\\n            }]);\\n        </script>\\n\\n        <script type=\"text/javascript\" src=\"/static/compressed/js/89d933025576.js\"></script>\\n\\n        \\n\\n\\n        \\n\\n\\n        <script src=\"/static/ods/js/supported-browsers-message.js\" type=\"text/javascript\"></script>\\n\\n        \\n    \\n    \\n\\n    <script type=\"text/javascript\" src=\"/static/compressed/js/96bdc3ef47a0.js\"></script>\\n\\n    <script type=\"text/javascript\" src=\"/static/compressed/js/39521f0977bb.js\"></script>\\n\\n\\n    <script type=\"text/javascript\" src=\"/static/compressed/js/fb0bc8b905a3.js\"></script>\\n\\n    </body>\\n</html>\\n'"
      ]
     },
     "execution_count": 15,
     "metadata": {},
     "output_type": "execute_result"
    }
   ],
   "source": [
    "result.text"
   ]
  },
  {
   "cell_type": "code",
   "execution_count": 18,
   "metadata": {
    "collapsed": false
   },
   "outputs": [
    {
     "ename": "ValueError",
     "evalue": "No JSON object could be decoded",
     "output_type": "error",
     "traceback": [
      "\u001b[1;31m---------------------------------------------------------------------------\u001b[0m",
      "\u001b[1;31mValueError\u001b[0m                                Traceback (most recent call last)",
      "\u001b[1;32m<ipython-input-18-180c2a4b335d>\u001b[0m in \u001b[0;36m<module>\u001b[1;34m()\u001b[0m\n\u001b[1;32m----> 1\u001b[1;33m \u001b[0mresult\u001b[0m\u001b[1;33m.\u001b[0m\u001b[0mjson\u001b[0m\u001b[1;33m(\u001b[0m\u001b[1;33m)\u001b[0m\u001b[1;33m\u001b[0m\u001b[0m\n\u001b[0m",
      "\u001b[1;32m/home/ds/anaconda2/lib/python2.7/site-packages/requests/models.pyc\u001b[0m in \u001b[0;36mjson\u001b[1;34m(self, **kwargs)\u001b[0m\n\u001b[0;32m    895\u001b[0m                     \u001b[1;31m# used.\u001b[0m\u001b[1;33m\u001b[0m\u001b[1;33m\u001b[0m\u001b[0m\n\u001b[0;32m    896\u001b[0m                     \u001b[1;32mpass\u001b[0m\u001b[1;33m\u001b[0m\u001b[0m\n\u001b[1;32m--> 897\u001b[1;33m         \u001b[1;32mreturn\u001b[0m \u001b[0mcomplexjson\u001b[0m\u001b[1;33m.\u001b[0m\u001b[0mloads\u001b[0m\u001b[1;33m(\u001b[0m\u001b[0mself\u001b[0m\u001b[1;33m.\u001b[0m\u001b[0mtext\u001b[0m\u001b[1;33m,\u001b[0m \u001b[1;33m**\u001b[0m\u001b[0mkwargs\u001b[0m\u001b[1;33m)\u001b[0m\u001b[1;33m\u001b[0m\u001b[0m\n\u001b[0m\u001b[0;32m    898\u001b[0m \u001b[1;33m\u001b[0m\u001b[0m\n\u001b[0;32m    899\u001b[0m     \u001b[1;33m@\u001b[0m\u001b[0mproperty\u001b[0m\u001b[1;33m\u001b[0m\u001b[0m\n",
      "\u001b[1;32m/home/ds/anaconda2/lib/python2.7/json/__init__.pyc\u001b[0m in \u001b[0;36mloads\u001b[1;34m(s, encoding, cls, object_hook, parse_float, parse_int, parse_constant, object_pairs_hook, **kw)\u001b[0m\n\u001b[0;32m    337\u001b[0m             \u001b[0mparse_int\u001b[0m \u001b[1;32mis\u001b[0m \u001b[0mNone\u001b[0m \u001b[1;32mand\u001b[0m \u001b[0mparse_float\u001b[0m \u001b[1;32mis\u001b[0m \u001b[0mNone\u001b[0m \u001b[1;32mand\u001b[0m\u001b[1;33m\u001b[0m\u001b[0m\n\u001b[0;32m    338\u001b[0m             parse_constant is None and object_pairs_hook is None and not kw):\n\u001b[1;32m--> 339\u001b[1;33m         \u001b[1;32mreturn\u001b[0m \u001b[0m_default_decoder\u001b[0m\u001b[1;33m.\u001b[0m\u001b[0mdecode\u001b[0m\u001b[1;33m(\u001b[0m\u001b[0ms\u001b[0m\u001b[1;33m)\u001b[0m\u001b[1;33m\u001b[0m\u001b[0m\n\u001b[0m\u001b[0;32m    340\u001b[0m     \u001b[1;32mif\u001b[0m \u001b[0mcls\u001b[0m \u001b[1;32mis\u001b[0m \u001b[0mNone\u001b[0m\u001b[1;33m:\u001b[0m\u001b[1;33m\u001b[0m\u001b[0m\n\u001b[0;32m    341\u001b[0m         \u001b[0mcls\u001b[0m \u001b[1;33m=\u001b[0m \u001b[0mJSONDecoder\u001b[0m\u001b[1;33m\u001b[0m\u001b[0m\n",
      "\u001b[1;32m/home/ds/anaconda2/lib/python2.7/json/decoder.pyc\u001b[0m in \u001b[0;36mdecode\u001b[1;34m(self, s, _w)\u001b[0m\n\u001b[0;32m    362\u001b[0m \u001b[1;33m\u001b[0m\u001b[0m\n\u001b[0;32m    363\u001b[0m         \"\"\"\n\u001b[1;32m--> 364\u001b[1;33m         \u001b[0mobj\u001b[0m\u001b[1;33m,\u001b[0m \u001b[0mend\u001b[0m \u001b[1;33m=\u001b[0m \u001b[0mself\u001b[0m\u001b[1;33m.\u001b[0m\u001b[0mraw_decode\u001b[0m\u001b[1;33m(\u001b[0m\u001b[0ms\u001b[0m\u001b[1;33m,\u001b[0m \u001b[0midx\u001b[0m\u001b[1;33m=\u001b[0m\u001b[0m_w\u001b[0m\u001b[1;33m(\u001b[0m\u001b[0ms\u001b[0m\u001b[1;33m,\u001b[0m \u001b[1;36m0\u001b[0m\u001b[1;33m)\u001b[0m\u001b[1;33m.\u001b[0m\u001b[0mend\u001b[0m\u001b[1;33m(\u001b[0m\u001b[1;33m)\u001b[0m\u001b[1;33m)\u001b[0m\u001b[1;33m\u001b[0m\u001b[0m\n\u001b[0m\u001b[0;32m    365\u001b[0m         \u001b[0mend\u001b[0m \u001b[1;33m=\u001b[0m \u001b[0m_w\u001b[0m\u001b[1;33m(\u001b[0m\u001b[0ms\u001b[0m\u001b[1;33m,\u001b[0m \u001b[0mend\u001b[0m\u001b[1;33m)\u001b[0m\u001b[1;33m.\u001b[0m\u001b[0mend\u001b[0m\u001b[1;33m(\u001b[0m\u001b[1;33m)\u001b[0m\u001b[1;33m\u001b[0m\u001b[0m\n\u001b[0;32m    366\u001b[0m         \u001b[1;32mif\u001b[0m \u001b[0mend\u001b[0m \u001b[1;33m!=\u001b[0m \u001b[0mlen\u001b[0m\u001b[1;33m(\u001b[0m\u001b[0ms\u001b[0m\u001b[1;33m)\u001b[0m\u001b[1;33m:\u001b[0m\u001b[1;33m\u001b[0m\u001b[0m\n",
      "\u001b[1;32m/home/ds/anaconda2/lib/python2.7/json/decoder.pyc\u001b[0m in \u001b[0;36mraw_decode\u001b[1;34m(self, s, idx)\u001b[0m\n\u001b[0;32m    380\u001b[0m             \u001b[0mobj\u001b[0m\u001b[1;33m,\u001b[0m \u001b[0mend\u001b[0m \u001b[1;33m=\u001b[0m \u001b[0mself\u001b[0m\u001b[1;33m.\u001b[0m\u001b[0mscan_once\u001b[0m\u001b[1;33m(\u001b[0m\u001b[0ms\u001b[0m\u001b[1;33m,\u001b[0m \u001b[0midx\u001b[0m\u001b[1;33m)\u001b[0m\u001b[1;33m\u001b[0m\u001b[0m\n\u001b[0;32m    381\u001b[0m         \u001b[1;32mexcept\u001b[0m \u001b[0mStopIteration\u001b[0m\u001b[1;33m:\u001b[0m\u001b[1;33m\u001b[0m\u001b[0m\n\u001b[1;32m--> 382\u001b[1;33m             \u001b[1;32mraise\u001b[0m \u001b[0mValueError\u001b[0m\u001b[1;33m(\u001b[0m\u001b[1;34m\"No JSON object could be decoded\"\u001b[0m\u001b[1;33m)\u001b[0m\u001b[1;33m\u001b[0m\u001b[0m\n\u001b[0m\u001b[0;32m    383\u001b[0m         \u001b[1;32mreturn\u001b[0m \u001b[0mobj\u001b[0m\u001b[1;33m,\u001b[0m \u001b[0mend\u001b[0m\u001b[1;33m\u001b[0m\u001b[0m\n",
      "\u001b[1;31mValueError\u001b[0m: No JSON object could be decoded"
     ]
    }
   ],
   "source": [
    "result.json()"
   ]
  },
  {
   "cell_type": "code",
   "execution_count": null,
   "metadata": {
    "collapsed": true
   },
   "outputs": [],
   "source": []
  }
 ],
 "metadata": {
  "kernelspec": {
   "display_name": "Python 2",
   "language": "python",
   "name": "python2"
  },
  "language_info": {
   "codemirror_mode": {
    "name": "ipython",
    "version": 2
   },
   "file_extension": ".py",
   "mimetype": "text/x-python",
   "name": "python",
   "nbconvert_exporter": "python",
   "pygments_lexer": "ipython2",
   "version": "2.7.15"
  }
 },
 "nbformat": 4,
 "nbformat_minor": 0
}
